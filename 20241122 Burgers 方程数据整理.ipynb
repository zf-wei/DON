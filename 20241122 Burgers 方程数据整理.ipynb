{
 "cells": [
  {
   "metadata": {
    "ExecuteTime": {
     "end_time": "2024-11-22T22:33:00.838874Z",
     "start_time": "2024-11-22T22:33:00.502416Z"
    }
   },
   "cell_type": "code",
   "source": [
    "from scipy.io import loadmat\n",
    "\n",
    "precision = 0.0001\n",
    "\n",
    "# Path to your .mat file\n",
    "file_path = f'data/Burgers_{precision}.mat'\n",
    "\n",
    "# Load the .mat file\n",
    "data = loadmat(file_path)\n",
    "\n",
    "# Explore the contents\n",
    "print(data.keys())  # Shows variable names in the file\n",
    "\n",
    "# Access a specific variable (replace 'variable_name' with the actual name)\n",
    "#variable = data['variable_name']\n",
    "#print(variable)\n",
    "initials  = data['input']\n",
    "solutions = data['output']"
   ],
   "id": "3268f2917c2b519",
   "outputs": [
    {
     "name": "stdout",
     "output_type": "stream",
     "text": [
      "dict_keys(['__header__', '__version__', '__globals__', 'gamma', 'input', 'output', 'sigma', 'tau', 'tspan'])\n"
     ]
    }
   ],
   "execution_count": 7
  },
  {
   "metadata": {
    "ExecuteTime": {
     "end_time": "2024-11-22T22:33:01.007074Z",
     "start_time": "2024-11-22T22:33:00.854414Z"
    }
   },
   "cell_type": "code",
   "source": [
    "import os\n",
    "import numpy as np\n",
    "\n",
    "save_directory = os.path.join(os.getcwd(), 'data')\n",
    "file_name = f'burgers_solutions_{precision}_101.npy'\n",
    "# Define the file path\n",
    "file_path = os.path.join(save_directory, file_name)\n",
    "# Save the random functions to the file\n",
    "np.save(file_path, solutions)\n",
    "print(f'solution file saved to: {file_path}')\n",
    "\n",
    "file_name = f'burgers_initials_{precision}_101.npy'\n",
    "# Define the file path\n",
    "file_path = os.path.join(save_directory, file_name)\n",
    "# Save the random functions to the file\n",
    "np.save(file_path, initials)\n",
    "print(f'initial file saved to: {file_path}')"
   ],
   "id": "dcffea4ba5178f94",
   "outputs": [
    {
     "name": "stdout",
     "output_type": "stream",
     "text": [
      "solution file saved to: C:\\Users\\weiz828\\DON\\data\\burgers_solutions_0.0001_101.npy\n",
      "initial file saved to: C:\\Users\\weiz828\\DON\\data\\burgers_initials_0.0001_101.npy\n"
     ]
    }
   ],
   "execution_count": 8
  }
 ],
 "metadata": {
  "kernelspec": {
   "display_name": "Python 3",
   "language": "python",
   "name": "python3"
  },
  "language_info": {
   "codemirror_mode": {
    "name": "ipython",
    "version": 2
   },
   "file_extension": ".py",
   "mimetype": "text/x-python",
   "name": "python",
   "nbconvert_exporter": "python",
   "pygments_lexer": "ipython2",
   "version": "2.7.6"
  }
 },
 "nbformat": 4,
 "nbformat_minor": 5
}
