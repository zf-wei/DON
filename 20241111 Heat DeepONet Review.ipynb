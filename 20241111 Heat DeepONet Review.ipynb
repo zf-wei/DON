{
 "cells": [
  {
   "cell_type": "code",
   "execution_count": null,
   "id": "ba5e06e528282003",
   "metadata": {},
   "outputs": [],
   "source": [
    "import argparse\n",
    "import os\n",
    "import sys\n",
    "\n",
    "import fipy as fp\n",
    "import numpy as np\n",
    "import torch\n",
    "import torch.nn as nn\n",
    "import torch.optim as optim\n",
    "from torch.utils.data import DataLoader\n",
    "from torch.utils.data import Dataset\n",
    "import matplotlib.pyplot as plt\n",
    "from tqdm.notebook import tqdm\n",
    "\n",
    "'''\n",
    "parser = argparse.ArgumentParser(description=\"DeepONet with configurable parameters.\")\n",
    "parser.add_argument('--var', type=int, default=0, help='Variant of DeepONet')\n",
    "# 解析命令行参数\n",
    "args = parser.parse_args()\n",
    "var = args.var\n",
    "'''\n",
    "var = 1"
   ]
  },
  {
   "cell_type": "code",
   "execution_count": null,
   "id": "e4b132124a0c38b8",
   "metadata": {},
   "outputs": [],
   "source": [
    "# In this cell, we define the configurable parameters for the DeepONet\n",
    "\n",
    "time_limit = 1\n",
    "time_step = 0.01\n",
    "n_points = 50\n",
    "total_time_steps = int(time_limit/time_step)\n",
    "total_sample = 500\n",
    "boundary = int(total_sample*4/5) # 设置训练集和测试集的边界\n",
    "batch_size = 20\n",
    "hidden_dims = [200,200,200,200]\n",
    "output_dim = 50\n",
    "\n",
    "\n",
    "# Hyperparameters\n",
    "branch_input_dim = n_points  # Number of points to represent the original function\n",
    "trunk_input_dim = 2     # Coordinate where we evaluate the transformed function"
   ]
  },
  {
   "cell_type": "code",
   "execution_count": 59,
   "id": "494baac2c1b96444",
   "metadata": {
    "ExecuteTime": {
     "end_time": "2024-11-12T04:07:28.856087Z",
     "start_time": "2024-11-12T04:07:28.849272Z"
    }
   },
   "outputs": [
    {
     "name": "stdout",
     "output_type": "stream",
     "text": [
      "The dimension of y_tensor is torch.Size([5000, 2]).\n",
      "The dimension of y_expanded is torch.Size([500, 5000, 2]) after expanding.\n"
     ]
    }
   ],
   "source": [
    "# In this cell, we define the function to get the cell centers of a 1D mesh. \n",
    "# Also, we set up the spatial and temporal grid points for the training and testing datasets.\n",
    "# This is the so-called y_expanded tensor. \n",
    "def get_cell_centers(time_limit = 1, n_points = 50):\n",
    "    \"\"\"\n",
    "    Get the cell center positions for a 1D mesh with the specified number of grid points.\n",
    "\n",
    "    Parameters:\n",
    "    - n_points: Number of grid points in the spatial domain.\n",
    "\n",
    "    Returns:\n",
    "    - cell_centers: The x-positions of the cell centers.\n",
    "    \"\"\"\n",
    "    L = time_limit  # Length of the domain\n",
    "    dx = L / n_points\n",
    "\n",
    "    # Create a 1D mesh\n",
    "    mesh = fp.Grid1D(nx=n_points, dx=dx)\n",
    "\n",
    "    # Get the cell center positions\n",
    "    cell_centers = mesh.cellCenters[0]  # These are the x-positions of the cell centers\n",
    "    cell_centers = np.array(cell_centers)\n",
    "\n",
    "    return cell_centers\n",
    "\n",
    "# Example usage:\n",
    "cell_centers = get_cell_centers(n_points=n_points)\n",
    "cell_centers = np.around(cell_centers, decimals=2)\n",
    "\n",
    "time_steps = np.arange(time_step, time_limit+time_step, time_step)\n",
    "time_steps = np.around(time_steps, decimals=2)\n",
    "\n",
    "Y1, Y2 = np.meshgrid(cell_centers, time_steps)  # 第一个变量进行行展开，第二个变量进行列展开\n",
    "\n",
    "y = np.column_stack([Y2.ravel(),Y1.ravel()]) \n",
    "# 先将 Y2 和 Y1 进行展开，然后将展开后的两个向量进行列合并\n",
    "\n",
    "y_tensor = torch.tensor(y, dtype=torch.float)\n",
    "print(f\"The dimension of y_tensor is {y_tensor.shape}.\")\n",
    "y_expanded = y_tensor.unsqueeze(0).expand(total_sample, -1, -1)\n",
    "print(f\"The dimension of y_expanded is {y_expanded.shape} after expanding.\")\n",
    "\n"
   ]
  },
  {
   "cell_type": "code",
   "execution_count": 60,
   "id": "97c2618d2af6012",
   "metadata": {
    "ExecuteTime": {
     "end_time": "2024-11-12T04:07:28.956923Z",
     "start_time": "2024-11-12T04:07:28.944134Z"
    }
   },
   "outputs": [
    {
     "name": "stdout",
     "output_type": "stream",
     "text": [
      "The dimensions of the initial conditions are: (500, 50)\n",
      "The dimensions of the solutions are: (500, 100, 50)\n"
     ]
    }
   ],
   "source": [
    "# In this cell, we load the initial conditions and solutions from the saved files.\n",
    "\n",
    "# Define the directory where you want to save the file\n",
    "from pathlib import Path\n",
    "# Get the current directory\n",
    "current_dir = Path.cwd()\n",
    "#data_directory = os.path.join(current_dir.parent, 'data')\n",
    "data_directory = os.path.join(current_dir, 'data')\n",
    "initials_name = f'heat_initials_{len(cell_centers)}.npy'\n",
    "solutions_name = f'heat_solutions_{len(cell_centers)}.npy'\n",
    "\n",
    "# Define the file paths\n",
    "initials_path = os.path.join(data_directory, initials_name)\n",
    "solutions_path = os.path.join(data_directory, solutions_name)\n",
    "\n",
    "# Load the data\n",
    "initials = np.load(initials_path)\n",
    "solutions = np.load(solutions_path)\n",
    "\n",
    "print(f\"The dimensions of the initial conditions are: {initials.shape}\")\n",
    "print(f\"The dimensions of the solutions are: {solutions.shape}\")\n",
    "\n"
   ]
  },
  {
   "cell_type": "code",
   "execution_count": 61,
   "id": "4bd2ad7a59d3c19d",
   "metadata": {
    "ExecuteTime": {
     "end_time": "2024-11-12T04:07:29.080599Z",
     "start_time": "2024-11-12T04:07:29.078014Z"
    }
   },
   "outputs": [
    {
     "name": "stdout",
     "output_type": "stream",
     "text": [
      "The dimension of u_tensor is torch.Size([500, 50]).\n",
      "The dimension of u_expanded is torch.Size([500, 5000, 50]) after expanding.\n"
     ]
    }
   ],
   "source": [
    "# In this cell, we arrange the initial conditions into the desired format for training the DeepONet.\n",
    "# This is the so-called u_expanded tensor.\n",
    "u_tensor = torch.tensor(initials, dtype=torch.float)\n",
    "print(f\"The dimension of u_tensor is {u_tensor.shape}.\")\n",
    "\n",
    "u_expanded = u_tensor.unsqueeze(1) # u_expanded: tensor[total_sample, 1, n_points]\n",
    "u_expanded = u_expanded.expand(-1, total_time_steps*n_points, -1) # u_expanded: tensor[total_sample, total_time_steps*n_points, n_points]\n",
    "print(f\"The dimension of u_expanded is {u_expanded.shape} after expanding.\")\n"
   ]
  },
  {
   "cell_type": "code",
   "execution_count": 62,
   "id": "bc20320d16f0200d",
   "metadata": {
    "ExecuteTime": {
     "end_time": "2024-11-12T04:07:29.366043Z",
     "start_time": "2024-11-12T04:07:29.346901Z"
    }
   },
   "outputs": [
    {
     "name": "stdout",
     "output_type": "stream",
     "text": [
      "The loaded solution dataset has dimension (500, 100, 50),\n",
      "\t while the arranged linearized dataset has dimension (500, 5000).\n",
      "The dimension of s_tensor is torch.Size([500, 5000]).\n",
      "The dimension of s_expanded is torch.Size([500, 5000, 1]) after expanding.\n"
     ]
    }
   ],
   "source": [
    "# In this cell, we arrange the solutions into the desired format for training the DeepONet.\n",
    "# This is the so-called s_expanded tensor.\n",
    "\n",
    "solutions_linear = np.zeros((total_sample, total_time_steps*n_points))\n",
    "\n",
    "for i in range(total_sample):\n",
    "    solutions_linear[i] = solutions[i].flatten()\n",
    "\n",
    "# solutions is a 3D array of shape (total_sample, total_time_steps, n_points)\n",
    "print(f\"The loaded solution dataset has dimension {solutions.shape},\\n\\t while the arranged linearized dataset has dimension {solutions_linear.shape}.\")\n",
    "\n",
    "s_tensor  = torch.tensor(solutions_linear, dtype=torch.float) # s_tensor: tensor[total_sample, total_time_steps*n_points]\n",
    "s_expanded  = s_tensor.unsqueeze(2) # s_expanded: tensor[total_sample, total_time_steps*n_points, 1]\n",
    "\n",
    "print(f\"The dimension of s_tensor is {s_tensor.shape}.\")\n",
    "print(f\"The dimension of s_expanded is {s_expanded.shape} after expanding.\")\n",
    "\n"
   ]
  },
  {
   "cell_type": "code",
   "execution_count": 63,
   "id": "c7fb3d4c0f958ce9",
   "metadata": {
    "ExecuteTime": {
     "end_time": "2024-11-12T04:07:29.573738Z",
     "start_time": "2024-11-12T04:07:29.571009Z"
    }
   },
   "outputs": [],
   "source": [
    "\"\"\"\n",
    "This is the function to well organize the dataset\n",
    "\"\"\"\n",
    "class CustomDataset(Dataset):\n",
    "    def __init__(self, input1_data, input2_data, targets):\n",
    "        self.input1_data = input1_data\n",
    "        self.input2_data = input2_data\n",
    "        self.targets = targets\n",
    "\n",
    "    def __len__(self):\n",
    "        return len(self.input1_data)\n",
    "\n",
    "    def __getitem__(self, idx):\n",
    "        input1 = self.input1_data[idx]\n",
    "        input2 = self.input2_data[idx]\n",
    "        target = self.targets[idx]\n",
    "        return input1, input2, target\n"
   ]
  },
  {
   "cell_type": "code",
   "execution_count": 64,
   "id": "dcdc8073c92892a",
   "metadata": {
    "ExecuteTime": {
     "end_time": "2024-11-12T04:07:29.645291Z",
     "start_time": "2024-11-12T04:07:29.642537Z"
    }
   },
   "outputs": [],
   "source": [
    "train_set = CustomDataset(u_expanded[:boundary], y_expanded[:boundary], s_expanded[:boundary])\n",
    "test_set = CustomDataset(u_expanded[boundary:], y_expanded[boundary:], s_expanded[boundary:])\n",
    "\n",
    "# 创建 DataLoader\n",
    "train_loader = DataLoader(train_set, batch_size=batch_size, shuffle=True, num_workers=1) \n",
    "test_loader = DataLoader(test_set, batch_size=batch_size, shuffle=False, num_workers=1) \n",
    "\n"
   ]
  },
  {
   "cell_type": "code",
   "execution_count": 65,
   "id": "d06e8e2f96a73942",
   "metadata": {
    "ExecuteTime": {
     "end_time": "2024-11-12T04:07:29.826572Z",
     "start_time": "2024-11-12T04:07:29.822804Z"
    }
   },
   "outputs": [],
   "source": [
    "\"\"\"\n",
    "Design DeepONet Components.\n",
    "\"\"\"\n",
    "# Branch Network\n",
    "class BranchNet(nn.Module):\n",
    "    def __init__(self, input_dim, hidden_dims, output_dim):\n",
    "        super(BranchNet, self).__init__()\n",
    "        layers = []\n",
    "        in_dim = input_dim\n",
    "        \n",
    "        # 添加多个隐藏层\n",
    "        for h_dim in hidden_dims:\n",
    "            layers.append(nn.Linear(in_dim, h_dim))\n",
    "            layers.append(nn.ELU())\n",
    "            in_dim = h_dim\n",
    "        \n",
    "        layers.append(nn.Linear(in_dim, output_dim))\n",
    "        self.fc = nn.Sequential(*layers)\n",
    "        \n",
    "    def forward(self, x):\n",
    "        return self.fc(x)\n",
    "\n",
    "# Trunk Network\n",
    "class TrunkNet(nn.Module):\n",
    "    def __init__(self, input_dim, hidden_dims, output_dim):\n",
    "        super(TrunkNet, self).__init__()\n",
    "        layers = []\n",
    "        in_dim = input_dim\n",
    "        \n",
    "        # 添加多个隐藏层\n",
    "        for h_dim in hidden_dims:\n",
    "            layers.append(nn.Linear(in_dim, h_dim))\n",
    "            layers.append(nn.ELU())\n",
    "            in_dim = h_dim\n",
    "        \n",
    "        layers.append(nn.Linear(in_dim, output_dim))\n",
    "        self.fc = nn.Sequential(*layers)\n",
    "        \n",
    "    def forward(self, y):\n",
    "        return self.fc(y)\n"
   ]
  },
  {
   "cell_type": "code",
   "execution_count": 66,
   "id": "ce89a9ad4e97103",
   "metadata": {
    "ExecuteTime": {
     "end_time": "2024-11-12T04:07:29.936875Z",
     "start_time": "2024-11-12T04:07:29.924618Z"
    }
   },
   "outputs": [],
   "source": [
    "# In this cell, we define the DeepONet Variants\n",
    "class DeepONet_0(nn.Module):\n",
    "    def __init__(self, branch_input_dim, trunk_input_dim, hidden_dims, output_dim):\n",
    "        super(DeepONet_0, self).__init__()\n",
    "        self.branch_net = BranchNet(branch_input_dim, hidden_dims, output_dim)\n",
    "        self.trunk_net = TrunkNet(trunk_input_dim, hidden_dims, output_dim)\n",
    "        \n",
    "    def forward(self, x, yy):\n",
    "        branch_output = self.branch_net(x)\n",
    "        trunk_output = self.trunk_net(yy)\n",
    "        # Combine the outputs (typically element-wise product)\n",
    "        output = torch.sum(branch_output * trunk_output, dim=-1, keepdim=True) # 按照最后一个坐标做内积\n",
    "        return output\n",
    "    \n",
    "class DeepONet_1(nn.Module):\n",
    "    def __init__(self, branch_input_dim, trunk_input_dim, hidden_dims, output_dim):\n",
    "        super(DeepONet_1, self).__init__()\n",
    "        self.branch_net = BranchNet(branch_input_dim+1, hidden_dims, output_dim)\n",
    "        self.trunk_net = TrunkNet(trunk_input_dim, hidden_dims, output_dim)\n",
    "        \n",
    "    def forward(self, x, yy):\n",
    "        y_part = yy[:, :, -1].unsqueeze(-1)\n",
    "        x_extend = torch.cat((x, y_part), dim=-1)\n",
    "        branch_output = self.branch_net(x_extend)\n",
    "        \n",
    "        trunk_output = self.trunk_net(yy)\n",
    "        \n",
    "        # Combine the outputs (typically element-wise product)\n",
    "        output = torch.sum(branch_output * trunk_output, dim=-1, keepdim=True) # 按照最后一个坐标做内积\n",
    "        return output\n",
    "\n",
    "class DeepONet_2(nn.Module):\n",
    "    def __init__(self, branch_input_dim, trunk_input_dim, hidden_dims, output_dim):\n",
    "        super(DeepONet_2, self).__init__()\n",
    "        self.branch_net = BranchNet(branch_input_dim, hidden_dims, output_dim)\n",
    "        self.trunk_net = TrunkNet(trunk_input_dim+1, hidden_dims, output_dim)\n",
    "        \n",
    "    def forward(self, x, yy):\n",
    "        branch_output = self.branch_net(x)\n",
    "        \n",
    "        corresponding_initial = torch.zeros(x.shape[0], x.shape[1], 1)\n",
    "        corresponding_initial = corresponding_initial.to(device)\n",
    "        for i in range(x.shape[0]):\n",
    "            for j in range(x.shape[1]):\n",
    "                corresponding_index = (yy[i,j,1]-1/(2*n_points))*n_points\n",
    "                corresponding_index = corresponding_index.item()\n",
    "                corresponding_index = np.rint(corresponding_index).astype(int)\n",
    "                corresponding_initial[i,j,0] = x[i,j,corresponding_index]\n",
    "        y_extend = torch.cat((yy, corresponding_initial), dim=-1)\n",
    "        trunk_output = self.trunk_net(y_extend)\n",
    "        \n",
    "        # Combine the outputs (typically element-wise product)\n",
    "        output = torch.sum(branch_output * trunk_output, dim=-1, keepdim=True) # 按照最后一个坐标做内积\n",
    "        return output\n",
    "    \n",
    "class DeepONet_3(nn.Module):\n",
    "    def __init__(self, branch_input_dim, trunk_input_dim, hidden_dims, output_dim):\n",
    "        super(DeepONet_3, self).__init__()\n",
    "        self.branch_net = BranchNet(branch_input_dim+1, hidden_dims, output_dim)\n",
    "        self.trunk_net = TrunkNet(trunk_input_dim+1, hidden_dims, output_dim)\n",
    "        \n",
    "    def forward(self, x, yy):\n",
    "        y_part = yy[:, :, -1].unsqueeze(-1)\n",
    "        x_extend = torch.cat((x, y_part), dim=-1)\n",
    "        branch_output = self.branch_net(x_extend)\n",
    "        \n",
    "        corresponding_initial = torch.zeros(x.shape[0], x.shape[1], 1)\n",
    "        corresponding_initial = corresponding_initial.to(device)\n",
    "        for i in range(x.shape[0]):\n",
    "            for j in range(x.shape[1]):\n",
    "                corresponding_index = (yy[i,j,1]-1/(2*n_points))*n_points\n",
    "                corresponding_index = corresponding_index.item()\n",
    "                corresponding_index = np.rint(corresponding_index).astype(int)\n",
    "                corresponding_initial[i,j,0] = x[i,j,corresponding_index]\n",
    "        y_extend = torch.cat((yy, corresponding_initial), dim=-1)\n",
    "        trunk_output = self.trunk_net(y_extend)\n",
    "        \n",
    "        # Combine the outputs (typically element-wise product)\n",
    "        output = torch.sum(branch_output * trunk_output, dim=-1, keepdim=True) # 按照最后一个坐标做内积\n",
    "        return output\n",
    "    \n",
    "class DeepONet_4(nn.Module):\n",
    "    def __init__(self, branch_input_dim, trunk_input_dim, hidden_dims, output_dim):\n",
    "        super(DeepONet_4, self).__init__()\n",
    "        self.branch_net = BranchNet(branch_input_dim+1, hidden_dims, output_dim)\n",
    "        self.trunk_net = TrunkNet(trunk_input_dim+branch_input_dim, hidden_dims, output_dim)\n",
    "        \n",
    "    def forward(self, x, yy):      \n",
    "        y_part = yy[:, :, -1].unsqueeze(-1)\n",
    "        x_extend = torch.cat((x, y_part), dim=-1)\n",
    "        branch_output = self.branch_net(x_extend)\n",
    "        \n",
    "        yy_extend = torch.cat((yy,x), dim=-1)\n",
    "        trunk_output = self.trunk_net(yy_extend)\n",
    "        \n",
    "        # Combine the outputs (typically element-wise product)\n",
    "        output = torch.sum(branch_output * trunk_output, dim=-1, keepdim=True) # 按照最后一个坐标做内积\n",
    "        return output\n",
    "    \n",
    "DeepONets = [DeepONet_0, DeepONet_1, DeepONet_2, DeepONet_3, DeepONet_4]"
   ]
  },
  {
   "cell_type": "code",
   "execution_count": 67,
   "id": "4852a2385d3faa33",
   "metadata": {
    "ExecuteTime": {
     "end_time": "2024-11-12T04:07:30.124816Z",
     "start_time": "2024-11-12T04:07:30.122646Z"
    }
   },
   "outputs": [],
   "source": [
    "# In this cell, we define the loss function\n",
    "def mse(prediction, target):\n",
    "    ms_loss = torch.mean((prediction - target) ** 2)\n",
    "    return ms_loss"
   ]
  },
  {
   "cell_type": "code",
   "execution_count": 68,
   "id": "b6bf19a07bbf4385",
   "metadata": {
    "ExecuteTime": {
     "end_time": "2024-11-12T04:07:30.401909Z",
     "start_time": "2024-11-12T04:07:30.384164Z"
    }
   },
   "outputs": [
    {
     "name": "stderr",
     "output_type": "stream",
     "text": [
      "/tmp/ipykernel_10202/1082174603.py:11: FutureWarning: You are using `torch.load` with `weights_only=False` (the current default value), which uses the default pickle module implicitly. It is possible to construct malicious pickle data which will execute arbitrary code during unpickling (See https://github.com/pytorch/pytorch/blob/main/SECURITY.md#untrusted-models for more details). In a future release, the default value for `weights_only` will be flipped to `True`. This limits the functions that could be executed during unpickling. Arbitrary objects will no longer be allowed to be loaded via this mode unless they are explicitly allowlisted by the user via `torch.serialization.add_safe_globals`. We recommend you start setting `weights_only=True` for any use case where you don't have full control of the loaded file. Please open an issue on GitHub for any issues related to this experimental feature.\n",
      "  model.load_state_dict(torch.load(model_para_file, map_location=torch.device(device)))\n"
     ]
    },
    {
     "data": {
      "text/plain": [
       "DeepONet_1(\n",
       "  (branch_net): BranchNet(\n",
       "    (fc): Sequential(\n",
       "      (0): Linear(in_features=51, out_features=200, bias=True)\n",
       "      (1): ELU(alpha=1.0)\n",
       "      (2): Linear(in_features=200, out_features=200, bias=True)\n",
       "      (3): ELU(alpha=1.0)\n",
       "      (4): Linear(in_features=200, out_features=200, bias=True)\n",
       "      (5): ELU(alpha=1.0)\n",
       "      (6): Linear(in_features=200, out_features=200, bias=True)\n",
       "      (7): ELU(alpha=1.0)\n",
       "      (8): Linear(in_features=200, out_features=50, bias=True)\n",
       "    )\n",
       "  )\n",
       "  (trunk_net): TrunkNet(\n",
       "    (fc): Sequential(\n",
       "      (0): Linear(in_features=2, out_features=200, bias=True)\n",
       "      (1): ELU(alpha=1.0)\n",
       "      (2): Linear(in_features=200, out_features=200, bias=True)\n",
       "      (3): ELU(alpha=1.0)\n",
       "      (4): Linear(in_features=200, out_features=200, bias=True)\n",
       "      (5): ELU(alpha=1.0)\n",
       "      (6): Linear(in_features=200, out_features=200, bias=True)\n",
       "      (7): ELU(alpha=1.0)\n",
       "      (8): Linear(in_features=200, out_features=50, bias=True)\n",
       "    )\n",
       "  )\n",
       ")"
      ]
     },
     "execution_count": 68,
     "metadata": {},
     "output_type": "execute_result"
    }
   ],
   "source": [
    "# In this cell, we set up the model and load the trained parameters\n",
    "\n",
    "# Create model\n",
    "device = torch.device(\"cuda\" if torch.cuda.is_available() else \"cpu\")\n",
    "model = DeepONets[var](branch_input_dim, trunk_input_dim, hidden_dims, output_dim).to(device)\n",
    "\n",
    "\n",
    "# Load Model Parameters\n",
    "model_train_directory = os.path.join(current_dir, \"heat_train\")\n",
    "model_para_file = os.path.join(model_train_directory, f\"Var{var}_Sensor{n_points}_Batch{batch_size}-best.pth\")\n",
    "model.load_state_dict(torch.load(model_para_file, map_location=torch.device(device)))\n",
    "# Turn to evaluation mode\n",
    "model.eval()"
   ]
  },
  {
   "cell_type": "code",
   "execution_count": 69,
   "id": "6f0698759bfc047b",
   "metadata": {
    "ExecuteTime": {
     "end_time": "2024-11-12T04:07:30.570174Z",
     "start_time": "2024-11-12T04:07:30.565760Z"
    }
   },
   "outputs": [],
   "source": [
    "# In this cell, we load the .npy file containing the training error for each epoch\n",
    "\n",
    "error_array_file = os.path.join(model_train_directory, f\"Var{var}_Sensor{n_points}_Batch{batch_size}-final.npy\")\n",
    "error_array_loaded = np.load(error_array_file)\n",
    "\n",
    "error_epochs = np.mean(error_array_loaded, axis=-1)"
   ]
  },
  {
   "cell_type": "code",
   "execution_count": 70,
   "id": "8e5c69fb024b8b36",
   "metadata": {
    "ExecuteTime": {
     "end_time": "2024-11-12T04:07:30.795963Z",
     "start_time": "2024-11-12T04:07:30.646546Z"
    }
   },
   "outputs": [
    {
     "data": {
      "image/png": "[encoded data removed]",
      "text/plain": [
       "<Figure size 1000x600 with 1 Axes>"
      ]
     },
     "metadata": {},
     "output_type": "display_data"
    }
   ],
   "source": [
    "# In this cell, we plot the training error for each epoch\n",
    "\n",
    "custom_begin = 100\n",
    "plt.figure(figsize=(10, 6))\n",
    "plt.plot(range(custom_begin, len(error_epochs)), error_epochs[custom_begin:], label='Training error', color='b')\n",
    "plt.title('Mean training error in each epoch')\n",
    "plt.xlabel('Epochs')\n",
    "plt.ylabel('Training error')\n",
    "plt.legend()\n",
    "plt.grid(True)\n",
    "plt.show()"
   ]
  },
  {
   "cell_type": "code",
   "execution_count": 71,
   "id": "e49dd298dff34f61",
   "metadata": {
    "ExecuteTime": {
     "end_time": "2024-11-12T04:07:51.583003Z",
     "start_time": "2024-11-12T04:07:31.955421Z"
    }
   },
   "outputs": [
    {
     "data": {
      "application/vnd.jupyter.widget-view+json": {
       "model_id": "47b41c7357c34a5eb77cb614b3ca85f3",
       "version_major": 2,
       "version_minor": 0
      },
      "text/plain": [
       "Computing training loss:   0%|          | 0/20 [00:00<?, ?it/s]"
      ]
     },
     "metadata": {},
     "output_type": "display_data"
    },
    {
     "name": "stdout",
     "output_type": "stream",
     "text": [
      "Train loss: 3.2338158106881565e-07\n"
     ]
    },
    {
     "data": {
      "application/vnd.jupyter.widget-view+json": {
       "model_id": "ef0b838c090a4c2192ac6457e5ca6174",
       "version_major": 2,
       "version_minor": 0
      },
      "text/plain": [
       "Computing testing loss:   0%|          | 0/5 [00:00<?, ?it/s]"
      ]
     },
     "metadata": {},
     "output_type": "display_data"
    },
    {
     "name": "stdout",
     "output_type": "stream",
     "text": [
      "Test loss: 4.4399226908353737e-07\n"
     ]
    }
   ],
   "source": [
    "# In this cell, we computer training and testing loss for the model\n",
    "\n",
    "with torch.no_grad():\n",
    "    total_loss = 0\n",
    "    for input1_batch, input2_batch, target_batch in tqdm(train_loader, desc=\"Computing training loss\"):\n",
    "        input1_batch = input1_batch.to(device)\n",
    "        input2_batch = input2_batch.to(device)\n",
    "        target_batch = target_batch.to(device)\n",
    "        outputs = model(input1_batch, input2_batch)\n",
    "        loss = mse(outputs, target_batch)\n",
    "        total_loss += loss.item()  \n",
    "        del input1_batch, input2_batch, target_batch, outputs\n",
    "        torch.cuda.empty_cache()  # 释放当前批次的缓存\n",
    "    print(f\"Train loss: {total_loss/len(train_loader)}\")\n",
    "    \n",
    "with torch.no_grad():\n",
    "    total_loss = 0\n",
    "    for input1_batch, input2_batch, target_batch in tqdm(test_loader, desc=\"Computing testing loss\"):\n",
    "        input1_batch = input1_batch.to(device)\n",
    "        input2_batch = input2_batch.to(device)\n",
    "        target_batch = target_batch.to(device)\n",
    "        outputs = model(input1_batch, input2_batch)\n",
    "        loss = mse(outputs, target_batch)\n",
    "        total_loss += loss.item()  \n",
    "        del input1_batch, input2_batch, target_batch, outputs\n",
    "        torch.cuda.empty_cache()  # 释放当前批次的缓存\n",
    "    print(f\"Test loss: {total_loss/len(test_loader)}\")"
   ]
  },
  {
   "cell_type": "code",
   "execution_count": 72,
   "id": "f21c906d92ba405d",
   "metadata": {
    "ExecuteTime": {
     "end_time": "2024-11-12T04:08:10.033601Z",
     "start_time": "2024-11-12T04:07:51.632384Z"
    }
   },
   "outputs": [
    {
     "data": {
      "application/vnd.jupyter.widget-view+json": {
       "model_id": "156c3ef1d27a4d93bdc2286eae2e7845",
       "version_major": 2,
       "version_minor": 0
      },
      "text/plain": [
       "Computing predictions:   0%|          | 0/25 [00:00<?, ?it/s]"
      ]
     },
     "metadata": {},
     "output_type": "display_data"
    }
   ],
   "source": [
    "# In this cell, we compute the predictions for the entire dataset using the trained model\n",
    "\n",
    "# 定义对最后一维计算 L2 范数的函数\n",
    "def l2_norm_last_coord_torch(tensor):\n",
    "    return torch.norm(tensor, p=2, dim=-1)\n",
    "\n",
    "all_predictions = torch.zeros((total_sample,total_time_steps*n_points))\n",
    "\n",
    "with torch.no_grad():\n",
    "    prediction_list = []\n",
    "    # 分批处理数据\n",
    "    for i in tqdm(range(0, total_sample, batch_size), desc=\"Computing predictions\"):\n",
    "        u_batch = u_expanded[i:i + batch_size].to(device)\n",
    "        y_batch = y_tensor.to(device)\n",
    "        s_batch = s_tensor[i:i + batch_size].to(device)\n",
    "        # Add a new dimension at the beginning, making the shape [total_sample, n_points^2, 2]\n",
    "        y_batch = y_batch.unsqueeze(0)  # Shape: [1, n_points^2, 2]\n",
    "        y_batch = y_batch.expand(batch_size, -1, -1)  # Shape: [total_sample, n_points, 2]\n",
    "        \n",
    "        prediction = model(u_batch, y_batch).squeeze()\n",
    "        all_predictions[i:i+batch_size] = prediction.cpu()  # 将预测结果存储并移动到 CPU\n",
    "    \n",
    "        del u_batch, y_batch, s_batch\n",
    "        torch.cuda.empty_cache()  # 释放当前批次的缓存"
   ]
  },
  {
   "cell_type": "code",
   "execution_count": 73,
   "id": "f009a2b8c0ce8281",
   "metadata": {
    "ExecuteTime": {
     "end_time": "2024-11-12T04:08:10.157226Z",
     "start_time": "2024-11-12T04:08:10.088536Z"
    }
   },
   "outputs": [
    {
     "data": {
      "application/vnd.jupyter.widget-view+json": {
       "model_id": "2445f44417c541e9a50f2b1e8967e7cd",
       "version_major": 2,
       "version_minor": 0
      },
      "text/plain": [
       "Computing relative l2 error for the entire dataset:   0%|          | 0/500 [00:00<?, ?it/s]"
      ]
     },
     "metadata": {},
     "output_type": "display_data"
    }
   ],
   "source": [
    "# In this cell, we compute the relative L2 error for the entire dataset, including training and testing sets\n",
    "\n",
    "# 定义对最后一维计算 L2 范数的函数\n",
    "def l2_norm_last_coord_torch(tensor):\n",
    "    return torch.norm(tensor, p=2, dim=-1)\n",
    "\n",
    "absolute_err = torch.zeros((total_sample,total_time_steps*n_points))\n",
    "absolute_l2_err = np.zeros(total_sample)\n",
    "relative_l2_err = np.zeros(total_sample)\n",
    "for i in tqdm(range(total_sample), desc=\"Computing relative l2 error for the entire dataset\"):\n",
    "    absolute_err[i] = abs(all_predictions[i] - s_tensor[i])\n",
    "    absolute_l2_err[i] = l2_norm_last_coord_torch(absolute_err[i])\n",
    "    relative_l2_err[i] = absolute_l2_err[i] / l2_norm_last_coord_torch(s_tensor[i])\n",
    "    \n",
    "train_relative_l2_err = relative_l2_err[:boundary]\n",
    "test_relative_l2_err = relative_l2_err[boundary:]\n",
    "train_relative_l2_err = torch.from_numpy(train_relative_l2_err)\n",
    "test_relative_l2_err = torch.from_numpy(test_relative_l2_err)"
   ]
  },
  {
   "cell_type": "code",
   "execution_count": 74,
   "id": "9b702a84b76bd3bd",
   "metadata": {
    "ExecuteTime": {
     "end_time": "2024-11-12T04:08:10.320202Z",
     "start_time": "2024-11-12T04:08:10.313491Z"
    }
   },
   "outputs": [
    {
     "name": "stdout",
     "output_type": "stream",
     "text": [
      "Train Relative Statistics:\n",
      "mean: 0.006539747543865815\n",
      "std: 0.004803405529767081\n",
      "min: 0.001909999642521143\n",
      "median: 0.004984969273209572\n",
      "max: 0.0510120615363121\n",
      "\n",
      "Test Relative Statistics:\n",
      "mean: 0.007064220341853797\n",
      "std: 0.004363333760865245\n",
      "min: 0.0021866129245609045\n",
      "median: 0.005469889845699072\n",
      "max: 0.0214915219694376\n",
      "\n",
      "Comparison of Train and Test Statistics:\n",
      "mean: Train = 0.006539747543865815, Test = 0.007064220341853797, Absolute Difference = 0.0005244727979879828\n",
      "std: Train = 0.004803405529767081, Test = 0.004363333760865245, Absolute Difference = 0.00044007176890183564\n",
      "min: Train = 0.001909999642521143, Test = 0.0021866129245609045, Absolute Difference = 0.00027661328203976154\n",
      "median: Train = 0.004984969273209572, Test = 0.005469889845699072, Absolute Difference = 0.00048492057248950005\n",
      "max: Train = 0.0510120615363121, Test = 0.0214915219694376, Absolute Difference = 0.029520539566874504\n"
     ]
    }
   ],
   "source": [
    "# In this cell, we compute the key statistics of the relative L2 error for the training and testing sets, and compare the statistics\n",
    "\n",
    "# 计算张量的统计量\n",
    "def get_statistics_torch(tensor):\n",
    "    stats = {\n",
    "        'mean': torch.mean(tensor).item(),\n",
    "        'std': torch.std(tensor).item(),\n",
    "        'min': torch.min(tensor).item(),\n",
    "        'median': torch.median(tensor).item(),\n",
    "        'max': torch.max(tensor).item()\n",
    "    }\n",
    "    return stats\n",
    "\n",
    "# 比较两个张量的统计量\n",
    "def compare_statistics(statistics1, statistics2):\n",
    "    comparison = {}\n",
    "    for key in statistics1.keys():\n",
    "        comparison[key] = {\n",
    "            'train': statistics1[key],\n",
    "            'test': statistics2[key],\n",
    "            'difference': statistics1[key] - statistics2[key]  # 计算差异\n",
    "        }\n",
    "    return comparison\n",
    "\n",
    "# 获取训练和测试张量的统计量\n",
    "train_statistics = get_statistics_torch(train_relative_l2_err)\n",
    "test_statistics = get_statistics_torch(test_relative_l2_err)\n",
    "\n",
    "# 打印训练和测试统计量\n",
    "print(\"Train Relative Statistics:\")\n",
    "for key, value in train_statistics.items():\n",
    "    print(f'{key}: {value}')\n",
    "\n",
    "print(\"\\nTest Relative Statistics:\")\n",
    "for key, value in test_statistics.items():\n",
    "    print(f'{key}: {value}')\n",
    "\n",
    "# 比较两个统计量并打印结果\n",
    "comparison = compare_statistics(train_statistics, test_statistics)\n",
    "\n",
    "print(\"\\nComparison of Train and Test Statistics:\")\n",
    "for key, values in comparison.items():\n",
    "    print(f\"{key}: Train = {values['train']}, Test = {values['test']}, Absolute Difference = {abs(values['difference'])}\")"
   ]
  },
  {
   "cell_type": "code",
   "execution_count": 75,
   "id": "a2dc39c58afa7040",
   "metadata": {
    "ExecuteTime": {
     "end_time": "2024-11-12T04:08:10.596463Z",
     "start_time": "2024-11-12T04:08:10.430967Z"
    }
   },
   "outputs": [
    {
     "data": {
      "image/png": "[encoded data removed]",
      "text/plain": [
       "<Figure size 1000x600 with 1 Axes>"
      ]
     },
     "metadata": {},
     "output_type": "display_data"
    }
   ],
   "source": [
    "# In this cell, we plot the key statistics of the relative L2 error for the training and testing sets in a bar chart\n",
    "\n",
    "# 提取统计数据用于绘图\n",
    "labels = list(train_statistics.keys())\n",
    "train_values = [train_statistics[key] for key in labels]\n",
    "test_values = [test_statistics[key] for key in labels]\n",
    "\n",
    "# 设置绘图\n",
    "bar_positions = np.arange(len(labels))  # 标签的数量\n",
    "width = 0.35  # 柱子的宽度\n",
    "\n",
    "fig, ax = plt.subplots(figsize=(10, 6))\n",
    "bars1 = ax.bar(bar_positions - width/2, train_values, width, label='Train', color='b')\n",
    "bars2 = ax.bar(bar_positions + width/2, test_values, width, label='Test', color='orange')\n",
    "\n",
    "# 添加一些标签和标题\n",
    "ax.set_ylabel('Values')\n",
    "ax.set_title('Comparison of Train and Test Statistics')\n",
    "ax.set_xticks(bar_positions)\n",
    "ax.set_xticklabels(labels)\n",
    "ax.legend()\n",
    "\n",
    "# 添加数据标签，保留更多小数点\n",
    "def add_data_labels(bars):\n",
    "    for bar in bars:\n",
    "        height = bar.get_height()\n",
    "        ax.annotate(f'{height:.4f}',  # 修改为保留四位小数\n",
    "                    xy=(bar.get_x() + bar.get_width() / 2, height), \n",
    "                    xytext=(0, 3),  # 向上偏移\n",
    "                    textcoords=\"offset points\",\n",
    "                    ha='center', va='bottom')\n",
    "\n",
    "add_data_labels(bars1)\n",
    "add_data_labels(bars2)\n",
    "\n",
    "plt.grid(axis='y')\n",
    "plt.show()"
   ]
  },
  {
   "cell_type": "code",
   "execution_count": 76,
   "id": "aa31842aa32cccfa",
   "metadata": {
    "ExecuteTime": {
     "end_time": "2024-11-12T04:08:11.230734Z",
     "start_time": "2024-11-12T04:08:10.752114Z"
    }
   },
   "outputs": [
    {
     "data": {
      "image/png": "[encoded data removed]",
      "text/plain": [
       "<Figure size 1200x500 with 2 Axes>"
      ]
     },
     "metadata": {},
     "output_type": "display_data"
    }
   ],
   "source": [
    "# In this cell, we plot the distribution of the relative L2 error for the training and testing sets\n",
    "\n",
    "def plot_dual_histogram(tensor1, tensor2, bins=50, range=(0, 0.05), color1='blue', color2='green', \n",
    "                        title1='Train Relative Error Distribution', title2='Test Relative Error Distribution'):\n",
    "    \"\"\"\n",
    "    并排绘制两个 1 维张量的直方图。\n",
    "\n",
    "    参数:\n",
    "    tensor1: 第一个 1 维张量 (torch.Tensor)\n",
    "    tensor2: 第二个 1 维张量 (torch.Tensor)\n",
    "    bins: 直方图的分区数量 (默认值为 30)\n",
    "    color1: 第一个直方图的颜色 (默认值为 'blue')\n",
    "    color2: 第二个直方图的颜色 (默认值为 'green')\n",
    "    title1: 第一个图表的标题 (默认值为 'Tensor 1 Distribution')\n",
    "    title2: 第二个图表的标题 (默认值为 'Tensor 2 Distribution')\n",
    "    \"\"\"\n",
    "    # 创建两个子图，分别用于绘制两个张量的直方图\n",
    "    fig, axs = plt.subplots(1, 2, figsize=(12, 5))\n",
    "\n",
    "    # 绘制第一个张量的直方图\n",
    "    axs[0].hist(tensor1.numpy(), bins=bins, range = range, alpha=0.7, color=color1)\n",
    "    axs[0].set_title(title1)\n",
    "    axs[0].set_xlabel('Value')\n",
    "    axs[0].set_ylabel('Frequency')\n",
    "\n",
    "    # 绘制第二个张量的直方图\n",
    "    axs[1].hist(tensor2.numpy(), bins=bins, range = range, alpha=0.7, color=color2)\n",
    "    axs[1].set_title(title2)\n",
    "    axs[1].set_xlabel('Value')\n",
    "    axs[1].set_ylabel('Frequency')\n",
    "\n",
    "    # 显示并排的图像\n",
    "    plt.tight_layout()\n",
    "    \n",
    "    output_image = os.path.join(model_train_directory, f\"Var{var}_Sensor{n_points}_Batch{batch_size}.png\")\n",
    "    # 文件名格式\n",
    "\n",
    "    # 保存图像为 PNG 文件\n",
    "    plt.savefig(output_image)\n",
    "\n",
    "    plt.show()\n",
    "# 使用示例\n",
    "plot_dual_histogram(train_relative_l2_err, test_relative_l2_err)"
   ]
  }
 ],
 "metadata": {
  "kernelspec": {
   "display_name": "Python 3",
   "language": "python",
   "name": "python3"
  },
  "language_info": {
   "codemirror_mode": {
    "name": "ipython",
    "version": 2
   },
   "file_extension": ".py",
   "mimetype": "text/x-python",
   "name": "python",
   "nbconvert_exporter": "python",
   "pygments_lexer": "ipython2",
   "version": "2.7.6"
  }
 },
 "nbformat": 4,
 "nbformat_minor": 5
}
