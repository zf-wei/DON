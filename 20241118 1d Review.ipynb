{
 "cells": [
  {
   "cell_type": "code",
   "id": "bfa1545824cc8286",
   "metadata": {
    "ExecuteTime": {
     "end_time": "2024-11-23T01:36:10.394655Z",
     "start_time": "2024-11-23T01:36:10.389202Z"
    }
   },
   "source": [
    "import os\n",
    "import numpy as np\n",
    "import torch\n",
    "from torch.utils.data import DataLoader\n",
    "\n",
    "\n",
    "# import torch.optim as optim\n",
    "import sys\n",
    "import matplotlib.pyplot as plt\n",
    "from tqdm.notebook import tqdm\n",
    "\n",
    "sys.path.append(os.path.abspath(os.path.expanduser(\"~/DON\")))\n",
    "'''\n",
    "import argparse\n",
    "parser = argparse.ArgumentParser(description=\"DeepONet with configurable parameters.\")\n",
    "parser.add_argument('--problem', type=str, default=\"heat\", help='Problem to solve')\n",
    "parser.add_argument('--var', type=int, default=0, help='Variant of DeepONet'\n",
    "parser.add_argument('--visc', type=float, default=0.0001, help='Viscosity')\n",
    "parser.add_argument('--struct', type=int, default=1, help='Structure of DeepONet')\n",
    "parser.add_argument('--sensor', type=int, default=50, help='Number of sensors')\n",
    "parser.add_argument('--boundary_parameter', type=float, default=0, help='Weight parameter for boundary conditions')\n",
    "parser.add_argument('--initial_parameter', type=float, default=0, help='Weight parameter for initial conditions')\n",
    "# 解析命令行参数\n",
    "args = parser.parse_args()\n",
    "problem = args.problem\n",
    "var = args.var\n",
    "visc = args.visc\n",
    "struct = args.struct\n",
    "n_points = args.sensor\n",
    "boundary_parameter = args.boundary_parameter\n",
    "initial_parameter = args.initial_parameter\n",
    "'''\n",
    "problem = \"burgers\"\n",
    "var = 0\n",
    "visc = 0.0001\n",
    "struct = 1\n",
    "n_points = 50\n",
    "boundary_parameter = 0\n",
    "initial_parameter = 0"
   ],
   "outputs": [],
   "execution_count": 23
  },
  {
   "cell_type": "code",
   "id": "4b0989eb917eb9c7",
   "metadata": {
    "ExecuteTime": {
     "end_time": "2024-11-23T01:36:10.419059Z",
     "start_time": "2024-11-23T01:36:10.406178Z"
    }
   },
   "source": [
    "# In this cell, we define the configurable parameters for the DeepONet\n",
    "\n",
    "time_limit = 1\n",
    "time_step = 0.01\n",
    "\n",
    "if problem==\"heat\":\n",
    "    time_start = time_step\n",
    "    total_time_steps = int(time_limit/time_step)\n",
    "    from utilities.tools import get_cell_centers\n",
    "    evaluating_points = get_cell_centers(n_points=n_points)\n",
    "elif problem==\"burgers\":\n",
    "    time_start = 0\n",
    "    total_time_steps = (int(time_limit/time_step)+1)\n",
    "    evaluating_points = np.linspace(0, 1, n_points)\n",
    "\n",
    "evaluating_points = np.around(evaluating_points, decimals=2)\n",
    "\n",
    "total_sample = 500\n",
    "border = int(total_sample * 4 / 5) # 设置训练集和测试集的边界\n",
    "batch_size = 20\n",
    "\n",
    "\n",
    "# Hyperparameters\n",
    "branch_input_dim = n_points  # Number of points to represent the original function\n",
    "trunk_input_dim = 2     # Coordinate where we evaluate the transformed function\n",
    "\n",
    "# Define the dictionary mapping struct values to neural network structures\n",
    "if var!=6:\n",
    "    structures = {\n",
    "        1: {'hidden_dims': [100, 100, 100, 100], 'output_dim': 50},\n",
    "        2: {'hidden_dims': [200, 200, 200, 200], 'output_dim': 50}\n",
    "    }\n",
    "\n",
    "    # Get the configuration based on the struct value\n",
    "    config = structures.get(struct, {'hidden_dims': [], 'output_dim': 0})\n",
    "\n",
    "    hidden_dims = config['hidden_dims']\n",
    "    output_dim = config['output_dim']\n",
    "elif var==6:\n",
    "    structure_params = {\n",
    "        1: (3, 3, 100, 50),\n",
    "        2: (3, 3, 200, 50),\n",
    "    }\n",
    "    if struct in structure_params:\n",
    "        branch_depth, trunk_depth, hidden_dim, output_dim = structure_params[struct]\n",
    "    else:\n",
    "        raise ValueError(\"Invalid structure type\")"
   ],
   "outputs": [],
   "execution_count": 24
  },
  {
   "cell_type": "code",
   "id": "f2791ba9eca4fbbe",
   "metadata": {
    "ExecuteTime": {
     "end_time": "2024-11-23T01:36:10.452271Z",
     "start_time": "2024-11-23T01:36:10.446763Z"
    }
   },
   "source": [
    "# Define the current directory\n",
    "from pathlib import Path\n",
    "# Get the current directory\n",
    "current_dir = Path.cwd()\n",
    "model_train_directory = os.path.join(current_dir, '1d_train')\n",
    "model_stat_file_text = os.path.join(model_train_directory, f\"{problem}_Var{var}_Visc{visc}_Struct{struct}_Sensor{n_points}_Batch{batch_size}_Loss.txt\")"
   ],
   "outputs": [],
   "execution_count": 25
  },
  {
   "cell_type": "code",
   "id": "9ec959ce9c6ec992",
   "metadata": {
    "ExecuteTime": {
     "end_time": "2024-11-23T01:36:10.490255Z",
     "start_time": "2024-11-23T01:36:10.483185Z"
    }
   },
   "source": [
    "# In this cell, we import the function to get the cell centers of a 1D mesh.\n",
    "# Also, we set up the spatial and temporal grid points for the training and testing datasets.\n",
    "# This is the so-called y_expanded tensor.\n",
    "time_steps = np.arange(time_start, time_limit+time_step, time_step)\n",
    "time_steps = np.around(time_steps, decimals=2)\n",
    "\n",
    "Y1, Y2 = np.meshgrid(evaluating_points, time_steps)  # 第一个变量进行行展开，第二个变量进行列展开\n",
    "\n",
    "y = np.column_stack([Y2.ravel(),Y1.ravel()]) \n",
    "# 先将 Y2 和 Y1 进行展开，然后将展开后的两个向量进行列合并\n",
    "\n",
    "y_tensor = torch.tensor(y, dtype=torch.float)\n",
    "print(f\"The dimension of y_tensor is {y_tensor.shape}.\")\n",
    "y_expanded = y_tensor.unsqueeze(0).expand(total_sample, -1, -1)\n",
    "print(f\"The dimension of y_expanded is {y_expanded.shape} after expanding.\")"
   ],
   "outputs": [
    {
     "name": "stdout",
     "output_type": "stream",
     "text": [
      "The dimension of y_tensor is torch.Size([5000, 2]).\n",
      "The dimension of y_expanded is torch.Size([500, 5000, 2]) after expanding.\n"
     ]
    }
   ],
   "execution_count": 26
  },
  {
   "cell_type": "code",
   "id": "5a4ccf7ce649faf8",
   "metadata": {
    "ExecuteTime": {
     "end_time": "2024-11-23T01:36:10.565427Z",
     "start_time": "2024-11-23T01:36:10.553159Z"
    }
   },
   "source": [
    "# In this cell, we load the initial conditions and solutions from the saved files.\n",
    "\n",
    "# Define the directory where you want to save the file\n",
    "from pathlib import Path\n",
    "# Get the current directory\n",
    "current_dir = Path.cwd()\n",
    "#data_directory = os.path.join(current_dir.parent, 'data')\n",
    "## 需要修改\n",
    "data_directory = os.path.join(current_dir, 'data')\n",
    "initials_name = f'{problem}_initials_{visc}_{len(evaluating_points)}.npy'\n",
    "solutions_name = f'{problem}_solutions_{visc}_{len(evaluating_points)}.npy'\n",
    "\n",
    "# Define the file paths\n",
    "initials_path = os.path.join(data_directory, initials_name)\n",
    "solutions_path = os.path.join(data_directory, solutions_name)\n",
    "\n",
    "# Load the data\n",
    "initials = np.load(initials_path)\n",
    "solutions = np.load(solutions_path)\n",
    "\n",
    "print(f\"The dimensions of the initial conditions are: {initials.shape}\")\n",
    "print(f\"The dimensions of the solutions are: {solutions.shape}\")"
   ],
   "outputs": [
    {
     "name": "stdout",
     "output_type": "stream",
     "text": [
      "The dimensions of the initial conditions are: (500, 50)\n",
      "The dimensions of the solutions are: (500, 100, 50)\n"
     ]
    }
   ],
   "execution_count": 27
  },
  {
   "cell_type": "code",
   "id": "f88912ed6ad4cd67",
   "metadata": {
    "ExecuteTime": {
     "end_time": "2024-11-23T01:36:10.586812Z",
     "start_time": "2024-11-23T01:36:10.580948Z"
    }
   },
   "source": [
    "# In this cell, we arrange the initial conditions into the desired format for training the DeepONet.\n",
    "# This is the so-called u_expanded tensor.\n",
    "u_tensor = torch.tensor(initials, dtype=torch.float)\n",
    "print(f\"The dimension of u_tensor is {u_tensor.shape}.\")\n",
    "\n",
    "u_expanded = u_tensor.unsqueeze(1) # u_expanded: tensor[total_sample, 1, n_points]\n",
    "u_expanded = u_expanded.expand(-1, total_time_steps*n_points, -1) # u_expanded: tensor[total_sample, total_time_steps*n_points, n_points]\n",
    "print(f\"The dimension of u_expanded is {u_expanded.shape} after expanding.\")"
   ],
   "outputs": [
    {
     "name": "stdout",
     "output_type": "stream",
     "text": [
      "The dimension of u_tensor is torch.Size([500, 50]).\n",
      "The dimension of u_expanded is torch.Size([500, 5000, 50]) after expanding.\n"
     ]
    }
   ],
   "execution_count": 28
  },
  {
   "cell_type": "code",
   "id": "d2051f8f8e20af55",
   "metadata": {
    "ExecuteTime": {
     "end_time": "2024-11-23T01:36:10.627445Z",
     "start_time": "2024-11-23T01:36:10.618064Z"
    }
   },
   "source": [
    "# I have a tensor of shape (total_sample, n_points) representing the initial conditions. In this cell, I wanted to expand it to (total_sample, total_time_steps*n_points) by repeating the initial conditions for each time step.\n",
    "\n",
    "# Assuming u_tensor is the tensor of shape (total_sample, n_points)\n",
    "# Expand the tensor to (total_sample, total_time_steps*n_points)\n",
    "u_corresponding = u_tensor.repeat(1, total_time_steps)\n",
    "u_corresponding = u_corresponding.unsqueeze(2) # This is the so-called corresponding initial value\n",
    "\n",
    "# Take the spatial coordinate of the y_expanded tensor\n",
    "y_space = y_expanded[:, :, 1].unsqueeze(-1)"
   ],
   "outputs": [],
   "execution_count": 29
  },
  {
   "cell_type": "code",
   "id": "ccf181e3800cb4e3",
   "metadata": {
    "ExecuteTime": {
     "end_time": "2024-11-23T01:36:10.655498Z",
     "start_time": "2024-11-23T01:36:10.651537Z"
    }
   },
   "source": [
    "# In this cell, we modify the input of the DeepONet based on the variant chosen.\n",
    "# We also update the input dimensions of the DeepONet based on the variant chosen.\n",
    "if var==2 or var==3:\n",
    "    y_expanded = torch.cat((y_expanded, u_corresponding), dim=-1)\n",
    "elif var==4:\n",
    "    y_expanded = torch.cat((y_expanded, u_expanded), dim=-1)\n",
    "\n",
    "if var== 1 or var==3 or var==4:\n",
    "    u_expanded = torch.cat((u_expanded, y_space), dim=-1)\n",
    "\n",
    "var_mapping = {\n",
    "    1: {'var_branch_input_dim': branch_input_dim + 1, 'var_trunk_input_dim': trunk_input_dim},\n",
    "    2: {'var_branch_input_dim': branch_input_dim, 'var_trunk_input_dim': trunk_input_dim + 1},\n",
    "    3: {'var_branch_input_dim': branch_input_dim + 1, 'var_trunk_input_dim': trunk_input_dim + 1},\n",
    "    4: {'var_branch_input_dim': branch_input_dim + 1, 'var_trunk_input_dim': trunk_input_dim + branch_input_dim}\n",
    "}\n",
    "\n",
    "if var in var_mapping:\n",
    "    branch_input_dim = var_mapping[var]['var_branch_input_dim']\n",
    "    trunk_input_dim = var_mapping[var]['var_trunk_input_dim']"
   ],
   "outputs": [],
   "execution_count": 30
  },
  {
   "cell_type": "code",
   "id": "e506fb2e36ed28a",
   "metadata": {
    "ExecuteTime": {
     "end_time": "2024-11-23T01:36:10.720905Z",
     "start_time": "2024-11-23T01:36:10.705360Z"
    }
   },
   "source": [
    "# In this cell, we arrange the solutions into the desired format for training the DeepONet.\n",
    "# This is the so-called s_expanded tensor.\n",
    "\n",
    "solutions_linear = np.zeros((total_sample, total_time_steps*n_points))\n",
    "\n",
    "for i in range(total_sample):\n",
    "    solutions_linear[i] = solutions[i].flatten()\n",
    "\n",
    "# solutions is a 3D array of shape (total_sample, total_time_steps, n_points)\n",
    "print(f\"The loaded solution dataset has dimension {solutions.shape},\\n\\t while the arranged linearized dataset has dimension {solutions_linear.shape}.\")\n",
    "\n",
    "s_tensor  = torch.tensor(solutions_linear, dtype=torch.float) # s_tensor: tensor[total_sample, total_time_steps*n_points]\n",
    "s_expanded  = s_tensor.unsqueeze(2) # s_expanded: tensor[total_sample, total_time_steps*n_points, 1]\n",
    "\n",
    "print(f\"The dimension of s_tensor is {s_tensor.shape}.\")\n",
    "print(f\"The dimension of s_expanded is {s_expanded.shape} after expanding.\")"
   ],
   "outputs": [
    {
     "name": "stdout",
     "output_type": "stream",
     "text": [
      "The loaded solution dataset has dimension (500, 100, 50),\n",
      "\t while the arranged linearized dataset has dimension (500, 5000).\n",
      "The dimension of s_tensor is torch.Size([500, 5000]).\n",
      "The dimension of s_expanded is torch.Size([500, 5000, 1]) after expanding.\n"
     ]
    }
   ],
   "execution_count": 31
  },
  {
   "cell_type": "code",
   "id": "233e94fc83256018",
   "metadata": {
    "ExecuteTime": {
     "end_time": "2024-11-23T01:36:10.733581Z",
     "start_time": "2024-11-23T01:36:10.727076Z"
    }
   },
   "source": [
    "from utilities.tools import CustomDataset_data as CustomDataset\n",
    "\n",
    "train_set = CustomDataset(u_expanded[:border], y_expanded[:border], s_expanded[:border])\n",
    "test_set = CustomDataset(u_expanded[border:], y_expanded[border:], s_expanded[border:])\n",
    "\n",
    "# 创建 DataLoader\n",
    "train_loader = DataLoader(train_set, batch_size=batch_size, shuffle=True, num_workers=1) \n",
    "test_loader = DataLoader(test_set, batch_size=batch_size, shuffle=False, num_workers=1)"
   ],
   "outputs": [],
   "execution_count": 32
  },
  {
   "cell_type": "code",
   "id": "64fbbcc8a46dc87",
   "metadata": {
    "ExecuteTime": {
     "end_time": "2024-11-23T01:36:10.832908Z",
     "start_time": "2024-11-23T01:36:10.798467Z"
    }
   },
   "source": [
    "# In this cell, we import and set up the model and load the trained parameters\n",
    "# The loss function is also imported here.\n",
    "\n",
    "# Create model\n",
    "device = torch.device(\"cuda\" if torch.cuda.is_available() else \"cpu\")\n",
    "\n",
    "if var!=6:\n",
    "    from utilities.DON_Variants import DeepONet\n",
    "    model = DeepONet(branch_input_dim, trunk_input_dim, hidden_dims, output_dim).to(device)\n",
    "elif var==6:\n",
    "    from utilities.DON_Variants import mDeepONet\n",
    "    model = mDeepONet(branch_input_dim, branch_depth, trunk_input_dim, trunk_depth, hidden_dim, output_dim).to(device)\n",
    "\n",
    "from utilities.loss_fns import loss_fn_1d as loss_fn\n",
    "\n",
    "# Load Model Parameters\n",
    "model_train_directory = os.path.join(current_dir, '1d_train')\n",
    "model_para_file = os.path.join(model_train_directory, f\"{problem}_Var{var}_Visc{visc}_Struct{struct}_Sensor{n_points}_Batch{batch_size}-best.pth\")\n",
    "model.load_state_dict(torch.load(model_para_file, map_location=torch.device(device)))\n",
    "# Turn to evaluation mode\n",
    "model.eval()"
   ],
   "outputs": [
    {
     "name": "stderr",
     "output_type": "stream",
     "text": [
      "C:\\Users\\weiz828\\AppData\\Local\\Temp\\ipykernel_18120\\2270393586.py:18: FutureWarning: You are using `torch.load` with `weights_only=False` (the current default value), which uses the default pickle module implicitly. It is possible to construct malicious pickle data which will execute arbitrary code during unpickling (See https://github.com/pytorch/pytorch/blob/main/SECURITY.md#untrusted-models for more details). In a future release, the default value for `weights_only` will be flipped to `True`. This limits the functions that could be executed during unpickling. Arbitrary objects will no longer be allowed to be loaded via this mode unless they are explicitly allowlisted by the user via `torch.serialization.add_safe_globals`. We recommend you start setting `weights_only=True` for any use case where you don't have full control of the loaded file. Please open an issue on GitHub for any issues related to this experimental feature.\n",
      "  model.load_state_dict(torch.load(model_para_file, map_location=torch.device(device)))\n"
     ]
    },
    {
     "data": {
      "text/plain": [
       "DeepONet(\n",
       "  (branch_net): BranchNet(\n",
       "    (fc): Sequential(\n",
       "      (0): Linear(in_features=50, out_features=200, bias=True)\n",
       "      (1): ELU(alpha=1.0)\n",
       "      (2): Linear(in_features=200, out_features=200, bias=True)\n",
       "      (3): ELU(alpha=1.0)\n",
       "      (4): Linear(in_features=200, out_features=200, bias=True)\n",
       "      (5): ELU(alpha=1.0)\n",
       "      (6): Linear(in_features=200, out_features=200, bias=True)\n",
       "      (7): ELU(alpha=1.0)\n",
       "      (8): Linear(in_features=200, out_features=50, bias=True)\n",
       "    )\n",
       "  )\n",
       "  (trunk_net): TrunkNet(\n",
       "    (fc): Sequential(\n",
       "      (0): Linear(in_features=2, out_features=200, bias=True)\n",
       "      (1): ELU(alpha=1.0)\n",
       "      (2): Linear(in_features=200, out_features=200, bias=True)\n",
       "      (3): ELU(alpha=1.0)\n",
       "      (4): Linear(in_features=200, out_features=200, bias=True)\n",
       "      (5): ELU(alpha=1.0)\n",
       "      (6): Linear(in_features=200, out_features=200, bias=True)\n",
       "      (7): ELU(alpha=1.0)\n",
       "      (8): Linear(in_features=200, out_features=50, bias=True)\n",
       "    )\n",
       "  )\n",
       ")"
      ]
     },
     "execution_count": 34,
     "metadata": {},
     "output_type": "execute_result"
    }
   ],
   "execution_count": 34
  },
  {
   "cell_type": "code",
   "id": "145caedf3ab40057",
   "metadata": {
    "ExecuteTime": {
     "end_time": "2024-11-23T01:36:10.881482Z",
     "start_time": "2024-11-23T01:36:10.865351Z"
    }
   },
   "source": [
    "# In this cell, we load the .npy file containing the training error for each epoch\n",
    "\n",
    "error_array_file = os.path.join(model_train_directory, f\"{problem}_Var{var}_Visc{visc}_Struct{struct}_Sensor{n_points}_Batch{batch_size}-final.npy\")\n",
    "error_array_loaded = np.load(error_array_file)\n",
    "\n",
    "error_epochs = np.mean(error_array_loaded, axis=-1)"
   ],
   "outputs": [],
   "execution_count": 35
  },
  {
   "cell_type": "code",
   "id": "339fcdf85e4b5db9",
   "metadata": {
    "ExecuteTime": {
     "end_time": "2024-11-23T01:36:11.102323Z",
     "start_time": "2024-11-23T01:36:10.912343Z"
    }
   },
   "source": [
    "# In this cell, we plot the training error for each epoch\n",
    "\n",
    "def plot_training_error(error_epochs, custom_begin=100):\n",
    "    \"\"\"\n",
    "    Plot the training error for each epoch.\n",
    "\n",
    "    Parameters:\n",
    "    - error_epochs: Array of training errors for each epoch.\n",
    "    - custom_begin: Epoch to start plotting from (default is 100).\n",
    "    \"\"\"\n",
    "    plt.figure(figsize=(10, 6))\n",
    "    plt.plot(range(custom_begin, len(error_epochs)), error_epochs[custom_begin:], label='Training error', color='b')\n",
    "    plt.title('Mean training error in each epoch')\n",
    "    plt.xlabel('Epochs')\n",
    "    plt.ylabel('Training error')\n",
    "    plt.legend()\n",
    "    plt.grid(True)\n",
    "    \n",
    "    output_image = os.path.join(model_train_directory, f\"{problem}_Var{var}_Visc{visc}_Struct{struct}_Sensor{n_points}_Batch{batch_size}_Epochs.png\")\n",
    "    # 文件名格式\n",
    "\n",
    "    # 保存图像为 PNG 文件\n",
    "    plt.savefig(output_image)\n",
    "    \n",
    "    plt.show()\n",
    "    \n",
    "plot_training_error(error_epochs, custom_begin=200)"
   ],
   "outputs": [
    {
     "data": {
      "text/plain": [
       "<Figure size 1000x600 with 1 Axes>"
      ],
      "image/png": "[encoded data removed]"
     },
     "metadata": {},
     "output_type": "display_data"
    }
   ],
   "execution_count": 36
  },
  {
   "cell_type": "code",
   "id": "725c3716e6eb703f",
   "metadata": {
    "ExecuteTime": {
     "end_time": "2024-11-23T01:36:22.533227Z",
     "start_time": "2024-11-23T01:36:11.152224Z"
    }
   },
   "source": [
    "# # In this cell, we compute training and testing loss for the model\n",
    "\n",
    "def compute_loss(model, data_loader, device, description=\"Computing loss\"):\n",
    "    \"\"\"\n",
    "    Compute the loss for a given dataset using the trained model.\n",
    "\n",
    "    Parameters:\n",
    "    - model: The trained model.\n",
    "    - data_loader: DataLoader for the dataset (train or test).\n",
    "    - device: Device to run the computations on (CPU or GPU).\n",
    "    - description: Description for the tqdm progress bar.\n",
    "\n",
    "    Returns:\n",
    "    - average_loss: The average loss over the dataset.\n",
    "    \"\"\"\n",
    "    total_loss = 0\n",
    "    with torch.no_grad():\n",
    "        for input1_batch, input2_batch, target_batch in tqdm(data_loader, desc=description):\n",
    "            input1_batch = input1_batch.to(device)\n",
    "            input2_batch = input2_batch.to(device)\n",
    "            target_batch = target_batch.to(device)\n",
    "            outputs = model(input1_batch, input2_batch)\n",
    "            loss = loss_fn(outputs, target_batch, boundary_parameter, initial_parameter, total_time_steps, n_points)\n",
    "            total_loss += loss.item()\n",
    "            del input1_batch, input2_batch, target_batch, outputs\n",
    "            torch.cuda.empty_cache()  # Release cache for the current batch\n",
    "    average_loss = total_loss / len(data_loader)\n",
    "    return average_loss\n",
    "\n",
    "# Compute training loss\n",
    "train_loss = compute_loss(model, train_loader, device, description=\"Computing training loss\")\n",
    "print(f\"Train loss: {train_loss}\")\n",
    "\n",
    "# Compute testing loss\n",
    "test_loss = compute_loss(model, test_loader, device, description=\"Computing testing loss\")\n",
    "print(f\"Test loss: {test_loss}\")\n",
    "\n",
    "# Write the losses to a file\n",
    "with open(model_stat_file_text, 'w') as f:\n",
    "    f.write(\"The training and testing losses for the model are as follows:\\n\")\n",
    "    f.write(f\"Train loss: {train_loss}\\n\")\n",
    "    f.write(f\"Test loss: {test_loss}\\n\")"
   ],
   "outputs": [
    {
     "data": {
      "text/plain": [
       "Computing training loss:   0%|          | 0/20 [00:00<?, ?it/s]"
      ],
      "application/vnd.jupyter.widget-view+json": {
       "version_major": 2,
       "version_minor": 0,
       "model_id": "5640706655424e80bea6a226c199e2c3"
      }
     },
     "metadata": {},
     "output_type": "display_data"
    },
    {
     "name": "stdout",
     "output_type": "stream",
     "text": [
      "Train loss: 2.7693936246464543e-07\n"
     ]
    },
    {
     "data": {
      "text/plain": [
       "Computing testing loss:   0%|          | 0/5 [00:00<?, ?it/s]"
      ],
      "application/vnd.jupyter.widget-view+json": {
       "version_major": 2,
       "version_minor": 0,
       "model_id": "9dc5a01ef4ea4d3fa05a73bdaa2183b3"
      }
     },
     "metadata": {},
     "output_type": "display_data"
    },
    {
     "name": "stdout",
     "output_type": "stream",
     "text": [
      "Test loss: 3.9305909353970493e-07\n"
     ]
    }
   ],
   "execution_count": 37
  },
  {
   "cell_type": "code",
   "id": "c8b38666439403f3",
   "metadata": {
    "ExecuteTime": {
     "end_time": "2024-11-23T01:36:31.399693Z",
     "start_time": "2024-11-23T01:36:22.578995Z"
    }
   },
   "source": [
    "# In this cell, we compute the predictions for the entire dataset using the trained model\n",
    "\n",
    "def compute_predictions(model, u_expanded, y_expanded, total_sample, total_time_steps, n_points, batch_size, device):\n",
    "    \"\"\"\n",
    "    Compute predictions for the entire dataset using the trained model.\n",
    "\n",
    "    Parameters:\n",
    "    - model: The trained model.\n",
    "    - u_expanded: Expanded tensor of initial conditions.\n",
    "    - y_expanded: Expanded tensor of spatial and temporal grid points.\n",
    "    - total_sample: Total number of samples.\n",
    "    - total_time_steps: Total number of time steps.\n",
    "    - n_points: Number of spatial points.\n",
    "    - batch_size: Batch size for processing.\n",
    "    - device: Device to run the computations on (CPU or GPU).\n",
    "\n",
    "    Returns:\n",
    "    - all_predictions: Tensor containing predictions for the entire dataset.\n",
    "    \"\"\"\n",
    "    all_predictions = torch.zeros((total_sample, total_time_steps * n_points))\n",
    "\n",
    "    with torch.no_grad():\n",
    "        for i in tqdm(range(0, total_sample, batch_size), desc=\"Computing predictions\"):\n",
    "            u_batch = u_expanded[i:i + batch_size].to(device)\n",
    "            y_batch = y_expanded[i:i + batch_size].to(device)\n",
    "            \n",
    "            prediction = model(u_batch, y_batch).squeeze()\n",
    "            all_predictions[i:i + batch_size] = prediction.cpu()  # Store predictions and move to CPU\n",
    "            \n",
    "            del u_batch, y_batch, prediction\n",
    "            torch.cuda.empty_cache()  # Release cache for the current batch\n",
    "\n",
    "    return all_predictions\n",
    "\n",
    "all_predictions = compute_predictions(model, u_expanded, y_expanded, total_sample, total_time_steps, n_points, batch_size, device)"
   ],
   "outputs": [
    {
     "data": {
      "text/plain": [
       "Computing predictions:   0%|          | 0/25 [00:00<?, ?it/s]"
      ],
      "application/vnd.jupyter.widget-view+json": {
       "version_major": 2,
       "version_minor": 0,
       "model_id": "4695d15f6eab456b9aff4aba61784959"
      }
     },
     "metadata": {},
     "output_type": "display_data"
    }
   ],
   "execution_count": 38
  },
  {
   "cell_type": "code",
   "id": "da5b8880c1b32d2e",
   "metadata": {
    "ExecuteTime": {
     "end_time": "2024-11-23T01:36:31.524137Z",
     "start_time": "2024-11-23T01:36:31.454249Z"
    }
   },
   "source": [
    "# In this cell, we compute the relative L2 error for the entire dataset, including training and testing sets\n",
    "\n",
    "# 定义对最后一维计算 L2 范数的函数\n",
    "def l2_norm_last_coord_torch(tensor):\n",
    "    return torch.norm(tensor, p=2, dim=-1)\n",
    "\n",
    "absolute_err = torch.zeros((total_sample,total_time_steps*n_points))\n",
    "absolute_l2_err = np.zeros(total_sample)\n",
    "relative_l2_err = np.zeros(total_sample)\n",
    "for i in tqdm(range(total_sample), desc=\"Computing relative l2 error for the entire dataset\"):\n",
    "    absolute_err[i] = abs(all_predictions[i] - s_tensor[i])\n",
    "    absolute_l2_err[i] = l2_norm_last_coord_torch(absolute_err[i])\n",
    "    relative_l2_err[i] = absolute_l2_err[i] / l2_norm_last_coord_torch(s_tensor[i])\n",
    "\n",
    "train_relative_l2_err = relative_l2_err[:border]\n",
    "test_relative_l2_err = relative_l2_err[border:]"
   ],
   "outputs": [
    {
     "data": {
      "text/plain": [
       "Computing relative l2 error for the entire dataset:   0%|          | 0/500 [00:00<?, ?it/s]"
      ],
      "application/vnd.jupyter.widget-view+json": {
       "version_major": 2,
       "version_minor": 0,
       "model_id": "507de535edd949e7ae62926f67d1b668"
      }
     },
     "metadata": {},
     "output_type": "display_data"
    }
   ],
   "execution_count": 39
  },
  {
   "cell_type": "code",
   "id": "1ae2a4fae83387a1",
   "metadata": {
    "ExecuteTime": {
     "end_time": "2024-11-23T01:36:31.581787Z",
     "start_time": "2024-11-23T01:36:31.570165Z"
    }
   },
   "source": [
    "# In this cell, we compute the key statistics of the relative L2 error for the training and testing sets, and compare the statistics\n",
    "\n",
    "# 计算张量的统计量\n",
    "def get_statistics(array):\n",
    "    stats = {\n",
    "        'mean': np.mean(array),\n",
    "        'std': np.std(array),\n",
    "        'min': np.min(array),\n",
    "        'median': np.median(array),\n",
    "        'max': np.max(array)\n",
    "    }\n",
    "    return stats\n",
    "\n",
    "# 比较两个张量的统计量\n",
    "def compare_statistics(statistics1, statistics2, output_file):\n",
    "    comparison = {}\n",
    "    for key in statistics1.keys():\n",
    "        comparison[key] = {\n",
    "            'train': statistics1[key],\n",
    "            'test': statistics2[key],\n",
    "            'difference': statistics1[key] - statistics2[key]  # 计算差异\n",
    "        }\n",
    "\n",
    "    with open(output_file, 'a') as f:\n",
    "        f.write(\"\\nComparison of Train and Test Statistics:\\n\")\n",
    "        print(\"\\nComparison of Train and Test Statistics:\\n\")\n",
    "        for key, values in comparison.items():\n",
    "            f.write(f\"{key}: Train = {values['train']}, Test = {values['test']}, Absolute Difference = {abs(values['difference'])}\\n\")\n",
    "            print(f\"{key}: Train = {values['train']}, Test = {values['test']}, Absolute Difference = {abs(values['difference'])}\")\n",
    "\n",
    "# 获取训练和测试张量的统计量\n",
    "train_statistics = get_statistics(train_relative_l2_err)\n",
    "test_statistics = get_statistics(test_relative_l2_err)\n",
    "\n",
    "# 比较两个统计量并打印结果\n",
    "compare_statistics(train_statistics, test_statistics, model_stat_file_text)"
   ],
   "outputs": [
    {
     "name": "stdout",
     "output_type": "stream",
     "text": [
      "\n",
      "Comparison of Train and Test Statistics:\n",
      "\n",
      "mean: Train = 0.0060812834848184135, Test = 0.006306520062498749, Absolute Difference = 0.00022523657768033518\n",
      "std: Train = 0.004468236377968975, Test = 0.003843200858060554, Absolute Difference = 0.0006250355199084209\n",
      "min: Train = 0.0018026618054136634, Test = 0.001999939326196909, Absolute Difference = 0.00019727752078324556\n",
      "median: Train = 0.004595329752191901, Test = 0.00478072022087872, Absolute Difference = 0.00018539046868681908\n",
      "max: Train = 0.04095815122127533, Test = 0.017850710079073906, Absolute Difference = 0.023107441142201424\n"
     ]
    }
   ],
   "execution_count": 40
  },
  {
   "cell_type": "code",
   "id": "5fd1d17332145dea",
   "metadata": {
    "ExecuteTime": {
     "end_time": "2024-11-23T01:36:31.920016Z",
     "start_time": "2024-11-23T01:36:31.651876Z"
    }
   },
   "source": [
    "import matplotlib.pyplot as plt\n",
    "import numpy as np\n",
    "\n",
    "def plot_statistics_comparison(train_statistics, test_statistics, y_limit=None):\n",
    "    \"\"\"\n",
    "    Plot the comparison of train and test statistics in a bar chart.\n",
    "\n",
    "    Parameters:\n",
    "    - train_statistics: Dictionary of training statistics.\n",
    "    - test_statistics: Dictionary of testing statistics.\n",
    "    - y_limit: Limit for the y-axis.\n",
    "    \"\"\"\n",
    "    # Extract statistics data for plotting\n",
    "    labels = list(train_statistics.keys())\n",
    "    train_values = [train_statistics[key] for key in labels]\n",
    "    test_values = [test_statistics[key] for key in labels]\n",
    "\n",
    "    # Set up the plot\n",
    "    bar_positions = np.arange(len(labels))  # Number of labels\n",
    "    width = 0.35  # Width of the bars\n",
    "\n",
    "    fig, ax = plt.subplots(figsize=(10, 6))\n",
    "    bars1 = ax.bar(bar_positions - width/2, train_values, width, label='Train', color='b')\n",
    "    bars2 = ax.bar(bar_positions + width/2, test_values, width, label='Test', color='orange')\n",
    "\n",
    "    # Add labels and title\n",
    "    ax.set_ylabel('Values')\n",
    "    ax.set_title('Comparison of Train and Test Statistics')\n",
    "    ax.set_xticks(bar_positions)\n",
    "    ax.set_xticklabels(labels)\n",
    "    ax.legend()\n",
    "\n",
    "    # Set y-axis limit if provided\n",
    "    if y_limit:\n",
    "        ax.set_ylim(y_limit)\n",
    "\n",
    "    # Add data labels with more decimal points\n",
    "    def add_data_labels(bars):\n",
    "        for bar in bars:\n",
    "            height = bar.get_height()\n",
    "            ax.annotate(f'{height:.4f}',  # Keep four decimal places\n",
    "                        xy=(bar.get_x() + bar.get_width() / 2, height),\n",
    "                        xytext=(0, 3),  # Offset upwards\n",
    "                        textcoords=\"offset points\",\n",
    "                        ha='center', va='bottom')\n",
    "\n",
    "    add_data_labels(bars1)\n",
    "    add_data_labels(bars2)\n",
    "\n",
    "    plt.grid(axis='y')\n",
    "\n",
    "    output_image = os.path.join(model_train_directory, f\"{problem}_Var{var}_Visc{visc}_Struct{struct}_Sensor{n_points}_Batch{batch_size}_Stat.png\")\n",
    "    # 文件名格式\n",
    "    # 保存图像为 PNG 文件\n",
    "    plt.savefig(output_image)\n",
    "\n",
    "    plt.show()\n",
    "\n",
    "# Example usage with y-axis limit\n",
    "plot_statistics_comparison(train_statistics, test_statistics, y_limit=(0, 0.25))"
   ],
   "outputs": [
    {
     "data": {
      "text/plain": [
       "<Figure size 1000x600 with 1 Axes>"
      ],
      "image/png": "[encoded data removed]"
     },
     "metadata": {},
     "output_type": "display_data"
    }
   ],
   "execution_count": 41
  },
  {
   "metadata": {
    "ExecuteTime": {
     "end_time": "2024-11-23T01:36:32.329542Z",
     "start_time": "2024-11-23T01:36:31.948204Z"
    }
   },
   "cell_type": "code",
   "source": [
    "import matplotlib.pyplot as plt\n",
    "import numpy as np\n",
    "import os\n",
    "\n",
    "def plot_dual_histogram(array1, array2, bins=50, x_range=(0, 0.3), y_limit1=None, y_limit2=None, color1='blue', color2='green',\n",
    "                        title1='Train Relative Error Distribution', title2='Test Relative Error Distribution'):\n",
    "    \"\"\"\n",
    "    Plot two 1D array histograms side by side.\n",
    "    Parameters:\n",
    "    - array1: Data for the first array.\n",
    "    - array2: Data for the second array.\n",
    "    - bins: Number of bins for the histogram.\n",
    "    - x_range: Range of the histogram.\n",
    "    - y_limit1: Limit for the y-axis of the first histogram.\n",
    "    - y_limit2: Limit for the y-axis of the second histogram.\n",
    "    - color1: Color for the first histogram.\n",
    "    - color2: Color for the second histogram.\n",
    "    - title1: Title for the first histogram.\n",
    "    - title2: Title for the second histogram.\n",
    "    \"\"\"\n",
    "    # Create two subplots for the histograms\n",
    "    fig, axs = plt.subplots(1, 2, figsize=(12, 5))\n",
    "\n",
    "    # Plot the first histogram\n",
    "    axs[0].hist(array1, bins=bins, range=x_range, alpha=0.7, color=color1)\n",
    "    axs[0].set_title(title1)\n",
    "    axs[0].set_xlabel('Value')\n",
    "    axs[0].set_ylabel('Frequency')\n",
    "    if y_limit1:\n",
    "        axs[0].set_ylim(y_limit1)\n",
    "\n",
    "    # Plot the second histogram\n",
    "    axs[1].hist(array2, bins=bins, range=x_range, alpha=0.7, color=color2)\n",
    "    axs[1].set_title(title2)\n",
    "    axs[1].set_xlabel('Value')\n",
    "    axs[1].set_ylabel('Frequency')\n",
    "    if y_limit2:\n",
    "        axs[1].set_ylim(y_limit2)\n",
    "\n",
    "    # Adjust layout to prevent overlap\n",
    "    plt.tight_layout()\n",
    "\n",
    "    # Define the output image path\n",
    "    output_image = os.path.join(model_train_directory, f\"{problem}_Var{var}_Visc{visc}_Struct{struct}_Sensor{n_points}_Batch{batch_size}_Hist.png\")\n",
    "\n",
    "    # Save the plot as a PNG file\n",
    "    plt.savefig(output_image)\n",
    "\n",
    "    # Show the plot\n",
    "    plt.show()\n",
    "\n",
    "plot_dual_histogram(train_relative_l2_err, test_relative_l2_err, y_limit1=(0, 250), y_limit2=(0, 50))"
   ],
   "id": "13fc903e6476888f",
   "outputs": [
    {
     "data": {
      "text/plain": [
       "<Figure size 1200x500 with 2 Axes>"
      ],
      "image/png": "[encoded data removed]"
     },
     "metadata": {},
     "output_type": "display_data"
    }
   ],
   "execution_count": 42
  },
  {
   "metadata": {
    "ExecuteTime": {
     "end_time": "2024-11-23T01:36:32.386815Z",
     "start_time": "2024-11-23T01:36:32.363775Z"
    }
   },
   "cell_type": "code",
   "source": [
    "time_filename = f\"{problem}_Var{var}_Visc{visc}_Struct{struct}_Sensor{n_points}_Batch{batch_size}-final.time\"\n",
    "\n",
    "time_array_file = os.path.join(model_train_directory, time_filename)\n",
    "time_array_loaded = np.load(time_array_file)\n",
    "\n",
    "time_mean = np.mean(time_array_loaded, axis=-1)\n",
    "\n",
    "# The mean time taken for each epoch\n",
    "print(f\"The mean time taken for each epoch is {time_mean}.\")"
   ],
   "id": "93979baa12a17d21",
   "outputs": [
    {
     "ename": "FileNotFoundError",
     "evalue": "[Errno 2] No such file or directory: 'C:\\\\Users\\\\weiz828\\\\DON\\\\1d_train\\\\heat_Var0_Visc1_Struct2_Sensor50_Batch20-final.time'",
     "output_type": "error",
     "traceback": [
      "\u001B[1;31m---------------------------------------------------------------------------\u001B[0m",
      "\u001B[1;31mFileNotFoundError\u001B[0m                         Traceback (most recent call last)",
      "Cell \u001B[1;32mIn[43], line 4\u001B[0m\n\u001B[0;32m      1\u001B[0m time_filename \u001B[38;5;241m=\u001B[39m \u001B[38;5;124mf\u001B[39m\u001B[38;5;124m\"\u001B[39m\u001B[38;5;132;01m{\u001B[39;00mproblem\u001B[38;5;132;01m}\u001B[39;00m\u001B[38;5;124m_Var\u001B[39m\u001B[38;5;132;01m{\u001B[39;00mvar\u001B[38;5;132;01m}\u001B[39;00m\u001B[38;5;124m_Visc\u001B[39m\u001B[38;5;132;01m{\u001B[39;00mvisc\u001B[38;5;132;01m}\u001B[39;00m\u001B[38;5;124m_Struct\u001B[39m\u001B[38;5;132;01m{\u001B[39;00mstruct\u001B[38;5;132;01m}\u001B[39;00m\u001B[38;5;124m_Sensor\u001B[39m\u001B[38;5;132;01m{\u001B[39;00mn_points\u001B[38;5;132;01m}\u001B[39;00m\u001B[38;5;124m_Batch\u001B[39m\u001B[38;5;132;01m{\u001B[39;00mbatch_size\u001B[38;5;132;01m}\u001B[39;00m\u001B[38;5;124m-final.time\u001B[39m\u001B[38;5;124m\"\u001B[39m\n\u001B[0;32m      3\u001B[0m time_array_file \u001B[38;5;241m=\u001B[39m os\u001B[38;5;241m.\u001B[39mpath\u001B[38;5;241m.\u001B[39mjoin(model_train_directory, time_filename)\n\u001B[1;32m----> 4\u001B[0m time_array_loaded \u001B[38;5;241m=\u001B[39m np\u001B[38;5;241m.\u001B[39mload(time_array_file)\n\u001B[0;32m      6\u001B[0m time_mean \u001B[38;5;241m=\u001B[39m np\u001B[38;5;241m.\u001B[39mmean(time_array_loaded, axis\u001B[38;5;241m=\u001B[39m\u001B[38;5;241m-\u001B[39m\u001B[38;5;241m1\u001B[39m)\n\u001B[0;32m      8\u001B[0m \u001B[38;5;66;03m# The mean time taken for each epoch\u001B[39;00m\n",
      "File \u001B[1;32m~\\.conda\\envs\\test\\Lib\\site-packages\\numpy\\lib\\npyio.py:427\u001B[0m, in \u001B[0;36mload\u001B[1;34m(file, mmap_mode, allow_pickle, fix_imports, encoding, max_header_size)\u001B[0m\n\u001B[0;32m    425\u001B[0m     own_fid \u001B[38;5;241m=\u001B[39m \u001B[38;5;28;01mFalse\u001B[39;00m\n\u001B[0;32m    426\u001B[0m \u001B[38;5;28;01melse\u001B[39;00m:\n\u001B[1;32m--> 427\u001B[0m     fid \u001B[38;5;241m=\u001B[39m stack\u001B[38;5;241m.\u001B[39menter_context(\u001B[38;5;28mopen\u001B[39m(os_fspath(file), \u001B[38;5;124m\"\u001B[39m\u001B[38;5;124mrb\u001B[39m\u001B[38;5;124m\"\u001B[39m))\n\u001B[0;32m    428\u001B[0m     own_fid \u001B[38;5;241m=\u001B[39m \u001B[38;5;28;01mTrue\u001B[39;00m\n\u001B[0;32m    430\u001B[0m \u001B[38;5;66;03m# Code to distinguish from NumPy binary files and pickles.\u001B[39;00m\n",
      "\u001B[1;31mFileNotFoundError\u001B[0m: [Errno 2] No such file or directory: 'C:\\\\Users\\\\weiz828\\\\DON\\\\1d_train\\\\heat_Var0_Visc1_Struct2_Sensor50_Batch20-final.time'"
     ]
    }
   ],
   "execution_count": 43
  }
 ],
 "metadata": {
  "kernelspec": {
   "display_name": "Python 3",
   "language": "python",
   "name": "python3"
  },
  "language_info": {
   "codemirror_mode": {
    "name": "ipython",
    "version": 2
   },
   "file_extension": ".py",
   "mimetype": "text/x-python",
   "name": "python",
   "nbconvert_exporter": "python",
   "pygments_lexer": "ipython2",
   "version": "2.7.6"
  }
 },
 "nbformat": 4,
 "nbformat_minor": 5
}
