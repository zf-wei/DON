{
 "cells": [
  {
   "cell_type": "code",
   "execution_count": 1,
   "id": "b7581882a095f88",
   "metadata": {
    "ExecuteTime": {
     "end_time": "2024-11-24T08:00:00.982033Z",
     "start_time": "2024-11-24T07:59:57.713472Z"
    }
   },
   "outputs": [],
   "source": [
    "import os\n",
    "import numpy as np\n",
    "import torch\n",
    "from torch.utils.data import DataLoader, Dataset\n",
    "\n",
    "\n",
    "import torch.optim as optim\n",
    "import sys\n",
    "\n",
    "\n",
    "sys.path.append(os.path.abspath(os.path.expanduser(\"~/DON\")))\n",
    "\n",
    "'''\n",
    "import argparse\n",
    "parser = argparse.ArgumentParser(description=\"DeepONet with configurable parameters.\")\n",
    "parser.add_argument('--problem', type=str, default=\"heat\", help='Problem to solve')\n",
    "parser.add_argument('--var', type=int, default=0, help='Variant of DeepONet'\n",
    "parser.add_argument('--visc', type=float, default=0.0001, help='Viscosity')\n",
    "parser.add_argument('--struct', type=int, default=1, help='Structure of DeepONet')\n",
    "parser.add_argument('--sensor', type=int, default=50, help='Number of sensors')\n",
    "parser.add_argument('--boundary_parameter', type=float, default=0, help='Weight parameter for boundary conditions')\n",
    "parser.add_argument('--initial_parameter', type=float, default=0, help='Weight parameter for initial conditions')\n",
    "# 解析命令行参数\n",
    "args = parser.parse_args()\n",
    "problem = args.problem\n",
    "var = args.var\n",
    "visc = args.visc\n",
    "struct = args.struct\n",
    "n_points = args.sensor\n",
    "boundary_parameter = args.boundary_parameter\n",
    "initial_parameter = args.initial_parameter\n",
    "'''\n",
    "problem = \"burgers\"\n",
    "var = 6\n",
    "visc = 0.0001\n",
    "struct = 1\n",
    "n_points = 101\n",
    "boundary_parameter = 0\n",
    "initial_parameter = 0\n",
    "\n",
    "epochs = 10\n",
    "## 需要修改"
   ]
  },
  {
   "cell_type": "code",
   "execution_count": 2,
   "id": "96e92850a88f7af6",
   "metadata": {
    "ExecuteTime": {
     "end_time": "2024-11-24T08:00:01.161946Z",
     "start_time": "2024-11-24T08:00:01.027003Z"
    }
   },
   "outputs": [],
   "source": [
    "# In this cell, we define the configurable parameters for the DeepONet\n",
    "\n",
    "time_limit = 1\n",
    "time_step = 0.01\n",
    "\n",
    "if problem==\"heat\":\n",
    "    time_start = time_step\n",
    "    total_time_steps = int(time_limit/time_step)\n",
    "    from utilities.tools import get_cell_centers\n",
    "    evaluating_points = get_cell_centers(n_points=n_points)\n",
    "elif problem==\"burgers\":\n",
    "    time_start = 0\n",
    "    total_time_steps = (int(time_limit/time_step)+1)\n",
    "    evaluating_points = np.linspace(0, 1, n_points)\n",
    "\n",
    "evaluating_points = np.around(evaluating_points, decimals=2)\n",
    "\n",
    "total_sample = 500\n",
    "border = int(total_sample * 4 / 5) # 设置训练集和测试集的边界\n",
    "batch_size = 200\n",
    "\n",
    "\n",
    "# Hyperparameters\n",
    "branch_input_dim = n_points  # Number of points to represent the original function\n",
    "trunk_input_dim = 2     # Coordinate where we evaluate the transformed function\n",
    "\n",
    "# Define the dictionary mapping struct values to neural network structures\n",
    "if var!=6:\n",
    "    structures = {\n",
    "        1: {'hidden_dims': [100, 100, 100, 100], 'output_dim': 50},\n",
    "        2: {'hidden_dims': [200, 200, 200, 200], 'output_dim': 50}\n",
    "    }\n",
    "\n",
    "    # Get the configuration based on the struct value\n",
    "    config = structures.get(struct, {'hidden_dims': [], 'output_dim': 0})\n",
    "\n",
    "    hidden_dims = config['hidden_dims']\n",
    "    output_dim = config['output_dim']\n",
    "elif var==6:\n",
    "    structure_params = {\n",
    "        1: (3, 3, 100, 50),\n",
    "        2: (3, 3, 200, 50),\n",
    "    }\n",
    "    if struct in structure_params:\n",
    "        branch_depth, trunk_depth, hidden_dim, output_dim = structure_params[struct]\n",
    "    else:\n",
    "        raise ValueError(\"Invalid structure type\")"
   ]
  },
  {
   "cell_type": "code",
   "execution_count": 3,
   "id": "f5b174778098c640",
   "metadata": {
    "ExecuteTime": {
     "end_time": "2024-11-24T08:00:01.238890Z",
     "start_time": "2024-11-24T08:00:01.233261Z"
    }
   },
   "outputs": [
    {
     "name": "stdout",
     "output_type": "stream",
     "text": [
      "The dimension of y_tensor is torch.Size([10201, 2]).\n",
      "The dimension of y_expanded is torch.Size([500, 10201, 2]) after expanding.\n",
      "The zero coordinate of y_expanded is time and the first coordinate is space.\n"
     ]
    }
   ],
   "source": [
    "# In this cell, we import the function to get the cell centers of a 1D mesh.\n",
    "# Also, we set up the spatial and temporal grid points for the training and testing datasets.\n",
    "# This is the so-called y_expanded tensor.\n",
    "time_steps = np.arange(time_start, time_limit+time_step, time_step)\n",
    "time_steps = np.around(time_steps, decimals=2)\n",
    "\n",
    "Y1, Y2 = np.meshgrid(evaluating_points, time_steps)  # 第一个变量进行行展开，第二个变量进行列展开\n",
    "\n",
    "y = np.column_stack([Y2.ravel(),Y1.ravel()]) \n",
    "# 先将 Y2 和 Y1 进行展开，然后将展开后的两个向量进行列合并\n",
    "\n",
    "y_tensor = torch.tensor(y, dtype=torch.float)\n",
    "print(f\"The dimension of y_tensor is {y_tensor.shape}.\")\n",
    "y_expanded = y_tensor.unsqueeze(0).expand(total_sample, -1, -1)\n",
    "print(f\"The dimension of y_expanded is {y_expanded.shape} after expanding.\")\n",
    "print(\"The zero coordinate of y_expanded is time and the first coordinate is space.\")"
   ]
  },
  {
   "cell_type": "code",
   "execution_count": 4,
   "id": "5207f665c8910c7b",
   "metadata": {
    "ExecuteTime": {
     "end_time": "2024-11-24T08:00:01.292322Z",
     "start_time": "2024-11-24T08:00:01.278763Z"
    }
   },
   "outputs": [
    {
     "name": "stdout",
     "output_type": "stream",
     "text": [
      "The dimensions of the initial conditions are: (500, 101)\n",
      "The dimensions of the solutions are: (500, 101, 101)\n"
     ]
    }
   ],
   "source": [
    "# In this cell, we load the initial conditions and solutions from the saved files.\n",
    "\n",
    "# Define the directory where you want to save the file\n",
    "from pathlib import Path\n",
    "# Get the current directory\n",
    "current_dir = Path.cwd()\n",
    "#data_directory = os.path.join(current_dir.parent, 'data')\n",
    "## 需要修改\n",
    "data_directory = os.path.join(current_dir, 'data')\n",
    "initials_name = f'{problem}_initials_{visc}_{len(evaluating_points)}.npy'\n",
    "solutions_name = f'{problem}_solutions_{visc}_{len(evaluating_points)}.npy'\n",
    "\n",
    "# Define the file paths\n",
    "initials_path = os.path.join(data_directory, initials_name)\n",
    "solutions_path = os.path.join(data_directory, solutions_name)\n",
    "\n",
    "# Load the data\n",
    "initials = np.load(initials_path)\n",
    "solutions = np.load(solutions_path)\n",
    "\n",
    "print(f\"The dimensions of the initial conditions are: {initials.shape}\")\n",
    "print(f\"The dimensions of the solutions are: {solutions.shape}\")"
   ]
  },
  {
   "cell_type": "code",
   "execution_count": 5,
   "id": "263385cef0858257",
   "metadata": {
    "ExecuteTime": {
     "end_time": "2024-11-24T08:00:01.384103Z",
     "start_time": "2024-11-24T08:00:01.358481Z"
    }
   },
   "outputs": [
    {
     "name": "stdout",
     "output_type": "stream",
     "text": [
      "The dimension of u_tensor is torch.Size([500, 101]).\n",
      "The dimension of u_expanded is torch.Size([500, 10201, 101]) after expanding.\n"
     ]
    }
   ],
   "source": [
    "# In this cell, we arrange the initial conditions into the desired format for training the DeepONet.\n",
    "# This is the so-called u_expanded tensor.\n",
    "u_tensor = torch.tensor(initials, dtype=torch.float)\n",
    "print(f\"The dimension of u_tensor is {u_tensor.shape}.\")\n",
    "\n",
    "u_expanded = u_tensor.unsqueeze(1) # u_expanded: tensor[total_sample, 1, n_points]\n",
    "u_expanded = u_expanded.expand(-1, total_time_steps * n_points, -1) # u_expanded: tensor[total_sample, total_time_steps*n_points, n_points]\n",
    "print(f\"The dimension of u_expanded is {u_expanded.shape} after expanding.\")"
   ]
  },
  {
   "cell_type": "code",
   "execution_count": 6,
   "id": "40e93725c26537d",
   "metadata": {
    "ExecuteTime": {
     "end_time": "2024-11-24T08:00:01.443776Z",
     "start_time": "2024-11-24T08:00:01.438012Z"
    }
   },
   "outputs": [],
   "source": [
    "# I have a tensor of shape (total_sample, n_points) representing the initial conditions. In this cell, I wanted to expand it to (total_sample, total_time_steps*n_points) by repeating the initial conditions for each time step.\n",
    "\n",
    "# Assuming u_tensor is the tensor of shape (total_sample, n_points)\n",
    "# Expand the tensor to (total_sample, total_time_steps*n_points)\n",
    "u_corresponding = u_tensor.repeat(1, total_time_steps)\n",
    "u_corresponding = u_corresponding.unsqueeze(2) # This is the so-called corresponding initial value\n",
    "\n",
    "# Take the spatial coordinate of the y_expanded tensor\n",
    "y_space = y_expanded[:, :, 1].unsqueeze(-1)"
   ]
  },
  {
   "cell_type": "code",
   "execution_count": 7,
   "id": "addb4d7d40a31a60",
   "metadata": {
    "ExecuteTime": {
     "end_time": "2024-11-24T08:00:01.521378Z",
     "start_time": "2024-11-24T08:00:01.518163Z"
    }
   },
   "outputs": [],
   "source": [
    "# In this cell, we modify the input of the DeepONet based on the variant chosen.\n",
    "# We also update the input dimensions of the DeepONet based on the variant chosen.\n",
    "if var==2 or var==3:\n",
    "    y_expanded = torch.cat((y_expanded, u_corresponding), dim=-1)\n",
    "elif var==4:\n",
    "    y_expanded = torch.cat((y_expanded, u_expanded), dim=-1)\n",
    "\n",
    "if var== 1 or var==3 or var==4:\n",
    "    u_expanded = torch.cat((u_expanded, y_space), dim=-1)\n",
    "\n",
    "var_mapping = {\n",
    "    1: {'var_branch_input_dim': branch_input_dim + 1, 'var_trunk_input_dim': trunk_input_dim},\n",
    "    2: {'var_branch_input_dim': branch_input_dim, 'var_trunk_input_dim': trunk_input_dim + 1},\n",
    "    3: {'var_branch_input_dim': branch_input_dim + 1, 'var_trunk_input_dim': trunk_input_dim + 1},\n",
    "    4: {'var_branch_input_dim': branch_input_dim + 1, 'var_trunk_input_dim': trunk_input_dim + branch_input_dim}\n",
    "}\n",
    "\n",
    "if var in var_mapping:\n",
    "    branch_input_dim = var_mapping[var]['var_branch_input_dim']\n",
    "    trunk_input_dim = var_mapping[var]['var_trunk_input_dim']"
   ]
  },
  {
   "cell_type": "code",
   "execution_count": 8,
   "id": "d8da03c7d319f1d3",
   "metadata": {
    "ExecuteTime": {
     "end_time": "2024-11-24T08:00:01.651327Z",
     "start_time": "2024-11-24T08:00:01.595630Z"
    }
   },
   "outputs": [
    {
     "name": "stdout",
     "output_type": "stream",
     "text": [
      "The loaded solution dataset has dimension (500, 101, 101),\n",
      "\t while the arranged linearized dataset has dimension (500, 10201).\n",
      "The dimension of s_tensor is torch.Size([500, 10201]).\n",
      "The dimension of s_expanded is torch.Size([500, 10201, 1]) after expanding.\n"
     ]
    }
   ],
   "source": [
    "# In this cell, we arrange the solutions into the desired format for training the DeepONet.\n",
    "# This is the so-called s_expanded tensor.\n",
    "\n",
    "solutions_linear = np.zeros((total_sample, total_time_steps*n_points))\n",
    "\n",
    "for i in range(total_sample):\n",
    "    solutions_linear[i] = solutions[i].flatten()\n",
    "\n",
    "# solutions is a 3D array of shape (total_sample, total_time_steps, n_points)\n",
    "print(f\"The loaded solution dataset has dimension {solutions.shape},\\n\\t while the arranged linearized dataset has dimension {solutions_linear.shape}.\")\n",
    "\n",
    "s_tensor  = torch.tensor(solutions_linear, dtype=torch.float) # s_tensor: tensor[total_sample, total_time_steps*n_points]\n",
    "s_expanded  = s_tensor.unsqueeze(2) # s_expanded: tensor[total_sample, total_time_steps*n_points, 1]\n",
    "\n",
    "print(f\"The dimension of s_tensor is {s_tensor.shape}.\")\n",
    "print(f\"The dimension of s_expanded is {s_expanded.shape} after expanding.\")"
   ]
  },
  {
   "cell_type": "code",
   "execution_count": 9,
   "id": "f93069c846cf6a35",
   "metadata": {
    "ExecuteTime": {
     "end_time": "2024-11-24T08:00:01.767404Z",
     "start_time": "2024-11-24T08:00:01.718438Z"
    }
   },
   "outputs": [],
   "source": [
    "u_train = u_expanded[:border]\n",
    "y_train = y_expanded[:border]\n",
    "s_train = s_expanded[:border]\n",
    "\n",
    "u_test = u_expanded[border:]\n",
    "y_test = y_expanded[border:]\n",
    "s_test = s_expanded[border:]\n",
    "\n",
    "u_train_combined = u_train.reshape(-1, u_train.shape[-1])\n",
    "y_train_combined = y_train.reshape(-1, y_train.shape[-1])\n",
    "s_train_combined = s_train.reshape(-1, s_train.shape[-1])\n",
    "\n",
    "u_test_combined = u_test.reshape(-1, u_test.shape[-1])\n",
    "y_test_combined = y_test.reshape(-1, y_test.shape[-1])\n",
    "s_test_combined = s_test.reshape(-1, s_test.shape[-1])"
   ]
  },
  {
   "cell_type": "code",
   "execution_count": 10,
   "id": "d2ddab2e8403f03b",
   "metadata": {
    "ExecuteTime": {
     "end_time": "2024-11-24T08:00:02.628465Z",
     "start_time": "2024-11-24T08:00:01.872925Z"
    }
   },
   "outputs": [],
   "source": [
    "from utilities.tools import CustomDataset as CustomDataset\n",
    "\n",
    "train_set = CustomDataset(u_train_combined, y_train_combined, s_train_combined)\n",
    "test_set = CustomDataset(u_test_combined, y_test_combined, s_test_combined)\n",
    "\n",
    "# 创建 DataLoader\n",
    "train_loader = DataLoader(train_set, batch_size=batch_size, shuffle=True, num_workers=1) \n",
    "test_loader = DataLoader(test_set, batch_size=batch_size, shuffle=False, num_workers=1)"
   ]
  },
  {
   "cell_type": "code",
   "execution_count": 11,
   "id": "b2eb4da6aa21f586",
   "metadata": {
    "ExecuteTime": {
     "end_time": "2024-11-24T08:00:04.253587Z",
     "start_time": "2024-11-24T08:00:02.663173Z"
    }
   },
   "outputs": [],
   "source": [
    "# In this cell, we import and set up the model and load the trained parameters\n",
    "# The loss function is also imported here.\n",
    "\n",
    "# Create model\n",
    "device = torch.device(\"cuda\" if torch.cuda.is_available() else \"cpu\")\n",
    "\n",
    "if var!=6:\n",
    "    from utilities.DeepONets import DeepONet\n",
    "    model = DeepONet(branch_input_dim, trunk_input_dim, hidden_dims, output_dim).to(device)\n",
    "elif var==6:\n",
    "    from utilities.DeepONets import ModifiedDeepONet\n",
    "    model = ModifiedDeepONet(branch_input_dim, branch_depth, trunk_input_dim, trunk_depth, hidden_dim, output_dim).to(device)\n",
    "\n",
    "optimizer = optim.Adam(model.parameters(), lr=0.001)\n",
    "\n",
    "from utilities.loss_fns import loss_fn_1d_combined as loss_fn"
   ]
  },
  {
   "cell_type": "code",
   "execution_count": 12,
   "id": "efc153cac14e1864",
   "metadata": {
    "ExecuteTime": {
     "end_time": "2024-11-24T08:22:50.711403Z",
     "start_time": "2024-11-24T08:00:04.301221Z"
    }
   },
   "outputs": [
    {
     "name": "stdout",
     "output_type": "stream",
     "text": [
      "Epoch 1\n"
     ]
    },
    {
     "name": "stderr",
     "output_type": "stream",
     "text": [
      "A best model at epoch 1 has been saved with training error 0.07130751758814.\n",
      "A best model at epoch 1 has been saved with training error 0.05493315681815.\n",
      "A best model at epoch 1 has been saved with training error 0.04042528942227.\n",
      "A best model at epoch 1 has been saved with training error 0.03852324187756.\n",
      "A best model at epoch 1 has been saved with training error 0.03740754351020.\n",
      "A best model at epoch 1 has been saved with training error 0.03395159542561.\n",
      "A best model at epoch 1 has been saved with training error 0.03019261546433.\n",
      "A best model at epoch 1 has been saved with training error 0.02950501628220.\n",
      "A best model at epoch 1 has been saved with training error 0.02892813645303.\n",
      "A best model at epoch 1 has been saved with training error 0.02622865512967.\n",
      "A best model at epoch 1 has been saved with training error 0.02228167839348.\n",
      "A best model at epoch 1 has been saved with training error 0.02117829769850.\n",
      "A best model at epoch 1 has been saved with training error 0.01697472855449.\n",
      "A best model at epoch 1 has been saved with training error 0.01640832237899.\n",
      "A best model at epoch 1 has been saved with training error 0.01513962168247.\n",
      "A best model at epoch 1 has been saved with training error 0.01472357008606.\n",
      "A best model at epoch 1 has been saved with training error 0.01382827758789.\n",
      "A best model at epoch 1 has been saved with training error 0.01040088851005.\n",
      "A best model at epoch 1 has been saved with training error 0.00839616637677.\n",
      "A best model at epoch 1 has been saved with training error 0.00749490596354.\n",
      "A best model at epoch 1 has been saved with training error 0.00683064619079.\n",
      "A best model at epoch 1 has been saved with training error 0.00643204618245.\n",
      "A best model at epoch 1 has been saved with training error 0.00544200884178.\n",
      "A best model at epoch 1 has been saved with training error 0.00497500551865.\n",
      "A best model at epoch 1 has been saved with training error 0.00482203904539.\n",
      "A best model at epoch 1 has been saved with training error 0.00465547479689.\n",
      "A best model at epoch 1 has been saved with training error 0.00409226166084.\n",
      "A best model at epoch 1 has been saved with training error 0.00370287988335.\n",
      "A best model at epoch 1 has been saved with training error 0.00364799029194.\n",
      "A best model at epoch 1 has been saved with training error 0.00339388824068.\n",
      "A best model at epoch 1 has been saved with training error 0.00254370365292.\n",
      "A best model at epoch 1 has been saved with training error 0.00235020974651.\n",
      "A best model at epoch 1 has been saved with training error 0.00214136834256.\n",
      "A best model at epoch 1 has been saved with training error 0.00192001054529.\n",
      "A best model at epoch 1 has been saved with training error 0.00169496005401.\n",
      "A best model at epoch 1 has been saved with training error 0.00129513617139.\n",
      "A best model at epoch 1 has been saved with training error 0.00123910908587.\n",
      "A best model at epoch 1 has been saved with training error 0.00104636466131.\n",
      "A best model at epoch 1 has been saved with training error 0.00086704897694.\n",
      "A best model at epoch 1 has been saved with training error 0.00074552668957.\n",
      "A best model at epoch 1 has been saved with training error 0.00068200362148.\n",
      "A best model at epoch 1 has been saved with training error 0.00067879818380.\n",
      "A best model at epoch 1 has been saved with training error 0.00061809236649.\n",
      "A best model at epoch 1 has been saved with training error 0.00059642718406.\n",
      "A best model at epoch 1 has been saved with training error 0.00046378359548.\n",
      "A best model at epoch 1 has been saved with training error 0.00032253339305.\n",
      "A best model at epoch 1 has been saved with training error 0.00028848930378.\n",
      "A best model at epoch 1 has been saved with training error 0.00022440288740.\n",
      "A best model at epoch 1 has been saved with training error 0.00021132479014.\n",
      "A best model at epoch 1 has been saved with training error 0.00020159776614.\n",
      "A best model at epoch 1 has been saved with training error 0.00014521350386.\n"
     ]
    },
    {
     "name": "stdout",
     "output_type": "stream",
     "text": [
      "Epoch 1, Loss: 0.00184513304822, Improvement: 0.00184513304822, Best Loss: 0.00014521350386 in Epoch 1, Time: 196.90 seconds\n",
      "Epoch 2\n"
     ]
    },
    {
     "name": "stderr",
     "output_type": "stream",
     "text": [
      "A best model at epoch 2 has been saved with training error 0.00014128501061.\n",
      "A best model at epoch 2 has been saved with training error 0.00013979636424.\n",
      "A best model at epoch 2 has been saved with training error 0.00011285228538.\n",
      "A best model at epoch 2 has been saved with training error 0.00010896160529.\n",
      "A best model at epoch 2 has been saved with training error 0.00010274176748.\n",
      "A best model at epoch 2 has been saved with training error 0.00009213304293.\n"
     ]
    },
    {
     "name": "stdout",
     "output_type": "stream",
     "text": [
      "Epoch 2, Loss: 0.00100038855943, Improvement: -0.00084474448880, Best Loss: 0.00009213304293 in Epoch 2, Time: 179.41 seconds\n",
      "Epoch 3\n"
     ]
    },
    {
     "name": "stderr",
     "output_type": "stream",
     "text": [
      "A best model at epoch 3 has been saved with training error 0.00009185008093.\n",
      "A best model at epoch 3 has been saved with training error 0.00008634954429.\n"
     ]
    },
    {
     "name": "stdout",
     "output_type": "stream",
     "text": [
      "Epoch 3, Loss: 0.00085902686189, Improvement: -0.00014136169754, Best Loss: 0.00008634954429 in Epoch 3, Time: 180.18 seconds\n",
      "Epoch 4\n"
     ]
    },
    {
     "name": "stderr",
     "output_type": "stream",
     "text": [
      "A best model at epoch 4 has been saved with training error 0.00008556051034.\n",
      "A best model at epoch 4 has been saved with training error 0.00007419510803.\n"
     ]
    },
    {
     "name": "stdout",
     "output_type": "stream",
     "text": [
      "Epoch 4, Loss: 0.00077044556451, Improvement: -0.00008858129737, Best Loss: 0.00007419510803 in Epoch 4, Time: 185.62 seconds\n",
      "Epoch 5\n"
     ]
    },
    {
     "name": "stderr",
     "output_type": "stream",
     "text": [
      "A best model at epoch 5 has been saved with training error 0.00006728344306.\n"
     ]
    },
    {
     "name": "stdout",
     "output_type": "stream",
     "text": [
      "Epoch 5, Loss: 0.00072729114700, Improvement: -0.00004315441752, Best Loss: 0.00006728344306 in Epoch 5, Time: 189.16 seconds\n",
      "Epoch 6\n"
     ]
    },
    {
     "name": "stderr",
     "output_type": "stream",
     "text": [
      "A best model at epoch 6 has been saved with training error 0.00006639346248.\n",
      "A best model at epoch 6 has been saved with training error 0.00006415438111.\n"
     ]
    },
    {
     "name": "stdout",
     "output_type": "stream",
     "text": [
      "Epoch 6, Loss: 0.00068320637536, Improvement: -0.00004408477164, Best Loss: 0.00006415438111 in Epoch 6, Time: 188.33 seconds\n",
      "Epoch 7\n"
     ]
    },
    {
     "name": "stderr",
     "output_type": "stream",
     "text": [
      "A best model at epoch 7 has been saved with training error 0.00006033829050.\n",
      "A best model at epoch 7 has been saved with training error 0.00006019321881.\n"
     ]
    },
    {
     "name": "stdout",
     "output_type": "stream",
     "text": [
      "Epoch 7, Loss: 0.00066880499877, Improvement: -0.00001440137659, Best Loss: 0.00006019321881 in Epoch 7, Time: 188.24 seconds\n",
      "Epoch 8\n"
     ]
    },
    {
     "name": "stderr",
     "output_type": "stream",
     "text": [
      "A best model at epoch 8 has been saved with training error 0.00005907765080.\n"
     ]
    },
    {
     "ename": "KeyboardInterrupt",
     "evalue": "",
     "output_type": "error",
     "traceback": [
      "\u001b[0;31m---------------------------------------------------------------------------\u001b[0m",
      "\u001b[0;31mKeyboardInterrupt\u001b[0m                         Traceback (most recent call last)",
      "Cell \u001b[0;32mIn[12], line 21\u001b[0m\n\u001b[1;32m     18\u001b[0m target_batch \u001b[38;5;241m=\u001b[39m target_batch\u001b[38;5;241m.\u001b[39mto(device)\n\u001b[1;32m     20\u001b[0m optimizer\u001b[38;5;241m.\u001b[39mzero_grad()\n\u001b[0;32m---> 21\u001b[0m outputs \u001b[38;5;241m=\u001b[39m model(input1_batch, input2_batch)\n\u001b[1;32m     22\u001b[0m loss \u001b[38;5;241m=\u001b[39m loss_fn(outputs, target_batch, boundary_parameter, initial_parameter, total_time_steps, n_points)\n\u001b[1;32m     23\u001b[0m err\u001b[38;5;241m.\u001b[39mappend(loss\u001b[38;5;241m.\u001b[39mitem())\n",
      "File \u001b[0;32m~/.conda/envs/test/lib/python3.12/site-packages/torch/nn/modules/module.py:1553\u001b[0m, in \u001b[0;36mModule._wrapped_call_impl\u001b[0;34m(self, *args, **kwargs)\u001b[0m\n\u001b[1;32m   1551\u001b[0m     \u001b[38;5;28;01mreturn\u001b[39;00m \u001b[38;5;28mself\u001b[39m\u001b[38;5;241m.\u001b[39m_compiled_call_impl(\u001b[38;5;241m*\u001b[39margs, \u001b[38;5;241m*\u001b[39m\u001b[38;5;241m*\u001b[39mkwargs)  \u001b[38;5;66;03m# type: ignore[misc]\u001b[39;00m\n\u001b[1;32m   1552\u001b[0m \u001b[38;5;28;01melse\u001b[39;00m:\n\u001b[0;32m-> 1553\u001b[0m     \u001b[38;5;28;01mreturn\u001b[39;00m \u001b[38;5;28mself\u001b[39m\u001b[38;5;241m.\u001b[39m_call_impl(\u001b[38;5;241m*\u001b[39margs, \u001b[38;5;241m*\u001b[39m\u001b[38;5;241m*\u001b[39mkwargs)\n",
      "File \u001b[0;32m~/.conda/envs/test/lib/python3.12/site-packages/torch/nn/modules/module.py:1562\u001b[0m, in \u001b[0;36mModule._call_impl\u001b[0;34m(self, *args, **kwargs)\u001b[0m\n\u001b[1;32m   1557\u001b[0m \u001b[38;5;66;03m# If we don't have any hooks, we want to skip the rest of the logic in\u001b[39;00m\n\u001b[1;32m   1558\u001b[0m \u001b[38;5;66;03m# this function, and just call forward.\u001b[39;00m\n\u001b[1;32m   1559\u001b[0m \u001b[38;5;28;01mif\u001b[39;00m \u001b[38;5;129;01mnot\u001b[39;00m (\u001b[38;5;28mself\u001b[39m\u001b[38;5;241m.\u001b[39m_backward_hooks \u001b[38;5;129;01mor\u001b[39;00m \u001b[38;5;28mself\u001b[39m\u001b[38;5;241m.\u001b[39m_backward_pre_hooks \u001b[38;5;129;01mor\u001b[39;00m \u001b[38;5;28mself\u001b[39m\u001b[38;5;241m.\u001b[39m_forward_hooks \u001b[38;5;129;01mor\u001b[39;00m \u001b[38;5;28mself\u001b[39m\u001b[38;5;241m.\u001b[39m_forward_pre_hooks\n\u001b[1;32m   1560\u001b[0m         \u001b[38;5;129;01mor\u001b[39;00m _global_backward_pre_hooks \u001b[38;5;129;01mor\u001b[39;00m _global_backward_hooks\n\u001b[1;32m   1561\u001b[0m         \u001b[38;5;129;01mor\u001b[39;00m _global_forward_hooks \u001b[38;5;129;01mor\u001b[39;00m _global_forward_pre_hooks):\n\u001b[0;32m-> 1562\u001b[0m     \u001b[38;5;28;01mreturn\u001b[39;00m forward_call(\u001b[38;5;241m*\u001b[39margs, \u001b[38;5;241m*\u001b[39m\u001b[38;5;241m*\u001b[39mkwargs)\n\u001b[1;32m   1564\u001b[0m \u001b[38;5;28;01mtry\u001b[39;00m:\n\u001b[1;32m   1565\u001b[0m     result \u001b[38;5;241m=\u001b[39m \u001b[38;5;28;01mNone\u001b[39;00m\n",
      "File \u001b[0;32m/qfs/people/weiz828/DON/utilities/DeepONets.py:61\u001b[0m, in \u001b[0;36mModifiedDeepONet.forward\u001b[0;34m(self, u, y)\u001b[0m\n\u001b[1;32m     59\u001b[0m \u001b[38;5;28;01mfor\u001b[39;00m k \u001b[38;5;129;01min\u001b[39;00m \u001b[38;5;28mrange\u001b[39m(\u001b[38;5;28mlen\u001b[39m(\u001b[38;5;28mself\u001b[39m\u001b[38;5;241m.\u001b[39mbranch_net)\u001b[38;5;241m-\u001b[39m\u001b[38;5;241m1\u001b[39m):\n\u001b[1;32m     60\u001b[0m     B \u001b[38;5;241m=\u001b[39m \u001b[38;5;28mself\u001b[39m\u001b[38;5;241m.\u001b[39mactivation(\u001b[38;5;28mself\u001b[39m\u001b[38;5;241m.\u001b[39mbranch_net[k](u))\n\u001b[0;32m---> 61\u001b[0m     T \u001b[38;5;241m=\u001b[39m \u001b[38;5;28mself\u001b[39m\u001b[38;5;241m.\u001b[39mactivation(\u001b[38;5;28mself\u001b[39m\u001b[38;5;241m.\u001b[39mtrunk_net[k](y))\n\u001b[1;32m     63\u001b[0m     u \u001b[38;5;241m=\u001b[39m B \u001b[38;5;241m*\u001b[39m U \u001b[38;5;241m+\u001b[39m (\u001b[38;5;241m1\u001b[39m \u001b[38;5;241m-\u001b[39m B) \u001b[38;5;241m*\u001b[39m V\n\u001b[1;32m     64\u001b[0m     y \u001b[38;5;241m=\u001b[39m T \u001b[38;5;241m*\u001b[39m U \u001b[38;5;241m+\u001b[39m (\u001b[38;5;241m1\u001b[39m \u001b[38;5;241m-\u001b[39m T) \u001b[38;5;241m*\u001b[39m V\n",
      "File \u001b[0;32m~/.conda/envs/test/lib/python3.12/site-packages/torch/nn/modules/module.py:1553\u001b[0m, in \u001b[0;36mModule._wrapped_call_impl\u001b[0;34m(self, *args, **kwargs)\u001b[0m\n\u001b[1;32m   1551\u001b[0m     \u001b[38;5;28;01mreturn\u001b[39;00m \u001b[38;5;28mself\u001b[39m\u001b[38;5;241m.\u001b[39m_compiled_call_impl(\u001b[38;5;241m*\u001b[39margs, \u001b[38;5;241m*\u001b[39m\u001b[38;5;241m*\u001b[39mkwargs)  \u001b[38;5;66;03m# type: ignore[misc]\u001b[39;00m\n\u001b[1;32m   1552\u001b[0m \u001b[38;5;28;01melse\u001b[39;00m:\n\u001b[0;32m-> 1553\u001b[0m     \u001b[38;5;28;01mreturn\u001b[39;00m \u001b[38;5;28mself\u001b[39m\u001b[38;5;241m.\u001b[39m_call_impl(\u001b[38;5;241m*\u001b[39margs, \u001b[38;5;241m*\u001b[39m\u001b[38;5;241m*\u001b[39mkwargs)\n",
      "File \u001b[0;32m~/.conda/envs/test/lib/python3.12/site-packages/torch/nn/modules/module.py:1562\u001b[0m, in \u001b[0;36mModule._call_impl\u001b[0;34m(self, *args, **kwargs)\u001b[0m\n\u001b[1;32m   1557\u001b[0m \u001b[38;5;66;03m# If we don't have any hooks, we want to skip the rest of the logic in\u001b[39;00m\n\u001b[1;32m   1558\u001b[0m \u001b[38;5;66;03m# this function, and just call forward.\u001b[39;00m\n\u001b[1;32m   1559\u001b[0m \u001b[38;5;28;01mif\u001b[39;00m \u001b[38;5;129;01mnot\u001b[39;00m (\u001b[38;5;28mself\u001b[39m\u001b[38;5;241m.\u001b[39m_backward_hooks \u001b[38;5;129;01mor\u001b[39;00m \u001b[38;5;28mself\u001b[39m\u001b[38;5;241m.\u001b[39m_backward_pre_hooks \u001b[38;5;129;01mor\u001b[39;00m \u001b[38;5;28mself\u001b[39m\u001b[38;5;241m.\u001b[39m_forward_hooks \u001b[38;5;129;01mor\u001b[39;00m \u001b[38;5;28mself\u001b[39m\u001b[38;5;241m.\u001b[39m_forward_pre_hooks\n\u001b[1;32m   1560\u001b[0m         \u001b[38;5;129;01mor\u001b[39;00m _global_backward_pre_hooks \u001b[38;5;129;01mor\u001b[39;00m _global_backward_hooks\n\u001b[1;32m   1561\u001b[0m         \u001b[38;5;129;01mor\u001b[39;00m _global_forward_hooks \u001b[38;5;129;01mor\u001b[39;00m _global_forward_pre_hooks):\n\u001b[0;32m-> 1562\u001b[0m     \u001b[38;5;28;01mreturn\u001b[39;00m forward_call(\u001b[38;5;241m*\u001b[39margs, \u001b[38;5;241m*\u001b[39m\u001b[38;5;241m*\u001b[39mkwargs)\n\u001b[1;32m   1564\u001b[0m \u001b[38;5;28;01mtry\u001b[39;00m:\n\u001b[1;32m   1565\u001b[0m     result \u001b[38;5;241m=\u001b[39m \u001b[38;5;28;01mNone\u001b[39;00m\n",
      "File \u001b[0;32m~/.conda/envs/test/lib/python3.12/site-packages/torch/nn/modules/linear.py:117\u001b[0m, in \u001b[0;36mLinear.forward\u001b[0;34m(self, input)\u001b[0m\n\u001b[1;32m    116\u001b[0m \u001b[38;5;28;01mdef\u001b[39;00m \u001b[38;5;21mforward\u001b[39m(\u001b[38;5;28mself\u001b[39m, \u001b[38;5;28minput\u001b[39m: Tensor) \u001b[38;5;241m-\u001b[39m\u001b[38;5;241m>\u001b[39m Tensor:\n\u001b[0;32m--> 117\u001b[0m     \u001b[38;5;28;01mreturn\u001b[39;00m F\u001b[38;5;241m.\u001b[39mlinear(\u001b[38;5;28minput\u001b[39m, \u001b[38;5;28mself\u001b[39m\u001b[38;5;241m.\u001b[39mweight, \u001b[38;5;28mself\u001b[39m\u001b[38;5;241m.\u001b[39mbias)\n",
      "\u001b[0;31mKeyboardInterrupt\u001b[0m: "
     ]
    }
   ],
   "source": [
    "# 训练模型\n",
    "error_list = []\n",
    "time_list = []\n",
    "err_best = float('inf')\n",
    "err_prev = 0\n",
    "best_epoch = 0\n",
    "model_best = model.state_dict().copy()\n",
    "\n",
    "import time\n",
    "\n",
    "for epoch in range(epochs):\n",
    "    start_time = time.time()  # Record the start time\n",
    "    print(f\"Epoch {epoch+1}\") \n",
    "    err = []\n",
    "    for input1_batch, input2_batch, target_batch in train_loader:\n",
    "        input1_batch = input1_batch.to(device)\n",
    "        input2_batch = input2_batch.to(device)\n",
    "        target_batch = target_batch.to(device)\n",
    "\n",
    "        optimizer.zero_grad()\n",
    "        outputs = model(input1_batch, input2_batch)\n",
    "        loss = loss_fn(outputs, target_batch, boundary_parameter, initial_parameter, total_time_steps, n_points)\n",
    "        err.append(loss.item())\n",
    "        if loss.item()<err_best:\n",
    "            err_best = loss.item()\n",
    "            best_epoch = epoch\n",
    "            model_best = model.state_dict().copy()\n",
    "            model_filename_best = f\"{problem}_Var{var}_Visc{visc}_Struct{struct}_Sensor{n_points}_Batch{batch_size}-best.pth\"\n",
    "            torch.save(model_best, model_filename_best)\n",
    "            print(f\"A best model at epoch {epoch+1} has been saved with training error {err_best:.14f}.\", file=sys.stderr)\n",
    "        loss.backward()\n",
    "        optimizer.step()\n",
    "        del input1_batch, input2_batch, outputs, loss\n",
    "        torch.cuda.empty_cache()  # 释放当前批次的缓存\n",
    "    error_list.append(err)\n",
    "    err_curr = np.mean(err)\n",
    "    epoch_time = time.time() - start_time  # Calculate the elapsed time\n",
    "    time_list.append(epoch_time)\n",
    "\n",
    "    print(f\"Epoch {epoch+1}, Loss: {err_curr:.14f}, Improvement: {err_curr - err_prev:.14f}, Best Loss: {err_best:.14f} in Epoch {best_epoch+1}, Time: {epoch_time:.2f} seconds\")\n",
    "\n",
    "    err_prev = err_curr\n",
    "    if epoch%50==49:\n",
    "        # 保存损失值和模型，修改文件名以包含参数信息  \n",
    "        output_filename = f\"{problem}_Var{var}_Visc{visc}_Struct{struct}_Sensor{n_points}_Batch{batch_size}-final.npy\"\n",
    "        model_filename = f\"{problem}_Var{var}_Visc{visc}_Struct{struct}_Sensor{n_points}_Batch{batch_size}-final.pth\"\n",
    "        np.save(output_filename, np.array(error_list))\n",
    "        torch.save(model.state_dict(), model_filename)\n",
    "        print(f\"Model saving checkpoint: the model trained after epoch {epoch+1} has been saved with the training errors.\", file=sys.stderr)"
   ]
  },
  {
   "cell_type": "code",
   "execution_count": 13,
   "id": "828a564ec2bd2525",
   "metadata": {
    "ExecuteTime": {
     "end_time": "2024-11-24T08:26:46.332023Z",
     "start_time": "2024-11-24T08:26:46.302656Z"
    }
   },
   "outputs": [
    {
     "name": "stdout",
     "output_type": "stream",
     "text": [
      "[0.00184513 0.00100039 0.00085903 0.00077045 0.00072729 0.00068321\n",
      " 0.0006688 ]\n"
     ]
    }
   ],
   "source": [
    "errs = np.array(error_list)\n",
    "\n",
    "print(np.mean(errs,axis=1))\n",
    "\n",
    "## 需要修改"
   ]
  },
  {
   "cell_type": "code",
   "execution_count": 14,
   "id": "df781e2b09174ef8",
   "metadata": {
    "ExecuteTime": {
     "end_time": "2024-11-24T08:22:50.871721700Z",
     "start_time": "2024-11-24T07:21:14.447288Z"
    }
   },
   "outputs": [],
   "source": [
    "# 保存损失值和模型，修改文件名以包含参数信息\n",
    "error_filename = f\"{problem}_Var{var}_Visc{visc}_Struct{struct}_Sensor{n_points}_Batch{batch_size}-final.npy\"\n",
    "time_filename = f\"{problem}_Var{var}_Visc{visc}_Struct{struct}_Sensor{n_points}_Batch{batch_size}-final.time\"\n",
    "model_filename = f\"{problem}_Var{var}_Visc{visc}_Struct{struct}_Sensor{n_points}_Batch{batch_size}-final.pth\"\n",
    "\n",
    "np.save(error_filename, np.array(error_list))\n",
    "np.save(time_filename, np.array(time_list))\n",
    "torch.save(model.state_dict(), model_filename)"
   ]
  }
 ],
 "metadata": {
  "kernelspec": {
   "display_name": "Python 3",
   "language": "python",
   "name": "python3"
  },
  "language_info": {
   "codemirror_mode": {
    "name": "ipython",
    "version": 2
   },
   "file_extension": ".py",
   "mimetype": "text/x-python",
   "name": "python",
   "nbconvert_exporter": "python",
   "pygments_lexer": "ipython2",
   "version": "2.7.6"
  }
 },
 "nbformat": 4,
 "nbformat_minor": 5
}
