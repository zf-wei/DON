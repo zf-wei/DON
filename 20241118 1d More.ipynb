{
 "cells": [
  {
   "cell_type": "code",
   "execution_count": 1,
   "id": "b7581882a095f88",
   "metadata": {
    "ExecuteTime": {
     "end_time": "2024-11-24T18:11:31.994897Z",
     "start_time": "2024-11-24T18:11:19.288231Z"
    }
   },
   "outputs": [],
   "source": [
    "import os\n",
    "import numpy as np\n",
    "import torch\n",
    "from torch.utils.data import DataLoader, Dataset\n",
    "\n",
    "\n",
    "import torch.optim as optim\n",
    "import sys\n",
    "\n",
    "\n",
    "sys.path.append(os.path.abspath(os.path.expanduser(\"~/DON\")))\n",
    "\n",
    "'''\n",
    "import argparse\n",
    "parser = argparse.ArgumentParser(description=\"DeepONet with configurable parameters.\")\n",
    "parser.add_argument('--problem', type=str, default=\"heat\", help='Problem to solve')\n",
    "parser.add_argument('--var', type=int, default=0, help='Variant of DeepONet'\n",
    "parser.add_argument('--visc', type=float, default=0.0001, help='Viscosity')\n",
    "parser.add_argument('--struct', type=int, default=1, help='Structure of DeepONet')\n",
    "parser.add_argument('--sensor', type=int, default=50, help='Number of sensors')\n",
    "parser.add_argument('--boundary_parameter', type=float, default=0, help='Weight parameter for boundary conditions')\n",
    "parser.add_argument('--initial_parameter', type=float, default=0, help='Weight parameter for initial conditions')\n",
    "parser.add_argument('--batch_size', type=int, default=500, help='Batch size')\n",
    "# 解析命令行参数\n",
    "args = parser.parse_args()\n",
    "problem = args.problem\n",
    "var = args.var\n",
    "visc = args.visc\n",
    "struct = args.struct\n",
    "n_points = args.sensor\n",
    "boundary_parameter = args.boundary_parameter\n",
    "initial_parameter = args.initial_parameter\n",
    "batch_size = args.batch_size\n",
    "'''\n",
    "problem = \"burgers\"\n",
    "var = 6\n",
    "visc = 0.0001\n",
    "struct = 1\n",
    "n_points = 101\n",
    "boundary_parameter = 0\n",
    "initial_parameter = 0\n",
    "batch_size = 500\n",
    "\n",
    "epochs = 10\n",
    "## 需要修改"
   ]
  },
  {
   "cell_type": "code",
   "execution_count": 2,
   "id": "96e92850a88f7af6",
   "metadata": {
    "ExecuteTime": {
     "end_time": "2024-11-24T18:11:32.109152Z",
     "start_time": "2024-11-24T18:11:32.044923Z"
    }
   },
   "outputs": [],
   "source": [
    "# In this cell, we define the configurable parameters for the DeepONet\n",
    "\n",
    "time_limit = 1\n",
    "time_step = 0.01\n",
    "\n",
    "if problem==\"heat\":\n",
    "    time_start = time_step\n",
    "    total_time_steps = int(time_limit/time_step)\n",
    "    from utilities.tools import get_cell_centers\n",
    "    evaluating_points = get_cell_centers(n_points=n_points)\n",
    "elif problem==\"burgers\":\n",
    "    time_start = 0\n",
    "    total_time_steps = (int(time_limit/time_step)+1)\n",
    "    evaluating_points = np.linspace(0, 1, n_points)\n",
    "\n",
    "evaluating_points = np.around(evaluating_points, decimals=2)\n",
    "\n",
    "total_sample = 500\n",
    "border = int(total_sample * 4 / 5) # 设置训练集和测试集的边界\n",
    "\n",
    "\n",
    "# Hyperparameters\n",
    "branch_input_dim = n_points  # Number of points to represent the original function\n",
    "trunk_input_dim = 2     # Coordinate where we evaluate the transformed function\n",
    "\n",
    "# Define the dictionary mapping struct values to neural network structures\n",
    "if var!=6:\n",
    "    structures = {\n",
    "        1: {'hidden_dims': [100, 100, 100], 'output_dim': 50},\n",
    "        2: {'hidden_dims': [200, 200, 200], 'output_dim': 50}\n",
    "    }\n",
    "\n",
    "    # Get the configuration based on the struct value\n",
    "    config = structures.get(struct, {'hidden_dims': [], 'output_dim': 0})\n",
    "\n",
    "    hidden_dims = config['hidden_dims']\n",
    "    output_dim = config['output_dim']\n",
    "elif var==6:\n",
    "    structure_params = {\n",
    "        1: (3, 3, 100, 50),\n",
    "        2: (3, 3, 200, 50),\n",
    "    }\n",
    "    if struct in structure_params:\n",
    "        branch_depth, trunk_depth, hidden_dim, output_dim = structure_params[struct]\n",
    "    else:\n",
    "        raise ValueError(\"Invalid structure type\")"
   ]
  },
  {
   "cell_type": "code",
   "execution_count": 3,
   "id": "f5b174778098c640",
   "metadata": {
    "ExecuteTime": {
     "end_time": "2024-11-24T18:11:32.239610Z",
     "start_time": "2024-11-24T18:11:32.234871Z"
    }
   },
   "outputs": [
    {
     "name": "stdout",
     "output_type": "stream",
     "text": [
      "The dimension of y_tensor is torch.Size([10201, 2]).\n",
      "The dimension of y_expanded is torch.Size([500, 10201, 2]) after expanding.\n",
      "The zero coordinate of y_expanded is time and the first coordinate is space.\n"
     ]
    }
   ],
   "source": [
    "# In this cell, we import the function to get the cell centers of a 1D mesh.\n",
    "# Also, we set up the spatial and temporal grid points for the training and testing datasets.\n",
    "# This is the so-called y_expanded tensor.\n",
    "time_steps = np.arange(time_start, time_limit+time_step, time_step)\n",
    "time_steps = np.around(time_steps, decimals=2)\n",
    "\n",
    "Y1, Y2 = np.meshgrid(evaluating_points, time_steps)  # 第一个变量进行行展开，第二个变量进行列展开\n",
    "\n",
    "y = np.column_stack([Y2.ravel(),Y1.ravel()]) \n",
    "# 先将 Y2 和 Y1 进行展开，然后将展开后的两个向量进行列合并\n",
    "\n",
    "y_tensor = torch.tensor(y, dtype=torch.float)\n",
    "print(f\"The dimension of y_tensor is {y_tensor.shape}.\")\n",
    "y_expanded = y_tensor.unsqueeze(0).expand(total_sample, -1, -1)\n",
    "print(f\"The dimension of y_expanded is {y_expanded.shape} after expanding.\")\n",
    "print(\"The zero coordinate of y_expanded is time and the first coordinate is space.\")"
   ]
  },
  {
   "cell_type": "code",
   "execution_count": 4,
   "id": "5207f665c8910c7b",
   "metadata": {
    "ExecuteTime": {
     "end_time": "2024-11-24T18:11:32.686491Z",
     "start_time": "2024-11-24T18:11:32.326821Z"
    }
   },
   "outputs": [
    {
     "name": "stdout",
     "output_type": "stream",
     "text": [
      "The dimensions of the initial conditions are: (500, 101)\n",
      "The dimensions of the solutions are: (500, 101, 101)\n"
     ]
    }
   ],
   "source": [
    "# In this cell, we load the initial conditions and solutions from the saved files.\n",
    "\n",
    "# Define the directory where you want to save the file\n",
    "from pathlib import Path\n",
    "# Get the current directory\n",
    "current_dir = Path.cwd()\n",
    "#data_directory = os.path.join(current_dir.parent, 'data')\n",
    "## 需要修改\n",
    "data_directory = os.path.join(current_dir, 'data')\n",
    "initials_name = f'{problem}_initials_{visc}_{len(evaluating_points)}.npy'\n",
    "solutions_name = f'{problem}_solutions_{visc}_{len(evaluating_points)}.npy'\n",
    "\n",
    "# Define the file paths\n",
    "initials_path = os.path.join(data_directory, initials_name)\n",
    "solutions_path = os.path.join(data_directory, solutions_name)\n",
    "\n",
    "# Load the data\n",
    "initials = np.load(initials_path)\n",
    "solutions = np.load(solutions_path)\n",
    "\n",
    "print(f\"The dimensions of the initial conditions are: {initials.shape}\")\n",
    "print(f\"The dimensions of the solutions are: {solutions.shape}\")"
   ]
  },
  {
   "cell_type": "code",
   "execution_count": 5,
   "id": "263385cef0858257",
   "metadata": {
    "ExecuteTime": {
     "end_time": "2024-11-24T18:11:32.839858Z",
     "start_time": "2024-11-24T18:11:32.758873Z"
    }
   },
   "outputs": [
    {
     "name": "stdout",
     "output_type": "stream",
     "text": [
      "The dimension of u_tensor is torch.Size([500, 101]).\n",
      "The dimension of u_expanded is torch.Size([500, 10201, 101]) after expanding.\n"
     ]
    }
   ],
   "source": [
    "# In this cell, we arrange the initial conditions into the desired format for training the DeepONet.\n",
    "# This is the so-called u_expanded tensor.\n",
    "u_tensor = torch.tensor(initials, dtype=torch.float)\n",
    "print(f\"The dimension of u_tensor is {u_tensor.shape}.\")\n",
    "\n",
    "u_expanded = u_tensor.unsqueeze(1) # u_expanded: tensor[total_sample, 1, n_points]\n",
    "u_expanded = u_expanded.expand(-1, total_time_steps * n_points, -1) # u_expanded: tensor[total_sample, total_time_steps*n_points, n_points]\n",
    "print(f\"The dimension of u_expanded is {u_expanded.shape} after expanding.\")"
   ]
  },
  {
   "cell_type": "code",
   "execution_count": 6,
   "id": "40e93725c26537d",
   "metadata": {
    "ExecuteTime": {
     "end_time": "2024-11-24T18:11:32.883924Z",
     "start_time": "2024-11-24T18:11:32.876302Z"
    }
   },
   "outputs": [],
   "source": [
    "# I have a tensor of shape (total_sample, n_points) representing the initial conditions. In this cell, I wanted to expand it to (total_sample, total_time_steps*n_points) by repeating the initial conditions for each time step.\n",
    "\n",
    "# Assuming u_tensor is the tensor of shape (total_sample, n_points)\n",
    "# Expand the tensor to (total_sample, total_time_steps*n_points)\n",
    "u_corresponding = u_tensor.repeat(1, total_time_steps)\n",
    "u_corresponding = u_corresponding.unsqueeze(2) # This is the so-called corresponding initial value\n",
    "\n",
    "# Take the spatial coordinate of the y_expanded tensor\n",
    "y_space = y_expanded[:, :, 1].unsqueeze(-1)"
   ]
  },
  {
   "cell_type": "code",
   "execution_count": 7,
   "id": "addb4d7d40a31a60",
   "metadata": {
    "ExecuteTime": {
     "end_time": "2024-11-24T18:11:32.956997Z",
     "start_time": "2024-11-24T18:11:32.953586Z"
    }
   },
   "outputs": [],
   "source": [
    "# In this cell, we modify the input of the DeepONet based on the variant chosen.\n",
    "# We also update the input dimensions of the DeepONet based on the variant chosen.\n",
    "if var==2 or var==3:\n",
    "    y_expanded = torch.cat((y_expanded, u_corresponding), dim=-1)\n",
    "elif var==4:\n",
    "    y_expanded = torch.cat((y_expanded, u_expanded), dim=-1)\n",
    "\n",
    "if var== 1 or var==3 or var==4:\n",
    "    u_expanded = torch.cat((u_expanded, y_space), dim=-1)\n",
    "\n",
    "var_mapping = {\n",
    "    1: {'var_branch_input_dim': branch_input_dim + 1, 'var_trunk_input_dim': trunk_input_dim},\n",
    "    2: {'var_branch_input_dim': branch_input_dim, 'var_trunk_input_dim': trunk_input_dim + 1},\n",
    "    3: {'var_branch_input_dim': branch_input_dim + 1, 'var_trunk_input_dim': trunk_input_dim + 1},\n",
    "    4: {'var_branch_input_dim': branch_input_dim + 1, 'var_trunk_input_dim': trunk_input_dim + branch_input_dim}\n",
    "}\n",
    "\n",
    "if var in var_mapping:\n",
    "    branch_input_dim = var_mapping[var]['var_branch_input_dim']\n",
    "    trunk_input_dim = var_mapping[var]['var_trunk_input_dim']"
   ]
  },
  {
   "cell_type": "code",
   "execution_count": 8,
   "id": "d8da03c7d319f1d3",
   "metadata": {
    "ExecuteTime": {
     "end_time": "2024-11-24T18:11:33.075484Z",
     "start_time": "2024-11-24T18:11:33.048559Z"
    }
   },
   "outputs": [
    {
     "name": "stdout",
     "output_type": "stream",
     "text": [
      "The loaded solution dataset has dimension (500, 101, 101),\n",
      "\t while the arranged linearized dataset has dimension (500, 10201).\n",
      "The dimension of s_tensor is torch.Size([500, 10201]).\n",
      "The dimension of s_expanded is torch.Size([500, 10201, 1]) after expanding.\n"
     ]
    }
   ],
   "source": [
    "# In this cell, we arrange the solutions into the desired format for training the DeepONet.\n",
    "# This is the so-called s_expanded tensor.\n",
    "\n",
    "solutions_linear = np.zeros((total_sample, total_time_steps*n_points))\n",
    "\n",
    "for i in range(total_sample):\n",
    "    solutions_linear[i] = solutions[i].flatten()\n",
    "\n",
    "# solutions is a 3D array of shape (total_sample, total_time_steps, n_points)\n",
    "print(f\"The loaded solution dataset has dimension {solutions.shape},\\n\\t while the arranged linearized dataset has dimension {solutions_linear.shape}.\")\n",
    "\n",
    "s_tensor  = torch.tensor(solutions_linear, dtype=torch.float) # s_tensor: tensor[total_sample, total_time_steps*n_points]\n",
    "s_expanded  = s_tensor.unsqueeze(2) # s_expanded: tensor[total_sample, total_time_steps*n_points, 1]\n",
    "\n",
    "print(f\"The dimension of s_tensor is {s_tensor.shape}.\")\n",
    "print(f\"The dimension of s_expanded is {s_expanded.shape} after expanding.\")"
   ]
  },
  {
   "cell_type": "code",
   "execution_count": 9,
   "id": "f93069c846cf6a35",
   "metadata": {
    "ExecuteTime": {
     "end_time": "2024-11-24T18:11:35.387807Z",
     "start_time": "2024-11-24T18:11:33.135558Z"
    }
   },
   "outputs": [],
   "source": [
    "u_train = u_expanded[:border]\n",
    "y_train = y_expanded[:border]\n",
    "s_train = s_expanded[:border]\n",
    "\n",
    "u_test = u_expanded[border:]\n",
    "y_test = y_expanded[border:]\n",
    "s_test = s_expanded[border:]\n",
    "\n",
    "u_train_combined = u_train.reshape(-1, u_train.shape[-1])\n",
    "y_train_combined = y_train.reshape(-1, y_train.shape[-1])\n",
    "s_train_combined = s_train.reshape(-1, s_train.shape[-1])\n",
    "\n",
    "u_test_combined = u_test.reshape(-1, u_test.shape[-1])\n",
    "y_test_combined = y_test.reshape(-1, y_test.shape[-1])\n",
    "s_test_combined = s_test.reshape(-1, s_test.shape[-1])\n",
    "\n",
    "from utilities.tools import CustomDataset as CustomDataset\n",
    "\n",
    "train_set = CustomDataset(u_train_combined, y_train_combined, s_train_combined)\n",
    "test_set = CustomDataset(u_test_combined, y_test_combined, s_test_combined)\n",
    "\n",
    "# 创建 DataLoader\n",
    "train_loader = DataLoader(train_set, batch_size=batch_size, shuffle=True, num_workers=1)\n",
    "test_loader = DataLoader(test_set, batch_size=batch_size, shuffle=False, num_workers=1)"
   ]
  },
  {
   "cell_type": "code",
   "execution_count": 10,
   "id": "b2eb4da6aa21f586",
   "metadata": {
    "ExecuteTime": {
     "end_time": "2024-11-24T18:11:39.795463Z",
     "start_time": "2024-11-24T18:11:35.421574Z"
    }
   },
   "outputs": [],
   "source": [
    "# In this cell, we import and set up the model and load the trained parameters\n",
    "# The loss function is also imported here.\n",
    "\n",
    "# Create model\n",
    "device = torch.device(\"cuda\" if torch.cuda.is_available() else \"cpu\")\n",
    "\n",
    "if var!=6:\n",
    "    from utilities.DeepONets import DeepONet\n",
    "    model = DeepONet(branch_input_dim, trunk_input_dim, hidden_dims, output_dim).to(device)\n",
    "elif var==6:\n",
    "    from utilities.DeepONets import ModifiedDeepONet\n",
    "    model = ModifiedDeepONet(branch_input_dim, branch_depth, trunk_input_dim, trunk_depth, hidden_dim, output_dim).to(device)\n",
    "\n",
    "optimizer = optim.Adam(model.parameters(), lr=0.001)\n",
    "\n",
    "from utilities.loss_fns import loss_fn_1d_combined as loss_fn"
   ]
  },
  {
   "cell_type": "code",
   "execution_count": 11,
   "id": "efc153cac14e1864",
   "metadata": {
    "ExecuteTime": {
     "end_time": "2024-11-24T18:28:04.156553Z",
     "start_time": "2024-11-24T18:11:39.855806Z"
    }
   },
   "outputs": [
    {
     "name": "stdout",
     "output_type": "stream",
     "text": [
      "Epoch 1\n"
     ]
    },
    {
     "name": "stderr",
     "output_type": "stream",
     "text": [
      "A best model at epoch 1 has been saved with training error 0.04066129401326.\n",
      "A best model at epoch 1 has been saved with training error 0.04045986384153.\n",
      "A best model at epoch 1 has been saved with training error 0.03854605183005.\n",
      "A best model at epoch 1 has been saved with training error 0.03313942998648.\n",
      "A best model at epoch 1 has been saved with training error 0.03222555294633.\n",
      "A best model at epoch 1 has been saved with training error 0.03118727169931.\n",
      "A best model at epoch 1 has been saved with training error 0.02697583846748.\n",
      "A best model at epoch 1 has been saved with training error 0.02550050802529.\n",
      "A best model at epoch 1 has been saved with training error 0.02335905283689.\n",
      "A best model at epoch 1 has been saved with training error 0.02318770624697.\n",
      "A best model at epoch 1 has been saved with training error 0.02242949604988.\n",
      "A best model at epoch 1 has been saved with training error 0.02143161371350.\n",
      "A best model at epoch 1 has been saved with training error 0.01838850416243.\n",
      "A best model at epoch 1 has been saved with training error 0.01813543960452.\n",
      "A best model at epoch 1 has been saved with training error 0.01700116507709.\n",
      "A best model at epoch 1 has been saved with training error 0.01623417809606.\n",
      "A best model at epoch 1 has been saved with training error 0.01487456914037.\n",
      "A best model at epoch 1 has been saved with training error 0.01467821188271.\n",
      "A best model at epoch 1 has been saved with training error 0.01293423119932.\n",
      "A best model at epoch 1 has been saved with training error 0.01256779208779.\n",
      "A best model at epoch 1 has been saved with training error 0.01159919705242.\n",
      "A best model at epoch 1 has been saved with training error 0.01109225861728.\n",
      "A best model at epoch 1 has been saved with training error 0.01103608403355.\n",
      "A best model at epoch 1 has been saved with training error 0.01037468109280.\n",
      "A best model at epoch 1 has been saved with training error 0.00965296197683.\n",
      "A best model at epoch 1 has been saved with training error 0.00881056301296.\n",
      "A best model at epoch 1 has been saved with training error 0.00862302538007.\n",
      "A best model at epoch 1 has been saved with training error 0.00799324363470.\n",
      "A best model at epoch 1 has been saved with training error 0.00762569624931.\n",
      "A best model at epoch 1 has been saved with training error 0.00640204176307.\n",
      "A best model at epoch 1 has been saved with training error 0.00540802301839.\n",
      "A best model at epoch 1 has been saved with training error 0.00529088126495.\n",
      "A best model at epoch 1 has been saved with training error 0.00510330544785.\n",
      "A best model at epoch 1 has been saved with training error 0.00490557868034.\n",
      "A best model at epoch 1 has been saved with training error 0.00446259230375.\n",
      "A best model at epoch 1 has been saved with training error 0.00389521988109.\n",
      "A best model at epoch 1 has been saved with training error 0.00380378612317.\n",
      "A best model at epoch 1 has been saved with training error 0.00377100659534.\n",
      "A best model at epoch 1 has been saved with training error 0.00363091938198.\n",
      "A best model at epoch 1 has been saved with training error 0.00360661116429.\n",
      "A best model at epoch 1 has been saved with training error 0.00284942053258.\n",
      "A best model at epoch 1 has been saved with training error 0.00281440885738.\n",
      "A best model at epoch 1 has been saved with training error 0.00261212326586.\n",
      "A best model at epoch 1 has been saved with training error 0.00254397257231.\n",
      "A best model at epoch 1 has been saved with training error 0.00204716110602.\n",
      "A best model at epoch 1 has been saved with training error 0.00174360815436.\n",
      "A best model at epoch 1 has been saved with training error 0.00159037613776.\n",
      "A best model at epoch 1 has been saved with training error 0.00151003419887.\n",
      "A best model at epoch 1 has been saved with training error 0.00131772388704.\n",
      "A best model at epoch 1 has been saved with training error 0.00105002382770.\n",
      "A best model at epoch 1 has been saved with training error 0.00104092061520.\n",
      "A best model at epoch 1 has been saved with training error 0.00103141833097.\n",
      "A best model at epoch 1 has been saved with training error 0.00088950200006.\n",
      "A best model at epoch 1 has been saved with training error 0.00070397101808.\n",
      "A best model at epoch 1 has been saved with training error 0.00068841379834.\n",
      "A best model at epoch 1 has been saved with training error 0.00067213724833.\n",
      "A best model at epoch 1 has been saved with training error 0.00065787107451.\n",
      "A best model at epoch 1 has been saved with training error 0.00064947112696.\n",
      "A best model at epoch 1 has been saved with training error 0.00063613109523.\n",
      "A best model at epoch 1 has been saved with training error 0.00055017659906.\n",
      "A best model at epoch 1 has been saved with training error 0.00050760863815.\n",
      "A best model at epoch 1 has been saved with training error 0.00045041320845.\n",
      "A best model at epoch 1 has been saved with training error 0.00044519000221.\n",
      "A best model at epoch 1 has been saved with training error 0.00043909452506.\n",
      "A best model at epoch 1 has been saved with training error 0.00041095740744.\n",
      "A best model at epoch 1 has been saved with training error 0.00035280262819.\n",
      "A best model at epoch 1 has been saved with training error 0.00032037132769.\n",
      "A best model at epoch 1 has been saved with training error 0.00031811537337.\n",
      "A best model at epoch 1 has been saved with training error 0.00030287425034.\n",
      "A best model at epoch 1 has been saved with training error 0.00029875355540.\n"
     ]
    },
    {
     "name": "stdout",
     "output_type": "stream",
     "text": [
      "Epoch 1, Loss: 0.00227759273644, Improvement: 0.00227759273644, Best Loss: 0.00029875355540 in Epoch 1, Time: 111.23 seconds\n",
      "Epoch 2\n"
     ]
    },
    {
     "name": "stderr",
     "output_type": "stream",
     "text": [
      "A best model at epoch 2 has been saved with training error 0.00025575791369.\n",
      "A best model at epoch 2 has been saved with training error 0.00024407607270.\n",
      "A best model at epoch 2 has been saved with training error 0.00018635868037.\n",
      "A best model at epoch 2 has been saved with training error 0.00018355855718.\n",
      "A best model at epoch 2 has been saved with training error 0.00018159134197.\n",
      "A best model at epoch 2 has been saved with training error 0.00012640378554.\n"
     ]
    },
    {
     "name": "stdout",
     "output_type": "stream",
     "text": [
      "Epoch 2, Loss: 0.00106316001470, Improvement: -0.00121443272174, Best Loss: 0.00012640378554 in Epoch 2, Time: 95.71 seconds\n",
      "Epoch 3\n"
     ]
    },
    {
     "name": "stderr",
     "output_type": "stream",
     "text": [
      "A best model at epoch 3 has been saved with training error 0.00012533775589.\n",
      "A best model at epoch 3 has been saved with training error 0.00012308981968.\n",
      "A best model at epoch 3 has been saved with training error 0.00012168304966.\n"
     ]
    },
    {
     "name": "stdout",
     "output_type": "stream",
     "text": [
      "Epoch 3, Loss: 0.00091530784139, Improvement: -0.00014785217330, Best Loss: 0.00012168304966 in Epoch 3, Time: 94.78 seconds\n",
      "Epoch 4\n"
     ]
    },
    {
     "name": "stderr",
     "output_type": "stream",
     "text": [
      "A best model at epoch 4 has been saved with training error 0.00009775690705.\n"
     ]
    },
    {
     "name": "stdout",
     "output_type": "stream",
     "text": [
      "Epoch 4, Loss: 0.00082267575189, Improvement: -0.00009263208951, Best Loss: 0.00009775690705 in Epoch 4, Time: 96.97 seconds\n",
      "Epoch 5\n"
     ]
    },
    {
     "name": "stderr",
     "output_type": "stream",
     "text": [
      "A best model at epoch 5 has been saved with training error 0.00009386480815.\n",
      "A best model at epoch 5 has been saved with training error 0.00009335690265.\n",
      "A best model at epoch 5 has been saved with training error 0.00009272664465.\n"
     ]
    },
    {
     "name": "stdout",
     "output_type": "stream",
     "text": [
      "Epoch 5, Loss: 0.00074025672521, Improvement: -0.00008241902668, Best Loss: 0.00009272664465 in Epoch 5, Time: 95.09 seconds\n",
      "Epoch 6\n",
      "Epoch 6, Loss: 0.00071642339111, Improvement: -0.00002383333409, Best Loss: 0.00009272664465 in Epoch 5, Time: 95.05 seconds\n",
      "Epoch 7\n"
     ]
    },
    {
     "name": "stderr",
     "output_type": "stream",
     "text": [
      "A best model at epoch 7 has been saved with training error 0.00008150956273.\n",
      "A best model at epoch 7 has been saved with training error 0.00007715984248.\n"
     ]
    },
    {
     "name": "stdout",
     "output_type": "stream",
     "text": [
      "Epoch 7, Loss: 0.00068991922865, Improvement: -0.00002650416246, Best Loss: 0.00007715984248 in Epoch 7, Time: 105.48 seconds\n",
      "Epoch 8\n"
     ]
    },
    {
     "name": "stderr",
     "output_type": "stream",
     "text": [
      "A best model at epoch 8 has been saved with training error 0.00007645016012.\n",
      "A best model at epoch 8 has been saved with training error 0.00007418500172.\n"
     ]
    },
    {
     "name": "stdout",
     "output_type": "stream",
     "text": [
      "Epoch 8, Loss: 0.00064045809547, Improvement: -0.00004946113318, Best Loss: 0.00007418500172 in Epoch 8, Time: 95.64 seconds\n",
      "Epoch 9\n"
     ]
    },
    {
     "name": "stderr",
     "output_type": "stream",
     "text": [
      "A best model at epoch 9 has been saved with training error 0.00007305878535.\n",
      "A best model at epoch 9 has been saved with training error 0.00006961299368.\n"
     ]
    },
    {
     "name": "stdout",
     "output_type": "stream",
     "text": [
      "Epoch 9, Loss: 0.00062347812465, Improvement: -0.00001697997082, Best Loss: 0.00006961299368 in Epoch 9, Time: 98.00 seconds\n",
      "Epoch 10\n"
     ]
    },
    {
     "name": "stderr",
     "output_type": "stream",
     "text": [
      "A best model at epoch 10 has been saved with training error 0.00006317601947.\n"
     ]
    },
    {
     "name": "stdout",
     "output_type": "stream",
     "text": [
      "Epoch 10, Loss: 0.00060145391721, Improvement: -0.00002202420744, Best Loss: 0.00006317601947 in Epoch 10, Time: 96.33 seconds\n"
     ]
    }
   ],
   "source": [
    "# 训练模型\n",
    "error_list = []\n",
    "time_list = []\n",
    "err_best = float('inf')\n",
    "err_prev = 0\n",
    "best_epoch = 0\n",
    "model_best = model.state_dict().copy()\n",
    "\n",
    "import time\n",
    "\n",
    "for epoch in range(epochs):\n",
    "    start_time = time.time()  # Record the start time\n",
    "    print(f\"Epoch {epoch+1}\") \n",
    "    err = []\n",
    "    for input1_batch, input2_batch, target_batch in train_loader:\n",
    "        input1_batch = input1_batch.to(device)\n",
    "        input2_batch = input2_batch.to(device)\n",
    "        target_batch = target_batch.to(device)\n",
    "\n",
    "        optimizer.zero_grad()\n",
    "        outputs = model(input1_batch, input2_batch)\n",
    "        loss = loss_fn(outputs, target_batch, boundary_parameter, initial_parameter, total_time_steps, n_points)\n",
    "        err.append(loss.item())\n",
    "        if loss.item()<err_best:\n",
    "            err_best = loss.item()\n",
    "            best_epoch = epoch\n",
    "            model_best = model.state_dict().copy()\n",
    "            model_filename_best = f\"{problem}_Var{var}_Visc{visc}_Struct{struct}_Sensor{n_points}_Boundary{boundary_parameter}_Initial{initial_parameter}_Batch{batch_size}-best.pth\"\n",
    "            torch.save(model_best, model_filename_best)\n",
    "            print(f\"A best model at epoch {epoch+1} has been saved with training error {err_best:.14f}.\", file=sys.stderr)\n",
    "        loss.backward()\n",
    "        optimizer.step()\n",
    "        del input1_batch, input2_batch, outputs, loss\n",
    "        torch.cuda.empty_cache()  # 释放当前批次的缓存\n",
    "    error_list.append(err)\n",
    "    err_curr = np.mean(err)\n",
    "    epoch_time = time.time() - start_time  # Calculate the elapsed time\n",
    "    time_list.append(epoch_time)\n",
    "\n",
    "    print(f\"Epoch {epoch+1}, Loss: {err_curr:.14f}, Improvement: {err_curr - err_prev:.14f}, Best Loss: {err_best:.14f} in Epoch {best_epoch+1}, Time: {epoch_time:.2f} seconds\")\n",
    "\n",
    "    err_prev = err_curr\n",
    "    if epoch%50==49:\n",
    "        # 保存损失值和模型，修改文件名以包含参数信息  \n",
    "        output_filename = f\"{problem}_Var{var}_Visc{visc}_Struct{struct}_Sensor{n_points}_Boundary{boundary_parameter}_Initial{initial_parameter}_Batch{batch_size}-final.npy\"\n",
    "        model_filename = f\"{problem}_Var{var}_Visc{visc}_Struct{struct}_Sensor{n_points}_Boundary{boundary_parameter}_Initial{initial_parameter}_Batch{batch_size}-final.pth\"\n",
    "        np.save(output_filename, np.array(error_list))\n",
    "        torch.save(model.state_dict(), model_filename)\n",
    "        print(f\"Model saving checkpoint: the model trained after epoch {epoch+1} has been saved with the training errors.\", file=sys.stderr)"
   ]
  },
  {
   "cell_type": "code",
   "execution_count": 12,
   "id": "828a564ec2bd2525",
   "metadata": {
    "ExecuteTime": {
     "end_time": "2024-11-24T18:28:04.279169Z",
     "start_time": "2024-11-24T18:28:04.269246Z"
    }
   },
   "outputs": [
    {
     "name": "stdout",
     "output_type": "stream",
     "text": [
      "[0.00227759 0.00106316 0.00091531 0.00082268 0.00074026 0.00071642\n",
      " 0.00068992 0.00064046 0.00062348 0.00060145]\n"
     ]
    }
   ],
   "source": [
    "errs = np.array(error_list)\n",
    "\n",
    "print(np.mean(errs,axis=1))\n",
    "\n",
    "## 需要修改"
   ]
  },
  {
   "cell_type": "code",
   "execution_count": 13,
   "id": "df781e2b09174ef8",
   "metadata": {
    "ExecuteTime": {
     "end_time": "2024-11-24T18:28:04.377405Z",
     "start_time": "2024-11-24T18:28:04.343006Z"
    }
   },
   "outputs": [],
   "source": [
    "# 保存损失值和模型，修改文件名以包含参数信息\n",
    "error_filename = f\"{problem}_Var{var}_Visc{visc}_Struct{struct}_Sensor{n_points}_Boundary{boundary_parameter}_Initial{initial_parameter}_Batch{batch_size}-final.npy\"\n",
    "time_filename = f\"{problem}_Var{var}_Visc{visc}_Struct{struct}_Sensor{n_points}_Boundary{boundary_parameter}_Initial{initial_parameter}_Batch{batch_size}-final.time\"\n",
    "model_filename = f\"{problem}_Var{var}_Visc{visc}_Struct{struct}_Sensor{n_points}_Boundary{boundary_parameter}_Initial{initial_parameter}_Batch{batch_size}-final.pth\"\n",
    "\n",
    "np.save(error_filename, np.array(error_list))\n",
    "np.save(time_filename, np.array(time_list))\n",
    "torch.save(model.state_dict(), model_filename)"
   ]
  }
 ],
 "metadata": {
  "kernelspec": {
   "display_name": "Python 3",
   "language": "python",
   "name": "python3"
  },
  "language_info": {
   "codemirror_mode": {
    "name": "ipython",
    "version": 2
   },
   "file_extension": ".py",
   "mimetype": "text/x-python",
   "name": "python",
   "nbconvert_exporter": "python",
   "pygments_lexer": "ipython2",
   "version": "2.7.6"
  }
 },
 "nbformat": 4,
 "nbformat_minor": 5
}
