{
 "cells": [
  {
   "cell_type": "code",
   "execution_count": 1,
   "id": "ded0bf2884637754",
   "metadata": {
    "ExecuteTime": {
     "end_time": "2024-11-20T03:12:19.297854Z",
     "start_time": "2024-11-20T03:12:15.851799Z"
    }
   },
   "outputs": [],
   "source": [
    "import os\n",
    "import numpy as np\n",
    "import torch\n",
    "from torch.utils.data import DataLoader, Dataset\n",
    "\n",
    "\n",
    "import torch.optim as optim\n",
    "import sys\n",
    "\n",
    "\n",
    "sys.path.append(os.path.abspath(os.path.expanduser(\"~/DON\")))\n",
    "\n",
    "'''\n",
    "import argparse\n",
    "parser = argparse.ArgumentParser(description=\"DeepONet with configurable parameters.\")\n",
    "parser.add_argument('--problem', type=str, default=\"heat\", help='Problem to solve')\n",
    "parser.add_argument('--var', type=int, default=0, help='Variant of DeepONet')\n",
    "parser.add_argument('--struct', type=int, default=2, help='Structure of DeepONet')\n",
    "parser.add_argument('--sensor', type=int, default=50, help='Number of sensors')\n",
    "parser.add_argument('--boundary_parameter', type=float, default=0, help='Weight parameter for border conditions')\n",
    "# 解析命令行参数\n",
    "args = parser.parse_args()\n",
    "problem = args.problem\n",
    "var = args.var\n",
    "struct = args.struct\n",
    "n_points = args.sensor\n",
    "boundary_parameter = args.boundary_parameter\n",
    "'''\n",
    "problem = \"burgers\"\n",
    "var = 6\n",
    "struct = 2\n",
    "n_points = 101\n",
    "boundary_parameter = 0\n",
    "\n",
    "epochs = 2\n",
    "## 需要修改"
   ]
  },
  {
   "cell_type": "code",
   "execution_count": 2,
   "id": "a1f6c53a0af79e96",
   "metadata": {
    "ExecuteTime": {
     "end_time": "2024-11-20T03:12:19.410303Z",
     "start_time": "2024-11-20T03:12:19.347108Z"
    }
   },
   "outputs": [],
   "source": [
    "# In this cell, we define the configurable parameters for the DeepONet\n",
    "\n",
    "time_limit = 1\n",
    "time_step = 0.01\n",
    "\n",
    "if problem==\"heat\":\n",
    "    time_start = time_step\n",
    "    total_time_steps = int(time_limit/time_step)\n",
    "    from utilities.tools import get_cell_centers\n",
    "    evaluating_points = get_cell_centers(n_points=n_points)\n",
    "elif problem==\"burgers\":\n",
    "    time_start = 0\n",
    "    total_time_steps = (int(time_limit/time_step)+1)\n",
    "    evaluating_points = np.linspace(0, 1, n_points)\n",
    "\n",
    "evaluating_points = np.around(evaluating_points, decimals=2)\n",
    "\n",
    "total_sample = 500\n",
    "border = int(total_sample * 4 / 5) # 设置训练集和测试集的边界\n",
    "batch_size = 20\n",
    "\n",
    "\n",
    "# Hyperparameters\n",
    "branch_input_dim = n_points  # Number of points to represent the original function\n",
    "trunk_input_dim = 2     # Coordinate where we evaluate the transformed function\n",
    "\n",
    "# Define the dictionary mapping struct values to neural network structures\n",
    "if var!=6:\n",
    "    structures = {\n",
    "        1: {'hidden_dims': [100, 100, 100, 100], 'output_dim': 50},\n",
    "        2: {'hidden_dims': [200, 200, 200, 200], 'output_dim': 50}\n",
    "    }\n",
    "\n",
    "    # Get the configuration based on the struct value\n",
    "    config = structures.get(struct, {'hidden_dims': [], 'output_dim': 0})\n",
    "\n",
    "    hidden_dims = config['hidden_dims']\n",
    "    output_dim = config['output_dim']\n",
    "elif var==6:\n",
    "    structure_params = {\n",
    "        1: (3, 3, 100, 50),\n",
    "        2: (3, 3, 200, 50),\n",
    "    }\n",
    "    if struct in structure_params:\n",
    "        branch_depth, trunk_depth, hidden_dim, output_dim = structure_params[struct]\n",
    "    else:\n",
    "        raise ValueError(\"Invalid structure type\")"
   ]
  },
  {
   "cell_type": "code",
   "execution_count": 3,
   "id": "9a69137596da5613",
   "metadata": {
    "ExecuteTime": {
     "end_time": "2024-11-20T03:12:19.538888Z",
     "start_time": "2024-11-20T03:12:19.534439Z"
    }
   },
   "outputs": [
    {
     "name": "stdout",
     "output_type": "stream",
     "text": [
      "The dimension of y_tensor is torch.Size([10201, 2]).\n",
      "The dimension of y_expanded is torch.Size([500, 10201, 2]) after expanding.\n"
     ]
    }
   ],
   "source": [
    "# In this cell, we import the function to get the cell centers of a 1D mesh.\n",
    "# Also, we set up the spatial and temporal grid points for the training and testing datasets.\n",
    "# This is the so-called y_expanded tensor.\n",
    "time_steps = np.arange(time_start, time_limit+time_step, time_step)\n",
    "time_steps = np.around(time_steps, decimals=2)\n",
    "\n",
    "Y1, Y2 = np.meshgrid(evaluating_points, time_steps)  # 第一个变量进行行展开，第二个变量进行列展开\n",
    "\n",
    "y = np.column_stack([Y2.ravel(),Y1.ravel()]) \n",
    "# 先将 Y2 和 Y1 进行展开，然后将展开后的两个向量进行列合并\n",
    "\n",
    "y_tensor = torch.tensor(y, dtype=torch.float)\n",
    "print(f\"The dimension of y_tensor is {y_tensor.shape}.\")\n",
    "y_expanded = y_tensor.unsqueeze(0).expand(total_sample, -1, -1)\n",
    "print(f\"The dimension of y_expanded is {y_expanded.shape} after expanding.\")"
   ]
  },
  {
   "cell_type": "code",
   "execution_count": 4,
   "id": "1a670fb67735191",
   "metadata": {
    "ExecuteTime": {
     "end_time": "2024-11-20T03:12:19.958563Z",
     "start_time": "2024-11-20T03:12:19.591247Z"
    }
   },
   "outputs": [
    {
     "name": "stdout",
     "output_type": "stream",
     "text": [
      "The dimensions of the initial conditions are: (500, 101)\n",
      "The dimensions of the solutions are: (500, 101, 101)\n"
     ]
    }
   ],
   "source": [
    "# In this cell, we load the initial conditions and solutions from the saved files.\n",
    "\n",
    "# Define the directory where you want to save the file\n",
    "from pathlib import Path\n",
    "# Get the current directory\n",
    "current_dir = Path.cwd()\n",
    "#data_directory = os.path.join(current_dir.parent, 'data')\n",
    "## 需要修改\n",
    "data_directory = os.path.join(current_dir, 'data')\n",
    "initials_name = f'{problem}_initials_{len(evaluating_points)}.npy'\n",
    "solutions_name = f'{problem}_solutions_{len(evaluating_points)}.npy'\n",
    "\n",
    "# Define the file paths\n",
    "initials_path = os.path.join(data_directory, initials_name)\n",
    "solutions_path = os.path.join(data_directory, solutions_name)\n",
    "\n",
    "# Load the data\n",
    "initials = np.load(initials_path)\n",
    "solutions = np.load(solutions_path)\n",
    "\n",
    "print(f\"The dimensions of the initial conditions are: {initials.shape}\")\n",
    "print(f\"The dimensions of the solutions are: {solutions.shape}\")"
   ]
  },
  {
   "cell_type": "code",
   "execution_count": 5,
   "id": "b8bed81c7aad9948",
   "metadata": {
    "ExecuteTime": {
     "end_time": "2024-11-20T03:12:20.025375Z",
     "start_time": "2024-11-20T03:12:19.994634Z"
    }
   },
   "outputs": [
    {
     "name": "stdout",
     "output_type": "stream",
     "text": [
      "The dimension of u_tensor is torch.Size([500, 101]).\n",
      "The dimension of u_expanded is torch.Size([500, 10201, 101]) after expanding.\n"
     ]
    }
   ],
   "source": [
    "# In this cell, we arrange the initial conditions into the desired format for training the DeepONet.\n",
    "# This is the so-called u_expanded tensor.\n",
    "u_tensor = torch.tensor(initials, dtype=torch.float)\n",
    "print(f\"The dimension of u_tensor is {u_tensor.shape}.\")\n",
    "\n",
    "u_expanded = u_tensor.unsqueeze(1) # u_expanded: tensor[total_sample, 1, n_points]\n",
    "u_expanded = u_expanded.expand(-1, total_time_steps*n_points, -1) # u_expanded: tensor[total_sample, total_time_steps*n_points, n_points]\n",
    "print(f\"The dimension of u_expanded is {u_expanded.shape} after expanding.\")\n"
   ]
  },
  {
   "cell_type": "code",
   "execution_count": 6,
   "id": "cbc9cce6adb402d7",
   "metadata": {
    "ExecuteTime": {
     "end_time": "2024-11-20T03:12:20.082617Z",
     "start_time": "2024-11-20T03:12:20.073561Z"
    }
   },
   "outputs": [],
   "source": [
    "# I have a tensor of shape (total_sample, n_points) representing the initial conditions. In this cell, I wanted to expand it to (total_sample, total_time_steps*n_points) by repeating the initial conditions for each time step.\n",
    "\n",
    "# Assuming u_tensor is the tensor of shape (total_sample, n_points)\n",
    "# Expand the tensor to (total_sample, total_time_steps*n_points)\n",
    "u_corresponding = u_tensor.repeat(1, total_time_steps)\n",
    "u_corresponding = u_corresponding.unsqueeze(2)\n",
    "# print(u_corresponding.shape)\n",
    "\n",
    "if var==2 or var==3:\n",
    "    y_expanded = torch.cat((y_expanded, u_corresponding), dim=-1)"
   ]
  },
  {
   "cell_type": "code",
   "execution_count": 7,
   "id": "9104496a9acc4806",
   "metadata": {
    "ExecuteTime": {
     "end_time": "2024-11-20T03:12:20.197588Z",
     "start_time": "2024-11-20T03:12:20.175025Z"
    }
   },
   "outputs": [
    {
     "name": "stdout",
     "output_type": "stream",
     "text": [
      "The loaded solution dataset has dimension (500, 101, 101),\n",
      "\t while the arranged linearized dataset has dimension (500, 10201).\n",
      "The dimension of s_tensor is torch.Size([500, 10201]).\n",
      "The dimension of s_expanded is torch.Size([500, 10201, 1]) after expanding.\n"
     ]
    }
   ],
   "source": [
    "# In this cell, we arrange the solutions into the desired format for training the DeepONet.\n",
    "# This is the so-called s_expanded tensor.\n",
    "\n",
    "solutions_linear = np.zeros((total_sample, total_time_steps*n_points))\n",
    "\n",
    "for i in range(total_sample):\n",
    "    solutions_linear[i] = solutions[i].flatten()\n",
    "\n",
    "# solutions is a 3D array of shape (total_sample, total_time_steps, n_points)\n",
    "print(f\"The loaded solution dataset has dimension {solutions.shape},\\n\\t while the arranged linearized dataset has dimension {solutions_linear.shape}.\")\n",
    "\n",
    "s_tensor  = torch.tensor(solutions_linear, dtype=torch.float) # s_tensor: tensor[total_sample, total_time_steps*n_points]\n",
    "s_expanded  = s_tensor.unsqueeze(2) # s_expanded: tensor[total_sample, total_time_steps*n_points, 1]\n",
    "\n",
    "print(f\"The dimension of s_tensor is {s_tensor.shape}.\")\n",
    "print(f\"The dimension of s_expanded is {s_expanded.shape} after expanding.\")"
   ]
  },
  {
   "cell_type": "code",
   "execution_count": 8,
   "id": "779bf703663b1051",
   "metadata": {
    "ExecuteTime": {
     "end_time": "2024-11-20T03:12:21.561429Z",
     "start_time": "2024-11-20T03:12:20.254596Z"
    }
   },
   "outputs": [],
   "source": [
    "from utilities.tools import CustomDataset_data as CustomDataset\n",
    "\n",
    "train_set = CustomDataset(u_expanded[:border], y_expanded[:border], s_expanded[:border])\n",
    "test_set = CustomDataset(u_expanded[border:], y_expanded[border:], s_expanded[border:])\n",
    "\n",
    "# 创建 DataLoader\n",
    "train_loader = DataLoader(train_set, batch_size=batch_size, shuffle=True, num_workers=1) \n",
    "test_loader = DataLoader(test_set, batch_size=batch_size, shuffle=False, num_workers=1) "
   ]
  },
  {
   "cell_type": "code",
   "execution_count": 9,
   "id": "28cafa358628c607",
   "metadata": {
    "ExecuteTime": {
     "end_time": "2024-11-20T03:12:21.600475Z",
     "start_time": "2024-11-20T03:12:21.593031Z"
    }
   },
   "outputs": [],
   "source": [
    "# In this cell, we import the neural network models and the loss functions.\n",
    "\n",
    "from utilities.DON_Variants import DeepONets\n",
    "from utilities.loss_fns import loss_fn_1d as loss_fn"
   ]
  },
  {
   "cell_type": "code",
   "execution_count": 10,
   "id": "41388373d6087fa4",
   "metadata": {
    "ExecuteTime": {
     "end_time": "2024-11-20T03:12:25.304797Z",
     "start_time": "2024-11-20T03:12:21.698544Z"
    }
   },
   "outputs": [],
   "source": [
    "# Create model\n",
    "device = torch.device(\"cuda\" if torch.cuda.is_available() else \"cpu\")\n",
    "\n",
    "if var!=6:\n",
    "    model = DeepONets[var](branch_input_dim, trunk_input_dim, hidden_dims, output_dim).to(device)\n",
    "elif var==6:\n",
    "    model = DeepONets[var](branch_input_dim, branch_depth, trunk_input_dim, trunk_depth, hidden_dim, output_dim).to(device)\n",
    "\n",
    "optimizer = optim.Adamax(model.parameters(), lr=0.001)"
   ]
  },
  {
   "cell_type": "code",
   "execution_count": null,
   "id": "28df18609b0b4d24",
   "metadata": {
    "ExecuteTime": {
     "start_time": "2024-11-20T03:12:25.347890Z"
    },
    "jupyter": {
     "is_executing": true
    }
   },
   "outputs": [
    {
     "name": "stdout",
     "output_type": "stream",
     "text": [
      "Epoch 1\n"
     ]
    },
    {
     "name": "stderr",
     "output_type": "stream",
     "text": [
      "A best model at epoch 1 has been saved with training error 0.00007381531032.\n"
     ]
    }
   ],
   "source": [
    "# 训练模型\n",
    "error_list = []\n",
    "err_best = float('inf')\n",
    "err_prev = 0\n",
    "best_epoch = 0\n",
    "model_best = model.state_dict().copy()\n",
    "\n",
    "\n",
    "for epoch in range(epochs):\n",
    "    print(f\"Epoch {epoch+1}\") \n",
    "    err = []\n",
    "    for input1_batch, input2_batch, target_batch in train_loader:\n",
    "        input1_batch = input1_batch.to(device)\n",
    "        input2_batch = input2_batch.to(device)\n",
    "        target_batch = target_batch.to(device)\n",
    "\n",
    "        optimizer.zero_grad()\n",
    "        outputs = model(input1_batch, input2_batch)\n",
    "        loss = loss_fn(outputs, target_batch, boundary_parameter, total_time_steps, n_points)\n",
    "        err.append(loss.item())\n",
    "        if loss.item()<err_best:\n",
    "            err_best = loss.item()\n",
    "            best_epoch = epoch\n",
    "            model_best = model.state_dict().copy()\n",
    "            model_filename_best = f\"{problem}_Var{var}_Struct{struct}_Sensor{n_points}_Batch{batch_size}-best.pth\"\n",
    "            torch.save(model_best, model_filename_best)\n",
    "            print(f\"A best model at epoch {epoch+1} has been saved with training error {err_best:.14f}.\", file=sys.stderr)\n",
    "        loss.backward()\n",
    "        optimizer.step()\n",
    "        del input1_batch, input2_batch, outputs, loss\n",
    "        torch.cuda.empty_cache()  # 释放当前批次的缓存\n",
    "    error_list.append(err)\n",
    "    err_curr = np.mean(err)\n",
    "    print(f\"Epoch {epoch+1}, Loss: {err_curr:.14f}, Improvement: {err_curr - err_prev:.14f}, Best Loss: {err_best:.14f} in Epoch {best_epoch+1}\")\n",
    "    err_prev = err_curr\n",
    "    if epoch%50==49:\n",
    "        # 保存损失值和模型，修改文件名以包含参数信息  \n",
    "        output_filename = f\"{problem}_Var{var}_Struct{struct}_Sensor{n_points}_Batch{batch_size}-final.npy\"\n",
    "        model_filename = f\"{problem}_Var{var}_Struct{struct}_Sensor{n_points}_Batch{batch_size}-final.pth\"\n",
    "        np.save(output_filename, np.array(error_list))\n",
    "        torch.save(model.state_dict(), model_filename)\n",
    "        print(f\"Model saving checkpoint: the model trained after epoch {epoch+1} has been saved with the training errors.\", file=sys.stderr)"
   ]
  },
  {
   "cell_type": "code",
   "execution_count": 12,
   "id": "25181cff05335c1c",
   "metadata": {
    "ExecuteTime": {
     "end_time": "2024-11-20T02:17:29.774452Z",
     "start_time": "2024-11-20T02:17:29.770549Z"
    }
   },
   "outputs": [
    {
     "name": "stdout",
     "output_type": "stream",
     "text": [
      "[3.42253296e-04 5.87508901e-05]\n"
     ]
    }
   ],
   "source": [
    "errs = np.array(error_list)\n",
    "\n",
    "print(np.mean(errs,axis=1))\n",
    "\n",
    "## 需要修改"
   ]
  },
  {
   "cell_type": "code",
   "execution_count": 13,
   "id": "656cc80fd4b92b5a",
   "metadata": {
    "ExecuteTime": {
     "end_time": "2024-11-20T02:17:29.868497Z",
     "start_time": "2024-11-20T02:17:29.839498Z"
    }
   },
   "outputs": [],
   "source": [
    "# 保存损失值和模型，修改文件名以包含参数信息\n",
    "output_filename = f\"{problem}_Var{var}_Struct{struct}_Sensor{n_points}_Batch{batch_size}-final.npy\"\n",
    "model_filename = f\"{problem}_Var{var}_Struct{struct}_Sensor{n_points}_Batch{batch_size}-final.pth\"\n",
    "\n",
    "np.save(output_filename, np.array(error_list))\n",
    "torch.save(model.state_dict(), model_filename)"
   ]
  }
 ],
 "metadata": {
  "kernelspec": {
   "display_name": "Python 3",
   "language": "python",
   "name": "python3"
  },
  "language_info": {
   "codemirror_mode": {
    "name": "ipython",
    "version": 2
   },
   "file_extension": ".py",
   "mimetype": "text/x-python",
   "name": "python",
   "nbconvert_exporter": "python",
   "pygments_lexer": "ipython2",
   "version": "2.7.6"
  }
 },
 "nbformat": 4,
 "nbformat_minor": 5
}
