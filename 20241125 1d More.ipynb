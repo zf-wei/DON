{
 "cells": [
  {
   "cell_type": "code",
   "execution_count": 1,
   "id": "b7581882a095f88",
   "metadata": {
    "ExecuteTime": {
     "end_time": "2024-11-26T05:38:29.591383Z",
     "start_time": "2024-11-26T05:38:17.619836Z"
    }
   },
   "outputs": [],
   "source": [
    "import os\n",
    "import numpy as np\n",
    "import torch\n",
    "from torch.utils.data import DataLoader, Dataset\n",
    "\n",
    "\n",
    "import torch.optim as optim\n",
    "import sys\n",
    "\n",
    "\n",
    "sys.path.append(os.path.abspath(os.path.expanduser(\"~/DON\")))\n",
    "\n",
    "'''\n",
    "import argparse\n",
    "parser = argparse.ArgumentParser(description=\"DeepONet with configurable parameters.\")\n",
    "parser.add_argument('--problem', type=str, default=\"heat\", help='Problem to solve')\n",
    "parser.add_argument('--var', type=int, default=0, help='Variant of DeepONet')\n",
    "parser.add_argument('--visc', type=float, default=0.0001, help='Viscosity')\n",
    "parser.add_argument('--struct', type=int, default=1, help='Structure of DeepONet')\n",
    "parser.add_argument('--sensor', type=int, default=50, help='Number of sensors')\n",
    "parser.add_argument('--boundary_parameter', type=float, default=0, help='Weight parameter for boundary conditions')\n",
    "parser.add_argument('--initial_parameter', type=float, default=0, help='Weight parameter for initial conditions')\n",
    "parser.add_argument('--train_batch_size', type=int, default=8000, help='Train Batch size')\n",
    "parser.add_argument('--test_batch_size', type=int, default=2000, help='Train Batch size')\n",
    "# 解析命令行参数\n",
    "args = parser.parse_args()\n",
    "problem = args.problem\n",
    "var = args.var\n",
    "visc = args.visc\n",
    "struct = args.struct\n",
    "n_points = args.sensor\n",
    "boundary_parameter = args.boundary_parameter\n",
    "initial_parameter = args.initial_parameter\n",
    "train_batch_size = args.train_batch_size\n",
    "test_batch_size = args.test_batch_size\n",
    "'''\n",
    "problem = \"burgers\"\n",
    "var = 6\n",
    "visc = 0.0001\n",
    "struct = 1\n",
    "n_points = 101\n",
    "boundary_parameter = 0\n",
    "initial_parameter = 0\n",
    "train_batch_size = 8000\n",
    "test_batch_size = 2000\n",
    "\n",
    "epochs = 2\n",
    "## 需要修改"
   ]
  },
  {
   "cell_type": "code",
   "execution_count": 2,
   "id": "96e92850a88f7af6",
   "metadata": {
    "ExecuteTime": {
     "end_time": "2024-11-26T05:38:29.749361Z",
     "start_time": "2024-11-26T05:38:29.632492Z"
    }
   },
   "outputs": [],
   "source": [
    "# In this cell, we define the configurable parameters for the DeepONet\n",
    "\n",
    "time_limit = 1\n",
    "time_step = 0.01\n",
    "\n",
    "if problem==\"heat\":\n",
    "    time_start = time_step\n",
    "    total_time_steps = int(time_limit/time_step)\n",
    "    from utilities.tools import get_cell_centers\n",
    "    evaluating_points = get_cell_centers(n_points=n_points)\n",
    "elif problem==\"burgers\":\n",
    "    time_start = 0\n",
    "    total_time_steps = (int(time_limit/time_step)+1)\n",
    "    evaluating_points = np.linspace(0, 1, n_points)\n",
    "\n",
    "evaluating_points = np.around(evaluating_points, decimals=2)\n",
    "\n",
    "total_sample = 500\n",
    "border = int(total_sample * 4 / 5) # 设置训练集和测试集的边界\n",
    "\n",
    "\n",
    "# Hyperparameters\n",
    "branch_input_dim = n_points  # Number of points to represent the original function\n",
    "trunk_input_dim = 2     # Coordinate where we evaluate the transformed function\n",
    "\n",
    "# Define the dictionary mapping struct values to neural network structures\n",
    "if var!=6:\n",
    "    structures = {\n",
    "        1: {'hidden_dims': [100, 100, 100, 100], 'output_dim': 50},\n",
    "        2: {'hidden_dims': [200, 200, 200, 200], 'output_dim': 50}\n",
    "    }\n",
    "\n",
    "    # Get the configuration based on the struct value\n",
    "    config = structures.get(struct, {'hidden_dims': [], 'output_dim': 0})\n",
    "\n",
    "    hidden_dims = config['hidden_dims']\n",
    "    output_dim = config['output_dim']\n",
    "elif var==6:\n",
    "    structure_params = {\n",
    "        1: (4, 4, 100, 50),\n",
    "        2: (4, 4, 200, 50),\n",
    "    }\n",
    "    if struct in structure_params:\n",
    "        branch_depth, trunk_depth, hidden_dim, output_dim = structure_params[struct]\n",
    "    else:\n",
    "        raise ValueError(\"Invalid structure type\")"
   ]
  },
  {
   "cell_type": "code",
   "execution_count": 3,
   "id": "f5b174778098c640",
   "metadata": {
    "ExecuteTime": {
     "end_time": "2024-11-26T05:38:29.898065Z",
     "start_time": "2024-11-26T05:38:29.892709Z"
    }
   },
   "outputs": [
    {
     "name": "stdout",
     "output_type": "stream",
     "text": [
      "The dimension of y_tensor is torch.Size([10201, 2]).\n",
      "The dimension of y_expanded is torch.Size([500, 10201, 2]) after expanding.\n",
      "The zero coordinate of y_expanded is time and the first coordinate is space.\n"
     ]
    }
   ],
   "source": [
    "# In this cell, we import the function to get the cell centers of a 1D mesh.\n",
    "# Also, we set up the spatial and temporal grid points for the training and testing datasets.\n",
    "# This is the so-called y_expanded tensor.\n",
    "time_steps = np.arange(time_start, time_limit+time_step, time_step)\n",
    "time_steps = np.around(time_steps, decimals=2)\n",
    "\n",
    "Y1, Y2 = np.meshgrid(evaluating_points, time_steps)  # 第一个变量进行行展开，第二个变量进行列展开\n",
    "\n",
    "y = np.column_stack([Y2.ravel(),Y1.ravel()]) \n",
    "# 先将 Y2 和 Y1 进行展开，然后将展开后的两个向量进行列合并\n",
    "\n",
    "y_tensor = torch.tensor(y, dtype=torch.float)\n",
    "print(f\"The dimension of y_tensor is {y_tensor.shape}.\")\n",
    "y_expanded = y_tensor.unsqueeze(0).expand(total_sample, -1, -1)\n",
    "print(f\"The dimension of y_expanded is {y_expanded.shape} after expanding.\")\n",
    "print(\"The zero coordinate of y_expanded is time and the first coordinate is space.\")"
   ]
  },
  {
   "cell_type": "code",
   "execution_count": 4,
   "id": "5207f665c8910c7b",
   "metadata": {
    "ExecuteTime": {
     "end_time": "2024-11-26T05:38:30.362351Z",
     "start_time": "2024-11-26T05:38:29.995173Z"
    }
   },
   "outputs": [
    {
     "name": "stdout",
     "output_type": "stream",
     "text": [
      "The dimensions of the initial conditions are: (500, 101)\n",
      "The dimensions of the solutions are: (500, 101, 101)\n"
     ]
    }
   ],
   "source": [
    "# In this cell, we load the initial conditions and solutions from the saved files.\n",
    "\n",
    "# Define the directory where you want to save the file\n",
    "from pathlib import Path\n",
    "# Get the current directory\n",
    "current_dir = Path.cwd()\n",
    "#data_directory = os.path.join(current_dir.parent, 'data')\n",
    "## 需要修改\n",
    "data_directory = os.path.join(current_dir, 'data')\n",
    "initials_name = f'{problem}_initials_{visc}_{len(evaluating_points)}.npy'\n",
    "solutions_name = f'{problem}_solutions_{visc}_{len(evaluating_points)}.npy'\n",
    "\n",
    "# Define the file paths\n",
    "initials_path = os.path.join(data_directory, initials_name)\n",
    "solutions_path = os.path.join(data_directory, solutions_name)\n",
    "\n",
    "# Load the data\n",
    "initials = np.load(initials_path)\n",
    "solutions = np.load(solutions_path)\n",
    "\n",
    "print(f\"The dimensions of the initial conditions are: {initials.shape}\")\n",
    "print(f\"The dimensions of the solutions are: {solutions.shape}\")"
   ]
  },
  {
   "cell_type": "code",
   "execution_count": 5,
   "id": "263385cef0858257",
   "metadata": {
    "ExecuteTime": {
     "end_time": "2024-11-26T05:38:30.427742Z",
     "start_time": "2024-11-26T05:38:30.402413Z"
    }
   },
   "outputs": [
    {
     "name": "stdout",
     "output_type": "stream",
     "text": [
      "The dimension of u_tensor is torch.Size([500, 101]).\n",
      "The dimension of u_expanded is torch.Size([500, 10201, 101]) after expanding.\n"
     ]
    }
   ],
   "source": [
    "# In this cell, we arrange the initial conditions into the desired format for training the DeepONet.\n",
    "# This is the so-called u_expanded tensor.\n",
    "u_tensor = torch.tensor(initials, dtype=torch.float)\n",
    "print(f\"The dimension of u_tensor is {u_tensor.shape}.\")\n",
    "\n",
    "u_expanded = u_tensor.unsqueeze(1) # u_expanded: tensor[total_sample, 1, n_points]\n",
    "u_expanded = u_expanded.expand(-1, total_time_steps * n_points, -1) # u_expanded: tensor[total_sample, total_time_steps*n_points, n_points]\n",
    "print(f\"The dimension of u_expanded is {u_expanded.shape} after expanding.\")"
   ]
  },
  {
   "cell_type": "code",
   "execution_count": 6,
   "id": "40e93725c26537d",
   "metadata": {
    "ExecuteTime": {
     "end_time": "2024-11-26T05:38:30.486656Z",
     "start_time": "2024-11-26T05:38:30.477143Z"
    }
   },
   "outputs": [],
   "source": [
    "# I have a tensor of shape (total_sample, n_points) representing the initial conditions. In this cell, I wanted to expand it to (total_sample, total_time_steps*n_points) by repeating the initial conditions for each time step.\n",
    "\n",
    "# Assuming u_tensor is the tensor of shape (total_sample, n_points)\n",
    "# Expand the tensor to (total_sample, total_time_steps*n_points)\n",
    "u_corresponding = u_tensor.repeat(1, total_time_steps)\n",
    "u_corresponding = u_corresponding.unsqueeze(2) # This is the so-called corresponding initial value\n",
    "\n",
    "# Take the spatial coordinate of the y_expanded tensor\n",
    "y_space = y_expanded[:, :, 1].unsqueeze(-1)"
   ]
  },
  {
   "cell_type": "code",
   "execution_count": 7,
   "id": "addb4d7d40a31a60",
   "metadata": {
    "ExecuteTime": {
     "end_time": "2024-11-26T05:38:30.569816Z",
     "start_time": "2024-11-26T05:38:30.566708Z"
    }
   },
   "outputs": [],
   "source": [
    "# In this cell, we modify the input of the DeepONet based on the variant chosen.\n",
    "# We also update the input dimensions of the DeepONet based on the variant chosen.\n",
    "if var==2 or var==3:\n",
    "    y_expanded = torch.cat((y_expanded, u_corresponding), dim=-1)\n",
    "elif var==4:\n",
    "    y_expanded = torch.cat((y_expanded, u_expanded), dim=-1)\n",
    "\n",
    "if var== 1 or var==3 or var==4:\n",
    "    u_expanded = torch.cat((u_expanded, y_space), dim=-1)\n",
    "\n",
    "var_mapping = {\n",
    "    1: {'var_branch_input_dim': branch_input_dim + 1, 'var_trunk_input_dim': trunk_input_dim},\n",
    "    2: {'var_branch_input_dim': branch_input_dim, 'var_trunk_input_dim': trunk_input_dim + 1},\n",
    "    3: {'var_branch_input_dim': branch_input_dim + 1, 'var_trunk_input_dim': trunk_input_dim + 1},\n",
    "    4: {'var_branch_input_dim': branch_input_dim + 1, 'var_trunk_input_dim': trunk_input_dim + branch_input_dim}\n",
    "}\n",
    "\n",
    "if var in var_mapping:\n",
    "    branch_input_dim = var_mapping[var]['var_branch_input_dim']\n",
    "    trunk_input_dim = var_mapping[var]['var_trunk_input_dim']"
   ]
  },
  {
   "cell_type": "code",
   "execution_count": 8,
   "id": "d8da03c7d319f1d3",
   "metadata": {
    "ExecuteTime": {
     "end_time": "2024-11-26T05:38:30.670313Z",
     "start_time": "2024-11-26T05:38:30.641887Z"
    }
   },
   "outputs": [
    {
     "name": "stdout",
     "output_type": "stream",
     "text": [
      "The loaded solution dataset has dimension (500, 101, 101),\n",
      "\t while the arranged linearized dataset has dimension (500, 10201).\n",
      "The dimension of s_tensor is torch.Size([500, 10201]).\n",
      "The dimension of s_expanded is torch.Size([500, 10201, 1]) after expanding.\n"
     ]
    }
   ],
   "source": [
    "# In this cell, we arrange the solutions into the desired format for training the DeepONet.\n",
    "# This is the so-called s_expanded tensor.\n",
    "\n",
    "solutions_linear = np.zeros((total_sample, total_time_steps*n_points))\n",
    "\n",
    "for i in range(total_sample):\n",
    "    solutions_linear[i] = solutions[i].flatten()\n",
    "\n",
    "# solutions is a 3D array of shape (total_sample, total_time_steps, n_points)\n",
    "print(f\"The loaded solution dataset has dimension {solutions.shape},\\n\\t while the arranged linearized dataset has dimension {solutions_linear.shape}.\")\n",
    "\n",
    "s_tensor  = torch.tensor(solutions_linear, dtype=torch.float) # s_tensor: tensor[total_sample, total_time_steps*n_points]\n",
    "s_expanded  = s_tensor.unsqueeze(2) # s_expanded: tensor[total_sample, total_time_steps*n_points, 1]\n",
    "\n",
    "print(f\"The dimension of s_tensor is {s_tensor.shape}.\")\n",
    "print(f\"The dimension of s_expanded is {s_expanded.shape} after expanding.\")"
   ]
  },
  {
   "cell_type": "code",
   "execution_count": 9,
   "id": "f93069c846cf6a35",
   "metadata": {
    "ExecuteTime": {
     "end_time": "2024-11-26T05:38:32.820556Z",
     "start_time": "2024-11-26T05:38:30.716216Z"
    }
   },
   "outputs": [
    {
     "name": "stdout",
     "output_type": "stream",
     "text": [
      "The training dataset has 4080400 samples, while the train_loader has 511 batches.\n",
      "The training dataset has 1020100 samples, while the train_loader has 511 batches.\n"
     ]
    }
   ],
   "source": [
    "# In this cell, we create the training and testing datasets and dataloader for the DeepONet.\n",
    "\n",
    "u_train = u_expanded[:border]\n",
    "y_train = y_expanded[:border]\n",
    "s_train = s_expanded[:border]\n",
    "\n",
    "u_test = u_expanded[border:]\n",
    "y_test = y_expanded[border:]\n",
    "s_test = s_expanded[border:]\n",
    "\n",
    "u_train_combined = u_train.reshape(-1, u_train.shape[-1])\n",
    "y_train_combined = y_train.reshape(-1, y_train.shape[-1])\n",
    "s_train_combined = s_train.reshape(-1, s_train.shape[-1])\n",
    "\n",
    "u_test_combined = u_test.reshape(-1, u_test.shape[-1])\n",
    "y_test_combined = y_test.reshape(-1, y_test.shape[-1])\n",
    "s_test_combined = s_test.reshape(-1, s_test.shape[-1])\n",
    "\n",
    "from utilities.tools import CustomDataset as CustomDataset\n",
    "\n",
    "train_set = CustomDataset(u_train_combined, y_train_combined, s_train_combined)\n",
    "test_set = CustomDataset(u_test_combined, y_test_combined, s_test_combined)\n",
    "\n",
    "# 创建 DataLoader\n",
    "train_loader = DataLoader(train_set, batch_size=train_batch_size, shuffle=True, num_workers=1)\n",
    "test_loader = DataLoader(test_set, batch_size=test_batch_size, shuffle=False, num_workers=1)\n",
    "\n",
    "print(f\"The training dataset has {len(train_set)} samples, while the train_loader has {len(train_loader)} batches.\")\n",
    "print(f\"The training dataset has {len(test_set)} samples, while the train_loader has {len(test_loader)} batches.\")"
   ]
  },
  {
   "cell_type": "code",
   "execution_count": 10,
   "id": "b2eb4da6aa21f586",
   "metadata": {
    "ExecuteTime": {
     "end_time": "2024-11-26T05:38:36.588371Z",
     "start_time": "2024-11-26T05:38:32.858231Z"
    }
   },
   "outputs": [],
   "source": [
    "# In this cell, we import and set up the model and load the trained parameters\n",
    "# The loss function is also imported here.\n",
    "\n",
    "# Create model\n",
    "device = torch.device(\"cuda\" if torch.cuda.is_available() else \"cpu\")\n",
    "\n",
    "if var!=6:\n",
    "    from utilities.DeepONets import DeepONet\n",
    "    model = DeepONet(branch_input_dim, trunk_input_dim, hidden_dims, output_dim).to(device)\n",
    "elif var==6:\n",
    "    from utilities.DeepONets import ModifiedDeepONet\n",
    "    model = ModifiedDeepONet(branch_input_dim, branch_depth, trunk_input_dim, trunk_depth, hidden_dim, output_dim).to(device)\n",
    "\n",
    "optimizer = optim.Adam(model.parameters(), lr=0.001)\n",
    "\n",
    "from utilities.loss_fns import loss_fn_1d_combined as loss_fn"
   ]
  },
  {
   "cell_type": "code",
   "execution_count": 11,
   "id": "efc153cac14e1864",
   "metadata": {
    "ExecuteTime": {
     "end_time": "2024-11-26T05:41:06.589577Z",
     "start_time": "2024-11-26T05:38:36.635924Z"
    }
   },
   "outputs": [
    {
     "name": "stdout",
     "output_type": "stream",
     "text": [
      "Epoch 1\n"
     ]
    },
    {
     "name": "stderr",
     "output_type": "stream",
     "text": [
      "A best model at epoch 1 has been saved with training loss 0.04038600996137.\n",
      "A best model at epoch 1 has been saved with training loss 0.03928965702653.\n",
      "A best model at epoch 1 has been saved with training loss 0.03850586712360.\n",
      "A best model at epoch 1 has been saved with training loss 0.03817887976766.\n",
      "A best model at epoch 1 has been saved with training loss 0.03782690688968.\n",
      "A best model at epoch 1 has been saved with training loss 0.03734015300870.\n",
      "A best model at epoch 1 has been saved with training loss 0.03708829358220.\n",
      "A best model at epoch 1 has been saved with training loss 0.03589159622788.\n",
      "A best model at epoch 1 has been saved with training loss 0.03474298492074.\n",
      "A best model at epoch 1 has been saved with training loss 0.03387325629592.\n",
      "A best model at epoch 1 has been saved with training loss 0.03365473449230.\n",
      "A best model at epoch 1 has been saved with training loss 0.03223594278097.\n",
      "A best model at epoch 1 has been saved with training loss 0.03082893788815.\n",
      "A best model at epoch 1 has been saved with training loss 0.03039387427270.\n",
      "A best model at epoch 1 has been saved with training loss 0.02987279929221.\n",
      "A best model at epoch 1 has been saved with training loss 0.02904101088643.\n",
      "A best model at epoch 1 has been saved with training loss 0.02883343212306.\n",
      "A best model at epoch 1 has been saved with training loss 0.02858324721456.\n",
      "A best model at epoch 1 has been saved with training loss 0.02822894230485.\n",
      "A best model at epoch 1 has been saved with training loss 0.02788958512247.\n",
      "A best model at epoch 1 has been saved with training loss 0.02742620930076.\n",
      "A best model at epoch 1 has been saved with training loss 0.02675474621356.\n",
      "A best model at epoch 1 has been saved with training loss 0.02534770220518.\n",
      "A best model at epoch 1 has been saved with training loss 0.02473959326744.\n",
      "A best model at epoch 1 has been saved with training loss 0.02392917498946.\n",
      "A best model at epoch 1 has been saved with training loss 0.02341160736978.\n",
      "A best model at epoch 1 has been saved with training loss 0.02243217453361.\n",
      "A best model at epoch 1 has been saved with training loss 0.02159170433879.\n",
      "A best model at epoch 1 has been saved with training loss 0.02143108658493.\n",
      "A best model at epoch 1 has been saved with training loss 0.02001662924886.\n",
      "A best model at epoch 1 has been saved with training loss 0.01981696300209.\n",
      "A best model at epoch 1 has been saved with training loss 0.01919234171510.\n",
      "A best model at epoch 1 has been saved with training loss 0.01808477006853.\n",
      "A best model at epoch 1 has been saved with training loss 0.01761442609131.\n",
      "A best model at epoch 1 has been saved with training loss 0.01753187552094.\n",
      "A best model at epoch 1 has been saved with training loss 0.01643556728959.\n",
      "A best model at epoch 1 has been saved with training loss 0.01626574806869.\n",
      "A best model at epoch 1 has been saved with training loss 0.01610136404634.\n",
      "A best model at epoch 1 has been saved with training loss 0.01591212861240.\n",
      "A best model at epoch 1 has been saved with training loss 0.01474206522107.\n",
      "A best model at epoch 1 has been saved with training loss 0.01468815281987.\n",
      "A best model at epoch 1 has been saved with training loss 0.01409517228603.\n",
      "A best model at epoch 1 has been saved with training loss 0.01371560059488.\n",
      "A best model at epoch 1 has been saved with training loss 0.01328834611923.\n",
      "A best model at epoch 1 has been saved with training loss 0.01252254843712.\n",
      "A best model at epoch 1 has been saved with training loss 0.01211855094880.\n",
      "A best model at epoch 1 has been saved with training loss 0.01164468564093.\n",
      "A best model at epoch 1 has been saved with training loss 0.01102374494076.\n",
      "A best model at epoch 1 has been saved with training loss 0.01022687181830.\n",
      "A best model at epoch 1 has been saved with training loss 0.01008096523583.\n",
      "A best model at epoch 1 has been saved with training loss 0.01006881333888.\n",
      "A best model at epoch 1 has been saved with training loss 0.01005170959979.\n",
      "A best model at epoch 1 has been saved with training loss 0.00930634606630.\n",
      "A best model at epoch 1 has been saved with training loss 0.00855800788850.\n",
      "A best model at epoch 1 has been saved with training loss 0.00773481884971.\n",
      "A best model at epoch 1 has been saved with training loss 0.00718873739243.\n",
      "A best model at epoch 1 has been saved with training loss 0.00665974384174.\n",
      "A best model at epoch 1 has been saved with training loss 0.00643969420344.\n",
      "A best model at epoch 1 has been saved with training loss 0.00643643876538.\n",
      "A best model at epoch 1 has been saved with training loss 0.00587463146076.\n",
      "A best model at epoch 1 has been saved with training loss 0.00562880607322.\n",
      "A best model at epoch 1 has been saved with training loss 0.00556625099853.\n",
      "A best model at epoch 1 has been saved with training loss 0.00552126951516.\n",
      "A best model at epoch 1 has been saved with training loss 0.00505118956789.\n",
      "A best model at epoch 1 has been saved with training loss 0.00496580079198.\n",
      "A best model at epoch 1 has been saved with training loss 0.00492157647386.\n",
      "A best model at epoch 1 has been saved with training loss 0.00484495796263.\n",
      "A best model at epoch 1 has been saved with training loss 0.00461179902777.\n",
      "A best model at epoch 1 has been saved with training loss 0.00442914711311.\n",
      "A best model at epoch 1 has been saved with training loss 0.00415294570848.\n",
      "A best model at epoch 1 has been saved with training loss 0.00396278547123.\n",
      "A best model at epoch 1 has been saved with training loss 0.00386471743695.\n",
      "A best model at epoch 1 has been saved with training loss 0.00365185597911.\n",
      "A best model at epoch 1 has been saved with training loss 0.00365029228851.\n",
      "A best model at epoch 1 has been saved with training loss 0.00340248132125.\n",
      "A best model at epoch 1 has been saved with training loss 0.00337565760128.\n",
      "A best model at epoch 1 has been saved with training loss 0.00320458319038.\n",
      "A best model at epoch 1 has been saved with training loss 0.00308760465123.\n",
      "A best model at epoch 1 has been saved with training loss 0.00305764563382.\n",
      "A best model at epoch 1 has been saved with training loss 0.00284299883060.\n",
      "A best model at epoch 1 has been saved with training loss 0.00278907432221.\n",
      "A best model at epoch 1 has been saved with training loss 0.00274995574728.\n",
      "A best model at epoch 1 has been saved with training loss 0.00255374400876.\n",
      "A best model at epoch 1 has been saved with training loss 0.00253559811972.\n",
      "A best model at epoch 1 has been saved with training loss 0.00240256125107.\n",
      "A best model at epoch 1 has been saved with training loss 0.00235848804004.\n",
      "A best model at epoch 1 has been saved with training loss 0.00222431356087.\n",
      "A best model at epoch 1 has been saved with training loss 0.00220264797099.\n",
      "A best model at epoch 1 has been saved with training loss 0.00215287180617.\n",
      "A best model at epoch 1 has been saved with training loss 0.00205987878144.\n",
      "A best model at epoch 1 has been saved with training loss 0.00199188594706.\n",
      "A best model at epoch 1 has been saved with training loss 0.00189112452790.\n",
      "A best model at epoch 1 has been saved with training loss 0.00184798031114.\n",
      "A best model at epoch 1 has been saved with training loss 0.00182384729851.\n",
      "A best model at epoch 1 has been saved with training loss 0.00174761726521.\n",
      "A best model at epoch 1 has been saved with training loss 0.00167654512916.\n",
      "A best model at epoch 1 has been saved with training loss 0.00166100775823.\n",
      "A best model at epoch 1 has been saved with training loss 0.00161861081142.\n",
      "A best model at epoch 1 has been saved with training loss 0.00156933278777.\n",
      "A best model at epoch 1 has been saved with training loss 0.00151519454084.\n"
     ]
    },
    {
     "name": "stdout",
     "output_type": "stream",
     "text": [
      "Epoch 1, Loss: 0.00723323614406, Improvement: 0.00723323614406, Best Loss: 0.00151519454084 in Epoch 1, Time: 92.40 seconds\n",
      "Epoch 2\n"
     ]
    },
    {
     "name": "stderr",
     "output_type": "stream",
     "text": [
      "A best model at epoch 2 has been saved with training loss 0.00150039733853.\n",
      "A best model at epoch 2 has been saved with training loss 0.00149157317355.\n",
      "A best model at epoch 2 has been saved with training loss 0.00140464573633.\n",
      "A best model at epoch 2 has been saved with training loss 0.00131333735771.\n",
      "A best model at epoch 2 has been saved with training loss 0.00125897268299.\n",
      "A best model at epoch 2 has been saved with training loss 0.00120784831233.\n",
      "A best model at epoch 2 has been saved with training loss 0.00119053653907.\n",
      "A best model at epoch 2 has been saved with training loss 0.00111032905988.\n",
      "A best model at epoch 2 has been saved with training loss 0.00101906829514.\n",
      "A best model at epoch 2 has been saved with training loss 0.00098983442876.\n"
     ]
    },
    {
     "name": "stdout",
     "output_type": "stream",
     "text": [
      "Epoch 2, Loss: 0.00147443128533, Improvement: -0.00575880485873, Best Loss: 0.00078937364742 in Epoch 2, Time: 57.55 seconds\n"
     ]
    },
    {
     "name": "stderr",
     "output_type": "stream",
     "text": [
      "A best model at epoch 2 has been saved with training loss 0.00078937364742.\n"
     ]
    }
   ],
   "source": [
    "# 训练模型\n",
    "loss_list = []\n",
    "time_list = []\n",
    "loss_best = float('inf')\n",
    "loss_prev = 0\n",
    "best_epoch = 0\n",
    "model_best = model.state_dict().copy()\n",
    "\n",
    "import time\n",
    "\n",
    "for epoch in range(epochs):\n",
    "    start_time = time.time()  # Record the start time\n",
    "    print(f\"Epoch {epoch+1}\") \n",
    "    loss_epoch = []\n",
    "    for input1_batch, input2_batch, target_batch in train_loader:\n",
    "        input1_batch = input1_batch.to(device)\n",
    "        input2_batch = input2_batch.to(device)\n",
    "        target_batch = target_batch.to(device)\n",
    "\n",
    "        optimizer.zero_grad()\n",
    "        outputs = model(input1_batch, input2_batch)\n",
    "        loss = loss_fn(outputs, target_batch, boundary_parameter, initial_parameter, total_time_steps, n_points)\n",
    "        loss_epoch.append(loss.item())\n",
    "        if loss.item()<loss_best:\n",
    "            loss_best = loss.item()\n",
    "            best_epoch = epoch\n",
    "            model_best = model.state_dict().copy()\n",
    "            model_params_best = f\"{problem}_Var{var}_Visc{visc}_Struct{struct}_Sensor{n_points}_Boundary{boundary_parameter}_Initial{initial_parameter}_Batch{train_batch_size}-best.pth\"\n",
    "            torch.save(model_best, model_params_best)\n",
    "            print(f\"A best model at epoch {epoch+1} has been saved with training loss {loss_best:.14f}.\", file=sys.stderr)\n",
    "        loss.backward()\n",
    "        optimizer.step()\n",
    "        del input1_batch, input2_batch, outputs, loss\n",
    "        torch.cuda.empty_cache()  # 释放当前批次的缓存\n",
    "    loss_list.append(loss_epoch)\n",
    "    loss_curr = np.mean(loss_epoch)\n",
    "    epoch_time = time.time() - start_time  # Calculate the elapsed time\n",
    "    time_list.append(epoch_time)\n",
    "\n",
    "    print(f\"Epoch {epoch+1}, Loss: {loss_curr:.14f}, Improvement: {loss_curr - loss_prev:.14f}, Best Loss: {loss_best:.14f} in Epoch {best_epoch+1}, Time: {epoch_time:.2f} seconds\")\n",
    "\n",
    "    loss_prev = loss_curr\n",
    "    if epoch%50==49:\n",
    "        # 保存损失值和模型\n",
    "        training_loss_list = f\"{problem}_Var{var}_Visc{visc}_Struct{struct}_Sensor{n_points}_Boundary{boundary_parameter}_Initial{initial_parameter}_Batch{train_batch_size}-final.npy\"\n",
    "        model_params_final = f\"{problem}_Var{var}_Visc{visc}_Struct{struct}_Sensor{n_points}_Boundary{boundary_parameter}_Initial{initial_parameter}_Batch{train_batch_size}-final.pth\"\n",
    "        np.save(training_loss_list, np.array(loss_list))\n",
    "        torch.save(model.state_dict(), model_params_final)\n",
    "        print(f\"Model saving checkpoint: the model trained after epoch {epoch+1} has been saved with the training losses.\", file=sys.stderr)\n",
    "    sys.stdout.flush()"
   ]
  },
  {
   "cell_type": "code",
   "execution_count": 12,
   "id": "828a564ec2bd2525",
   "metadata": {
    "ExecuteTime": {
     "end_time": "2024-11-26T05:41:06.773523Z",
     "start_time": "2024-11-26T05:41:06.770971Z"
    }
   },
   "outputs": [
    {
     "name": "stdout",
     "output_type": "stream",
     "text": [
      "[0.00723324 0.00147443]\n"
     ]
    }
   ],
   "source": [
    "losses = np.array(loss_list)\n",
    "\n",
    "print(np.mean(losses,axis=1))\n",
    "\n",
    "## 需要修改"
   ]
  },
  {
   "cell_type": "code",
   "execution_count": 13,
   "id": "df781e2b09174ef8",
   "metadata": {
    "ExecuteTime": {
     "end_time": "2024-11-26T05:41:06.896287Z",
     "start_time": "2024-11-26T05:41:06.874948Z"
    }
   },
   "outputs": [],
   "source": [
    "# 保存损失值和模型\n",
    "training_loss_list = f\"{problem}_Var{var}_Visc{visc}_Struct{struct}_Sensor{n_points}_Boundary{boundary_parameter}_Initial{initial_parameter}_Batch{train_batch_size}-final.npy\"\n",
    "training_time_list = f\"{problem}_Var{var}_Visc{visc}_Struct{struct}_Sensor{n_points}_Boundary{boundary_parameter}_Initial{initial_parameter}_Batch{train_batch_size}-time.npy\"\n",
    "model_params_final = f\"{problem}_Var{var}_Visc{visc}_Struct{struct}_Sensor{n_points}_Boundary{boundary_parameter}_Initial{initial_parameter}_Batch{train_batch_size}-final.pth\"\n",
    "\n",
    "np.save(training_loss_list, np.array(loss_list))\n",
    "np.save(training_time_list, np.array(time_list))\n",
    "torch.save(model.state_dict(), model_params_final)"
   ]
  },
  {
   "cell_type": "code",
   "execution_count": 14,
   "id": "2acf165b01f82a6",
   "metadata": {
    "ExecuteTime": {
     "end_time": "2024-11-26T05:41:06.973732Z",
     "start_time": "2024-11-26T05:41:06.970926Z"
    }
   },
   "outputs": [],
   "source": [
    "# # In this cell, we compute training and testing loss for the model\n",
    "def compute_loss(model, data_loader, device, description=\"Computing loss\"):\n",
    "    \"\"\"\n",
    "    Compute the loss for a given dataset using the trained model.\n",
    "\n",
    "    Parameters:\n",
    "    - model: The trained model.\n",
    "    - data_loader: DataLoader for the dataset (train or test).\n",
    "    - device: Device to run the computations on (CPU or GPU).\n",
    "    - description: Description for the tqdm progress bar.\n",
    "\n",
    "    Returns:\n",
    "    - average_loss: The average loss over the dataset.\n",
    "    \"\"\"\n",
    "    total_loss = 0\n",
    "    with torch.no_grad():\n",
    "        for input1_batch, input2_batch, target_batch in data_loader:\n",
    "            input1_batch = input1_batch.to(device)\n",
    "            input2_batch = input2_batch.to(device)\n",
    "            target_batch = target_batch.to(device)\n",
    "            outputs = model(input1_batch, input2_batch)\n",
    "            loss = loss_fn(outputs, target_batch, boundary_parameter, initial_parameter, total_time_steps, n_points)\n",
    "            total_loss += loss.item()\n",
    "            del input1_batch, input2_batch, target_batch, outputs\n",
    "            torch.cuda.empty_cache()  # Release cache for the current batch\n",
    "    average_loss = total_loss / len(data_loader)\n",
    "    return average_loss"
   ]
  },
  {
   "cell_type": "code",
   "execution_count": 15,
   "id": "8f70f1aeac644ba4",
   "metadata": {
    "ExecuteTime": {
     "end_time": "2024-11-26T05:42:24.676732Z",
     "start_time": "2024-11-26T05:41:07.141511Z"
    }
   },
   "outputs": [
    {
     "name": "stdout",
     "output_type": "stream",
     "text": [
      "With the best parameters, the training loss is 0.00115805290448, while the testing loss is 0.00176230964301.\n"
     ]
    }
   ],
   "source": [
    "training_loss_best = f\"{problem}_Var{var}_Visc{visc}_Struct{struct}_Sensor{n_points}_Boundary{boundary_parameter}_Initial{initial_parameter}_Batch{train_batch_size}-best.loss\"\n",
    "\n",
    "model.load_state_dict(torch.load(model_params_best, map_location=torch.device(device), weights_only=True))\n",
    "model.eval()\n",
    "\n",
    "training_loss = compute_loss(model, train_loader, device, description=\"Computing training loss\")\n",
    "testing_loss = compute_loss(model, test_loader, device, description=\"Computing testing loss\")\n",
    "\n",
    "print(f\"With the best parameters, the training loss is {training_loss:.14f}, while the testing loss is {testing_loss:.14f}.\")\n",
    "\n",
    "with open(training_loss_best, 'w') as f:\n",
    "    f.write(\"With the best parameters, the training and testing losses for the model are as follows:\\n\")\n",
    "    f.write(f\"Train loss: {training_loss}\\n\")\n",
    "    f.write(f\"Test loss: {testing_loss}\\n\")"
   ]
  }
 ],
 "metadata": {
  "kernelspec": {
   "display_name": "Python 3",
   "language": "python",
   "name": "python3"
  },
  "language_info": {
   "codemirror_mode": {
    "name": "ipython",
    "version": 2
   },
   "file_extension": ".py",
   "mimetype": "text/x-python",
   "name": "python",
   "nbconvert_exporter": "python",
   "pygments_lexer": "ipython2",
   "version": "2.7.6"
  }
 },
 "nbformat": 4,
 "nbformat_minor": 5
}
