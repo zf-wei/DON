{
 "cells": [
  {
   "cell_type": "code",
   "execution_count": 1,
   "id": "fcbfeb9bd7eb0b5c",
   "metadata": {
    "ExecuteTime": {
     "end_time": "2024-11-19T23:49:21.933784Z",
     "start_time": "2024-11-19T23:49:21.931095Z"
    }
   },
   "outputs": [
    {
     "name": "stdout",
     "output_type": "stream",
     "text": [
      "/qfs/people/weiz828/DON\n"
     ]
    }
   ],
   "source": [
    "import os\n",
    "\n",
    "# This is a test to see if the current working directory is the same as the directory\n",
    "# where the notebook is located\n",
    "\n",
    "print(os.getcwd())"
   ]
  },
  {
   "cell_type": "code",
   "execution_count": 2,
   "id": "937a6469545ffa5",
   "metadata": {
    "ExecuteTime": {
     "end_time": "2024-11-19T23:50:40.361820Z",
     "start_time": "2024-11-19T23:50:38.001967Z"
    }
   },
   "outputs": [
    {
     "name": "stdout",
     "output_type": "stream",
     "text": [
      "[0.01 0.02 0.03 0.04 0.05 0.06 0.07 0.08 0.09 0.1  0.11 0.12 0.13 0.14\n",
      " 0.15 0.16 0.17 0.18 0.19 0.2  0.21 0.22 0.23 0.24 0.25 0.26 0.27 0.28\n",
      " 0.29 0.3  0.31 0.32 0.33 0.34 0.35 0.36 0.37 0.38 0.39 0.4  0.41 0.42\n",
      " 0.43 0.44 0.45 0.46 0.47 0.48 0.49 0.5  0.51 0.52 0.53 0.54 0.55 0.56\n",
      " 0.57 0.58 0.59 0.6  0.61 0.62 0.63 0.64 0.65 0.66 0.67 0.68 0.69 0.7\n",
      " 0.71 0.72 0.73 0.74 0.75 0.76 0.77 0.78 0.79 0.8  0.81 0.82 0.83 0.84\n",
      " 0.85 0.86 0.87 0.88 0.89 0.9  0.91 0.92 0.93 0.94 0.95 0.96 0.97 0.98\n",
      " 0.99 1.  ]\n"
     ]
    }
   ],
   "source": [
    "import numpy as np\n",
    "time_step = 0.01\n",
    "time_steps = np.arange(time_step, 1+time_step, time_step)\n",
    "print(time_steps)"
   ]
  },
  {
   "cell_type": "code",
   "execution_count": 8,
   "id": "16792a181eb56eee",
   "metadata": {
    "ExecuteTime": {
     "end_time": "2024-11-19T23:52:16.111546Z",
     "start_time": "2024-11-19T23:52:15.901741Z"
    }
   },
   "outputs": [
    {
     "name": "stdout",
     "output_type": "stream",
     "text": [
      "dict_keys(['__header__', '__version__', '__globals__', 'gamma', 'input', 'output', 'sigma', 'tau', 'tspan'])\n"
     ]
    }
   ],
   "source": [
    "from scipy.io import loadmat\n",
    "\n",
    "# Path to your .mat file\n",
    "file_path = 'data/Burgers.mat'\n",
    "\n",
    "# Load the .mat file\n",
    "data = loadmat(file_path)\n",
    "\n",
    "# Explore the contents\n",
    "print(data.keys())  # Shows variable names in the file\n",
    "\n",
    "# Access a specific variable (replace 'variable_name' with the actual name)\n",
    "#variable = data['variable_name']\n",
    "#print(variable)\n",
    "initials  = data['input']\n",
    "solutions = data['output']"
   ]
  },
  {
   "cell_type": "code",
   "execution_count": 12,
   "id": "806dadca9b6913ab",
   "metadata": {
    "ExecuteTime": {
     "end_time": "2024-11-20T00:17:02.950866Z",
     "start_time": "2024-11-20T00:17:02.566116Z"
    }
   },
   "outputs": [
    {
     "name": "stdout",
     "output_type": "stream",
     "text": [
      "solution file saved to: /qfs/people/weiz828/DON/data/burgers_solutions_101.npy\n",
      "initial file saved to: /qfs/people/weiz828/DON/data/burgers_initials_101.npy\n"
     ]
    }
   ],
   "source": [
    "save_directory = os.path.join(os.getcwd(), 'data')\n",
    "file_name = f'burgers_solutions_101.npy'\n",
    "# Define the file path\n",
    "file_path = os.path.join(save_directory, file_name)\n",
    "# Save the random functions to the file\n",
    "np.save(file_path, solutions)\n",
    "print(f'solution file saved to: {file_path}')\n",
    "\n",
    "file_name = f'burgers_initials_101.npy'\n",
    "# Define the file path\n",
    "file_path = os.path.join(save_directory, file_name)\n",
    "# Save the random functions to the file\n",
    "np.save(file_path, initials)\n",
    "print(f'initial file saved to: {file_path}')\n"
   ]
  }
 ],
 "metadata": {
  "kernelspec": {
   "display_name": "Python 3",
   "language": "python",
   "name": "python3"
  },
  "language_info": {
   "codemirror_mode": {
    "name": "ipython",
    "version": 2
   },
   "file_extension": ".py",
   "mimetype": "text/x-python",
   "name": "python",
   "nbconvert_exporter": "python",
   "pygments_lexer": "ipython2",
   "version": "2.7.6"
  }
 },
 "nbformat": 4,
 "nbformat_minor": 5
}
