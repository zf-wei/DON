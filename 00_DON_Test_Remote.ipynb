{
 "cells": [
  {
   "cell_type": "code",
   "execution_count": 2,
   "id": "fcbfeb9bd7eb0b5c",
   "metadata": {
    "ExecuteTime": {
     "end_time": "2024-11-10T06:18:53.569411Z",
     "start_time": "2024-11-10T06:18:53.566140Z"
    }
   },
   "outputs": [
    {
     "name": "stdout",
     "output_type": "stream",
     "text": [
      "/qfs/people/weiz828/DON\n"
     ]
    }
   ],
   "source": [
    "import os\n",
    "\n",
    "# This is a test to see if the current working directory is the same as the directory\n",
    "# where the notebook is located\n",
    "\n",
    "print(os.getcwd())"
   ]
  }
 ],
 "metadata": {
  "kernelspec": {
   "display_name": "Python 3",
   "language": "python",
   "name": "python3"
  },
  "language_info": {
   "codemirror_mode": {
    "name": "ipython",
    "version": 2
   },
   "file_extension": ".py",
   "mimetype": "text/x-python",
   "name": "python",
   "nbconvert_exporter": "python",
   "pygments_lexer": "ipython2",
   "version": "2.7.6"
  }
 },
 "nbformat": 4,
 "nbformat_minor": 5
}
