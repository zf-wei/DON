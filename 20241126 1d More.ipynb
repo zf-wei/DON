{
 "cells": [
  {
   "cell_type": "code",
   "execution_count": 1,
   "id": "b7581882a095f88",
   "metadata": {
    "ExecuteTime": {
     "end_time": "2024-11-26T18:27:11.158261Z",
     "start_time": "2024-11-26T18:26:58.457999Z"
    }
   },
   "outputs": [],
   "source": [
    "import os\n",
    "import numpy as np\n",
    "import torch\n",
    "from torch.utils.data import DataLoader, Dataset\n",
    "\n",
    "\n",
    "import torch.optim as optim\n",
    "import sys\n",
    "\n",
    "\n",
    "sys.path.append(os.path.abspath(os.path.expanduser(\"~/DON\")))\n",
    "\n",
    "'''\n",
    "import argparse\n",
    "parser = argparse.ArgumentParser(description=\"DeepONet with configurable parameters.\")\n",
    "parser.add_argument('--problem', type=str, default=\"heat\", help='Problem to solve')\n",
    "parser.add_argument('--var', type=int, default=0, help='Variant of DeepONet')\n",
    "parser.add_argument('--visc', type=float, default=0.0001, help='Viscosity')\n",
    "parser.add_argument('--struct', type=int, default=1, help='Structure of DeepONet')\n",
    "parser.add_argument('--sensor', type=int, default=50, help='Number of sensors')\n",
    "parser.add_argument('--boundary_parameter', type=float, default=0, help='Weight parameter for boundary conditions')\n",
    "parser.add_argument('--initial_parameter', type=float, default=0, help='Weight parameter for initial conditions')\n",
    "parser.add_argument('--train_batch_size', type=int, default=8000, help='Train Batch size')\n",
    "parser.add_argument('--test_batch_size', type=int, default=2000, help='Train Batch size')\n",
    "# 解析命令行参数\n",
    "args = parser.parse_args()\n",
    "problem = args.problem\n",
    "var = args.var\n",
    "visc = args.visc\n",
    "struct = args.struct\n",
    "n_points = args.sensor\n",
    "boundary_parameter = args.boundary_parameter\n",
    "initial_parameter = args.initial_parameter\n",
    "train_batch_size = args.train_batch_size\n",
    "test_batch_size = args.test_batch_size\n",
    "'''\n",
    "problem = \"burgers\"\n",
    "var = 6\n",
    "visc = 0.0001\n",
    "struct = 1\n",
    "n_points = 101\n",
    "boundary_parameter = 0\n",
    "initial_parameter = 0\n",
    "train_batch_size = 8000\n",
    "test_batch_size = 2000\n",
    "\n",
    "epochs = 2\n",
    "## 需要修改"
   ]
  },
  {
   "cell_type": "code",
   "execution_count": 2,
   "id": "96e92850a88f7af6",
   "metadata": {
    "ExecuteTime": {
     "end_time": "2024-11-26T18:27:11.704498Z",
     "start_time": "2024-11-26T18:27:11.638866Z"
    }
   },
   "outputs": [],
   "source": [
    "# In this cell, we define the configurable parameters for the DeepONet\n",
    "\n",
    "temporal_limit = 1\n",
    "temporal_step = 0.01\n",
    "\n",
    "if problem==\"heat\":\n",
    "    temporal_start = temporal_step\n",
    "    total_temporal_steps = int(temporal_limit / temporal_step)\n",
    "    from utilities.tools import get_cell_centers\n",
    "    evaluating_points = get_cell_centers(n_points=n_points)\n",
    "elif problem==\"burgers\":\n",
    "    temporal_start = 0\n",
    "    total_temporal_steps = (int(temporal_limit / temporal_step) + 1)\n",
    "    evaluating_points = np.linspace(0, 1, n_points)\n",
    "\n",
    "evaluating_points = np.around(evaluating_points, decimals=2)\n",
    "\n",
    "total_sample = 500\n",
    "border = int(total_sample * 4 / 5) # 设置训练集和测试集的边界\n",
    "\n",
    "\n",
    "# Hyperparameters\n",
    "branch_input_dim = n_points  # Number of points to represent the original function\n",
    "trunk_input_dim = 2     # Coordinate where we evaluate the transformed function\n",
    "\n",
    "# Define the dictionary mapping struct values to neural network structures\n",
    "if var!=6:\n",
    "    structures = {\n",
    "        1: {'hidden_dims': [100, 100, 100, 100], 'output_dim': 50},\n",
    "        2: {'hidden_dims': [200, 200, 200, 200], 'output_dim': 50}\n",
    "    }\n",
    "\n",
    "    # Get the configuration based on the struct value\n",
    "    config = structures.get(struct, {'hidden_dims': [], 'output_dim': 0})\n",
    "\n",
    "    hidden_dims = config['hidden_dims']\n",
    "    output_dim = config['output_dim']\n",
    "elif var==6:\n",
    "    structure_params = {\n",
    "        1: (4, 4, 100, 50),\n",
    "        2: (4, 4, 200, 50),\n",
    "    }\n",
    "    if struct in structure_params:\n",
    "        branch_depth, trunk_depth, hidden_dim, output_dim = structure_params[struct]\n",
    "    else:\n",
    "        raise ValueError(\"Invalid structure type\")"
   ]
  },
  {
   "cell_type": "code",
   "execution_count": 3,
   "id": "f5b174778098c640",
   "metadata": {
    "ExecuteTime": {
     "end_time": "2024-11-26T18:27:11.844647Z",
     "start_time": "2024-11-26T18:27:11.840041Z"
    }
   },
   "outputs": [
    {
     "name": "stdout",
     "output_type": "stream",
     "text": [
      "The dimension of y_tensor is torch.Size([10201, 2]).\n",
      "The dimension of y_expanded is torch.Size([500, 10201, 2]) after expanding.\n",
      "The zero coordinate of y_expanded is temporal and the first coordinate is space.\n"
     ]
    }
   ],
   "source": [
    "# In this cell, we import the function to get the cell centers of a 1D mesh.\n",
    "# Also, we set up the spatial and temporal grid points for the training and testing datasets.\n",
    "# This is the so-called y_expanded tensor.\n",
    "temporal_steps = np.arange(temporal_start, temporal_limit + temporal_step, temporal_step)\n",
    "temporal_steps = np.around(temporal_steps, decimals=2)\n",
    "\n",
    "Y1, Y2 = np.meshgrid(evaluating_points, temporal_steps)  # 第一个变量进行行展开，第二个变量进行列展开\n",
    "\n",
    "y = np.column_stack([Y2.ravel(),Y1.ravel()]) \n",
    "# 先将 Y2 和 Y1 进行展开，然后将展开后的两个向量进行列合并\n",
    "\n",
    "y_tensor = torch.tensor(y, dtype=torch.float)\n",
    "print(f\"The dimension of y_tensor is {y_tensor.shape}.\")\n",
    "y_expanded = y_tensor.unsqueeze(0).expand(total_sample, -1, -1)\n",
    "print(f\"The dimension of y_expanded is {y_expanded.shape} after expanding.\")\n",
    "print(\"The zero coordinate of y_expanded is temporal and the first coordinate is space.\")"
   ]
  },
  {
   "cell_type": "code",
   "execution_count": 4,
   "id": "5207f665c8910c7b",
   "metadata": {
    "ExecuteTime": {
     "end_time": "2024-11-26T18:27:12.393284Z",
     "start_time": "2024-11-26T18:27:12.032363Z"
    }
   },
   "outputs": [
    {
     "name": "stdout",
     "output_type": "stream",
     "text": [
      "The dimensions of the initial conditions are: (500, 101)\n",
      "The dimensions of the solutions are: (500, 101, 101)\n"
     ]
    }
   ],
   "source": [
    "# In this cell, we load the initial conditions and solutions from the saved files.\n",
    "\n",
    "# Define the directory where you want to save the file\n",
    "from pathlib import Path\n",
    "# Get the current directory\n",
    "current_dir = Path.cwd()\n",
    "#data_directory = os.path.join(current_dir.parent, 'data')\n",
    "## 需要修改\n",
    "data_directory = os.path.join(current_dir, 'data')\n",
    "initials_name = f'{problem}_initials_{visc}_{len(evaluating_points)}.npy'\n",
    "solutions_name = f'{problem}_solutions_{visc}_{len(evaluating_points)}.npy'\n",
    "\n",
    "# Define the file paths\n",
    "initials_path = os.path.join(data_directory, initials_name)\n",
    "solutions_path = os.path.join(data_directory, solutions_name)\n",
    "\n",
    "# Load the data\n",
    "initials = np.load(initials_path)\n",
    "solutions = np.load(solutions_path)\n",
    "\n",
    "print(f\"The dimensions of the initial conditions are: {initials.shape}\")\n",
    "print(f\"The dimensions of the solutions are: {solutions.shape}\")"
   ]
  },
  {
   "cell_type": "code",
   "execution_count": 5,
   "id": "263385cef0858257",
   "metadata": {
    "ExecuteTime": {
     "end_time": "2024-11-26T18:27:12.779622Z",
     "start_time": "2024-11-26T18:27:12.751856Z"
    }
   },
   "outputs": [
    {
     "name": "stdout",
     "output_type": "stream",
     "text": [
      "The dimension of u_tensor is torch.Size([500, 101]).\n",
      "The dimension of u_expanded is torch.Size([500, 10201, 101]) after expanding.\n"
     ]
    }
   ],
   "source": [
    "# In this cell, we arrange the initial conditions into the desired format for training the DeepONet.\n",
    "# This is the so-called u_expanded tensor.\n",
    "u_tensor = torch.tensor(initials, dtype=torch.float)\n",
    "print(f\"The dimension of u_tensor is {u_tensor.shape}.\")\n",
    "\n",
    "u_expanded = u_tensor.unsqueeze(1) # u_expanded: tensor[total_sample, 1, n_points]\n",
    "u_expanded = u_expanded.expand(-1, total_temporal_steps * n_points, -1) # u_expanded: tensor[total_sample, total_temporal_steps*n_points, n_points]\n",
    "print(f\"The dimension of u_expanded is {u_expanded.shape} after expanding.\")"
   ]
  },
  {
   "cell_type": "code",
   "execution_count": 6,
   "id": "40e93725c26537d",
   "metadata": {
    "ExecuteTime": {
     "end_time": "2024-11-26T18:27:12.883120Z",
     "start_time": "2024-11-26T18:27:12.865785Z"
    }
   },
   "outputs": [],
   "source": [
    "# I have a tensor of shape (total_sample, n_points) representing the initial conditions. In this cell, I wanted to expand it to (total_sample, total_temporal_steps*n_points) by repeating the initial conditions for each temporal step.\n",
    "\n",
    "# Assuming u_tensor is the tensor of shape (total_sample, n_points)\n",
    "# Expand the tensor to (total_sample, total_temporal_steps*n_points)\n",
    "u_corresponding = u_tensor.repeat(1, total_temporal_steps)\n",
    "u_corresponding = u_corresponding.unsqueeze(2) # This is the so-called corresponding initial value\n",
    "\n",
    "# Take the spatial coordinate of the y_expanded tensor\n",
    "y_space = y_expanded[:, :, 1].unsqueeze(-1)"
   ]
  },
  {
   "cell_type": "code",
   "execution_count": 7,
   "id": "addb4d7d40a31a60",
   "metadata": {
    "ExecuteTime": {
     "end_time": "2024-11-26T18:27:12.961678Z",
     "start_time": "2024-11-26T18:27:12.958998Z"
    }
   },
   "outputs": [],
   "source": [
    "# In this cell, we modify the input of the DeepONet based on the variant chosen.\n",
    "# We also update the input dimensions of the DeepONet based on the variant chosen.\n",
    "if var==2 or var==3:\n",
    "    y_expanded = torch.cat((y_expanded, u_corresponding), dim=-1)\n",
    "elif var==4:\n",
    "    y_expanded = torch.cat((y_expanded, u_expanded), dim=-1)\n",
    "\n",
    "if var== 1 or var==3 or var==4:\n",
    "    u_expanded = torch.cat((u_expanded, y_space), dim=-1)\n",
    "\n",
    "var_mapping = {\n",
    "    1: {'var_branch_input_dim': branch_input_dim + 1, 'var_trunk_input_dim': trunk_input_dim},\n",
    "    2: {'var_branch_input_dim': branch_input_dim, 'var_trunk_input_dim': trunk_input_dim + 1},\n",
    "    3: {'var_branch_input_dim': branch_input_dim + 1, 'var_trunk_input_dim': trunk_input_dim + 1},\n",
    "    4: {'var_branch_input_dim': branch_input_dim + 1, 'var_trunk_input_dim': trunk_input_dim + branch_input_dim}\n",
    "}\n",
    "\n",
    "if var in var_mapping:\n",
    "    branch_input_dim = var_mapping[var]['var_branch_input_dim']\n",
    "    trunk_input_dim = var_mapping[var]['var_trunk_input_dim']"
   ]
  },
  {
   "cell_type": "code",
   "execution_count": 8,
   "id": "d8da03c7d319f1d3",
   "metadata": {
    "ExecuteTime": {
     "end_time": "2024-11-26T18:27:13.193917Z",
     "start_time": "2024-11-26T18:27:13.165005Z"
    }
   },
   "outputs": [
    {
     "name": "stdout",
     "output_type": "stream",
     "text": [
      "The loaded solution dataset has dimension (500, 101, 101),\n",
      "\t while the arranged linearized dataset has dimension (500, 10201).\n",
      "The dimension of s_tensor is torch.Size([500, 10201]).\n",
      "The dimension of s_expanded is torch.Size([500, 10201, 1]) after expanding.\n"
     ]
    }
   ],
   "source": [
    "# In this cell, we arrange the solutions into the desired format for training the DeepONet.\n",
    "# This is the so-called s_expanded tensor.\n",
    "\n",
    "solutions_linear = np.zeros((total_sample, total_temporal_steps * n_points))\n",
    "\n",
    "for i in range(total_sample):\n",
    "    solutions_linear[i] = solutions[i].flatten()\n",
    "\n",
    "# solutions is a 3D array of shape (total_sample, total_temporal_steps, n_points)\n",
    "print(f\"The loaded solution dataset has dimension {solutions.shape},\\n\\t while the arranged linearized dataset has dimension {solutions_linear.shape}.\")\n",
    "\n",
    "s_tensor  = torch.tensor(solutions_linear, dtype=torch.float) # s_tensor: tensor[total_sample, total_temporal_steps*n_points]\n",
    "s_expanded  = s_tensor.unsqueeze(2) # s_expanded: tensor[total_sample, total_temporal_steps*n_points, 1]\n",
    "\n",
    "print(f\"The dimension of s_tensor is {s_tensor.shape}.\")\n",
    "print(f\"The dimension of s_expanded is {s_expanded.shape} after expanding.\")"
   ]
  },
  {
   "cell_type": "code",
   "execution_count": 9,
   "id": "f93069c846cf6a35",
   "metadata": {
    "ExecuteTime": {
     "end_time": "2024-11-26T18:27:15.705608Z",
     "start_time": "2024-11-26T18:27:13.306226Z"
    }
   },
   "outputs": [
    {
     "name": "stdout",
     "output_type": "stream",
     "text": [
      "The training dataset has 4080400 samples, while the train_loader has 511 batches.\n",
      "The training dataset has 1020100 samples, while the train_loader has 511 batches.\n"
     ]
    }
   ],
   "source": [
    "# In this cell, we create the training and testing datasets and dataloader for the DeepONet.\n",
    "\n",
    "u_train = u_expanded[:border]\n",
    "y_train = y_expanded[:border]\n",
    "s_train = s_expanded[:border]\n",
    "\n",
    "u_test = u_expanded[border:]\n",
    "y_test = y_expanded[border:]\n",
    "s_test = s_expanded[border:]\n",
    "\n",
    "u_train_combined = u_train.reshape(-1, u_train.shape[-1])\n",
    "y_train_combined = y_train.reshape(-1, y_train.shape[-1])\n",
    "s_train_combined = s_train.reshape(-1, s_train.shape[-1])\n",
    "\n",
    "u_test_combined = u_test.reshape(-1, u_test.shape[-1])\n",
    "y_test_combined = y_test.reshape(-1, y_test.shape[-1])\n",
    "s_test_combined = s_test.reshape(-1, s_test.shape[-1])\n",
    "\n",
    "from utilities.tools import CustomDataset as CustomDataset\n",
    "\n",
    "train_set = CustomDataset(u_train_combined, y_train_combined, s_train_combined)\n",
    "test_set = CustomDataset(u_test_combined, y_test_combined, s_test_combined)\n",
    "\n",
    "# 创建 DataLoader\n",
    "train_loader = DataLoader(train_set, batch_size=train_batch_size, shuffle=True, num_workers=1)\n",
    "test_loader = DataLoader(test_set, batch_size=test_batch_size, shuffle=False, num_workers=1)\n",
    "\n",
    "print(f\"The training dataset has {len(train_set)} samples, while the train_loader has {len(train_loader)} batches.\")\n",
    "print(f\"The training dataset has {len(test_set)} samples, while the train_loader has {len(test_loader)} batches.\")"
   ]
  },
  {
   "cell_type": "code",
   "execution_count": 10,
   "id": "b2eb4da6aa21f586",
   "metadata": {
    "ExecuteTime": {
     "end_time": "2024-11-26T18:27:20.061584Z",
     "start_time": "2024-11-26T18:27:16.166346Z"
    }
   },
   "outputs": [],
   "source": [
    "# In this cell, we import and set up the model and load the trained parameters\n",
    "# The loss function is also imported here.\n",
    "\n",
    "# Create model\n",
    "device = torch.device(\"cuda\" if torch.cuda.is_available() else \"cpu\")\n",
    "\n",
    "if var!=6:\n",
    "    from utilities.DeepONets import DeepONet\n",
    "    model = DeepONet(branch_input_dim, trunk_input_dim, hidden_dims, output_dim).to(device)\n",
    "elif var==6:\n",
    "    from utilities.DeepONets import ModifiedDeepONet\n",
    "    model = ModifiedDeepONet(branch_input_dim, branch_depth, trunk_input_dim, trunk_depth, hidden_dim, output_dim).to(device)\n",
    "\n",
    "optimizer = optim.Adam(model.parameters(), lr=0.001)\n",
    "\n",
    "from utilities.loss_fns import loss_fn_1d_combined as loss_fn"
   ]
  },
  {
   "cell_type": "code",
   "execution_count": 11,
   "id": "efc153cac14e1864",
   "metadata": {
    "ExecuteTime": {
     "end_time": "2024-11-26T18:29:54.822083Z",
     "start_time": "2024-11-26T18:27:20.230949Z"
    }
   },
   "outputs": [
    {
     "name": "stdout",
     "output_type": "stream",
     "text": [
      "Epoch 1\n"
     ]
    },
    {
     "name": "stderr",
     "output_type": "stream",
     "text": [
      "A best model at epoch 1 has been saved with training loss 0.04155750200152.\n",
      "A best model at epoch 1 has been saved with training loss 0.03955045342445.\n",
      "A best model at epoch 1 has been saved with training loss 0.03889912739396.\n",
      "A best model at epoch 1 has been saved with training loss 0.03716108202934.\n",
      "A best model at epoch 1 has been saved with training loss 0.03704531863332.\n",
      "A best model at epoch 1 has been saved with training loss 0.03699289634824.\n",
      "A best model at epoch 1 has been saved with training loss 0.03691351041198.\n",
      "A best model at epoch 1 has been saved with training loss 0.03635101392865.\n",
      "A best model at epoch 1 has been saved with training loss 0.03590107336640.\n",
      "A best model at epoch 1 has been saved with training loss 0.03460801020265.\n",
      "A best model at epoch 1 has been saved with training loss 0.03421764075756.\n",
      "A best model at epoch 1 has been saved with training loss 0.03409914672375.\n",
      "A best model at epoch 1 has been saved with training loss 0.03367352113128.\n",
      "A best model at epoch 1 has been saved with training loss 0.03319517895579.\n",
      "A best model at epoch 1 has been saved with training loss 0.03195386752486.\n",
      "A best model at epoch 1 has been saved with training loss 0.03117902763188.\n",
      "A best model at epoch 1 has been saved with training loss 0.03115073032677.\n",
      "A best model at epoch 1 has been saved with training loss 0.03076585754752.\n",
      "A best model at epoch 1 has been saved with training loss 0.03034542314708.\n",
      "A best model at epoch 1 has been saved with training loss 0.02935655601323.\n",
      "A best model at epoch 1 has been saved with training loss 0.02840590663254.\n",
      "A best model at epoch 1 has been saved with training loss 0.02806418761611.\n",
      "A best model at epoch 1 has been saved with training loss 0.02783973328769.\n",
      "A best model at epoch 1 has been saved with training loss 0.02764653414488.\n",
      "A best model at epoch 1 has been saved with training loss 0.02743905223906.\n",
      "A best model at epoch 1 has been saved with training loss 0.02626485936344.\n",
      "A best model at epoch 1 has been saved with training loss 0.02492478862405.\n",
      "A best model at epoch 1 has been saved with training loss 0.02485319972038.\n",
      "A best model at epoch 1 has been saved with training loss 0.02412826754153.\n",
      "A best model at epoch 1 has been saved with training loss 0.02350951358676.\n",
      "A best model at epoch 1 has been saved with training loss 0.02331620641053.\n",
      "A best model at epoch 1 has been saved with training loss 0.02275283634663.\n",
      "A best model at epoch 1 has been saved with training loss 0.02187592908740.\n",
      "A best model at epoch 1 has been saved with training loss 0.02145689353347.\n",
      "A best model at epoch 1 has been saved with training loss 0.02117948420346.\n",
      "A best model at epoch 1 has been saved with training loss 0.01950118131936.\n",
      "A best model at epoch 1 has been saved with training loss 0.01900296099484.\n",
      "A best model at epoch 1 has been saved with training loss 0.01876703649759.\n",
      "A best model at epoch 1 has been saved with training loss 0.01792192645371.\n",
      "A best model at epoch 1 has been saved with training loss 0.01788739673793.\n",
      "A best model at epoch 1 has been saved with training loss 0.01698018983006.\n",
      "A best model at epoch 1 has been saved with training loss 0.01670290715992.\n",
      "A best model at epoch 1 has been saved with training loss 0.01560672279447.\n",
      "A best model at epoch 1 has been saved with training loss 0.01523782033473.\n",
      "A best model at epoch 1 has been saved with training loss 0.01501300651580.\n",
      "A best model at epoch 1 has been saved with training loss 0.01449140347540.\n",
      "A best model at epoch 1 has been saved with training loss 0.01434298604727.\n",
      "A best model at epoch 1 has been saved with training loss 0.01382396835834.\n",
      "A best model at epoch 1 has been saved with training loss 0.01334221847355.\n",
      "A best model at epoch 1 has been saved with training loss 0.01253668218851.\n",
      "A best model at epoch 1 has been saved with training loss 0.01215843390673.\n",
      "A best model at epoch 1 has been saved with training loss 0.01161162834615.\n",
      "A best model at epoch 1 has been saved with training loss 0.01156882662326.\n",
      "A best model at epoch 1 has been saved with training loss 0.01125577278435.\n",
      "A best model at epoch 1 has been saved with training loss 0.01068557612598.\n",
      "A best model at epoch 1 has been saved with training loss 0.01050906069577.\n",
      "A best model at epoch 1 has been saved with training loss 0.00996441673487.\n",
      "A best model at epoch 1 has been saved with training loss 0.00972160417587.\n",
      "A best model at epoch 1 has been saved with training loss 0.00950888358057.\n",
      "A best model at epoch 1 has been saved with training loss 0.00893566198647.\n",
      "A best model at epoch 1 has been saved with training loss 0.00876244995743.\n",
      "A best model at epoch 1 has been saved with training loss 0.00865099113435.\n",
      "A best model at epoch 1 has been saved with training loss 0.00823592394590.\n",
      "A best model at epoch 1 has been saved with training loss 0.00776356039569.\n",
      "A best model at epoch 1 has been saved with training loss 0.00765842711553.\n",
      "A best model at epoch 1 has been saved with training loss 0.00759653933346.\n",
      "A best model at epoch 1 has been saved with training loss 0.00706431083381.\n",
      "A best model at epoch 1 has been saved with training loss 0.00701731396839.\n",
      "A best model at epoch 1 has been saved with training loss 0.00697017880157.\n",
      "A best model at epoch 1 has been saved with training loss 0.00690902583301.\n",
      "A best model at epoch 1 has been saved with training loss 0.00680826650932.\n",
      "A best model at epoch 1 has been saved with training loss 0.00673072692007.\n",
      "A best model at epoch 1 has been saved with training loss 0.00596228335053.\n",
      "A best model at epoch 1 has been saved with training loss 0.00589877506718.\n",
      "A best model at epoch 1 has been saved with training loss 0.00577660137787.\n",
      "A best model at epoch 1 has been saved with training loss 0.00575751345605.\n",
      "A best model at epoch 1 has been saved with training loss 0.00550462678075.\n",
      "A best model at epoch 1 has been saved with training loss 0.00544450525194.\n",
      "A best model at epoch 1 has been saved with training loss 0.00522153126076.\n",
      "A best model at epoch 1 has been saved with training loss 0.00521542178467.\n",
      "A best model at epoch 1 has been saved with training loss 0.00489479210228.\n",
      "A best model at epoch 1 has been saved with training loss 0.00472109252587.\n",
      "A best model at epoch 1 has been saved with training loss 0.00471266172826.\n",
      "A best model at epoch 1 has been saved with training loss 0.00453131366521.\n",
      "A best model at epoch 1 has been saved with training loss 0.00423918291926.\n",
      "A best model at epoch 1 has been saved with training loss 0.00401842594147.\n",
      "A best model at epoch 1 has been saved with training loss 0.00395240727812.\n",
      "A best model at epoch 1 has been saved with training loss 0.00370550784282.\n",
      "A best model at epoch 1 has been saved with training loss 0.00350326672196.\n",
      "A best model at epoch 1 has been saved with training loss 0.00343591719866.\n",
      "A best model at epoch 1 has been saved with training loss 0.00335636339150.\n",
      "A best model at epoch 1 has been saved with training loss 0.00323781371117.\n",
      "A best model at epoch 1 has been saved with training loss 0.00319919432513.\n",
      "A best model at epoch 1 has been saved with training loss 0.00309480307624.\n",
      "A best model at epoch 1 has been saved with training loss 0.00295836315490.\n",
      "A best model at epoch 1 has been saved with training loss 0.00289582344703.\n",
      "A best model at epoch 1 has been saved with training loss 0.00287950807251.\n",
      "A best model at epoch 1 has been saved with training loss 0.00287940795533.\n",
      "A best model at epoch 1 has been saved with training loss 0.00281552784145.\n",
      "A best model at epoch 1 has been saved with training loss 0.00272714835592.\n",
      "A best model at epoch 1 has been saved with training loss 0.00271699531004.\n",
      "A best model at epoch 1 has been saved with training loss 0.00264500896446.\n",
      "A best model at epoch 1 has been saved with training loss 0.00263914396055.\n",
      "A best model at epoch 1 has been saved with training loss 0.00262433500029.\n",
      "A best model at epoch 1 has been saved with training loss 0.00258251908235.\n",
      "A best model at epoch 1 has been saved with training loss 0.00244968570769.\n",
      "A best model at epoch 1 has been saved with training loss 0.00242741429247.\n",
      "A best model at epoch 1 has been saved with training loss 0.00241106213070.\n",
      "A best model at epoch 1 has been saved with training loss 0.00236818846315.\n",
      "A best model at epoch 1 has been saved with training loss 0.00221572862938.\n",
      "A best model at epoch 1 has been saved with training loss 0.00203687045723.\n",
      "A best model at epoch 1 has been saved with training loss 0.00188595743384.\n",
      "A best model at epoch 1 has been saved with training loss 0.00185125565622.\n",
      "A best model at epoch 1 has been saved with training loss 0.00172857940197.\n"
     ]
    },
    {
     "name": "stdout",
     "output_type": "stream",
     "text": [
      "Epoch 1, Loss: 0.00718777360501, Improvement: 0.00718777360501, Best Loss: 0.00172857940197 in Epoch 1, Time: 84.07 seconds\n",
      "Epoch 2\n"
     ]
    },
    {
     "name": "stderr",
     "output_type": "stream",
     "text": [
      "A best model at epoch 2 has been saved with training loss 0.00166499824263.\n",
      "A best model at epoch 2 has been saved with training loss 0.00163537100889.\n",
      "A best model at epoch 2 has been saved with training loss 0.00161323347129.\n",
      "A best model at epoch 2 has been saved with training loss 0.00157331419177.\n",
      "A best model at epoch 2 has been saved with training loss 0.00156011804938.\n",
      "A best model at epoch 2 has been saved with training loss 0.00155594293028.\n",
      "A best model at epoch 2 has been saved with training loss 0.00154110579751.\n",
      "A best model at epoch 2 has been saved with training loss 0.00152548332699.\n",
      "A best model at epoch 2 has been saved with training loss 0.00150023819879.\n",
      "A best model at epoch 2 has been saved with training loss 0.00145558232907.\n",
      "A best model at epoch 2 has been saved with training loss 0.00145287462510.\n",
      "A best model at epoch 2 has been saved with training loss 0.00142119952943.\n",
      "A best model at epoch 2 has been saved with training loss 0.00139292387757.\n",
      "A best model at epoch 2 has been saved with training loss 0.00136581726838.\n",
      "A best model at epoch 2 has been saved with training loss 0.00133221887518.\n",
      "A best model at epoch 2 has been saved with training loss 0.00130105437711.\n",
      "A best model at epoch 2 has been saved with training loss 0.00126745132729.\n",
      "A best model at epoch 2 has been saved with training loss 0.00123843655456.\n",
      "A best model at epoch 2 has been saved with training loss 0.00122120429296.\n",
      "A best model at epoch 2 has been saved with training loss 0.00120257970411.\n",
      "A best model at epoch 2 has been saved with training loss 0.00117537262850.\n"
     ]
    },
    {
     "name": "stdout",
     "output_type": "stream",
     "text": [
      "Epoch 2, Loss: 0.00166622287213, Improvement: -0.00552155073288, Best Loss: 0.00079009740148 in Epoch 2, Time: 70.51 seconds\n"
     ]
    },
    {
     "name": "stderr",
     "output_type": "stream",
     "text": [
      "A best model at epoch 2 has been saved with training loss 0.00079009740148.\n"
     ]
    }
   ],
   "source": [
    "# 训练模型\n",
    "loss_list = []\n",
    "time_list = []\n",
    "loss_best = float('inf')\n",
    "loss_prev = 0\n",
    "best_epoch = 0\n",
    "model_best = model.state_dict().copy()\n",
    "\n",
    "import time\n",
    "\n",
    "for epoch in range(epochs):\n",
    "    start_time = time.time()  # Record the start time\n",
    "    print(f\"Epoch {epoch+1}\") \n",
    "    loss_epoch = []\n",
    "    for input1_batch, input2_batch, target_batch in train_loader:\n",
    "        input1_batch = input1_batch.to(device)\n",
    "        input2_batch = input2_batch.to(device)\n",
    "        target_batch = target_batch.to(device)\n",
    "\n",
    "        optimizer.zero_grad()\n",
    "        outputs = model(input1_batch, input2_batch)\n",
    "        loss = loss_fn(outputs, target_batch, boundary_parameter, initial_parameter, total_temporal_steps, n_points)\n",
    "        loss_epoch.append(loss.item())\n",
    "        if loss.item()<loss_best:\n",
    "            loss_best = loss.item()\n",
    "            best_epoch = epoch\n",
    "            model_best = model.state_dict().copy()\n",
    "            model_params_best = f\"{problem}_Var{var}_Visc{visc}_Struct{struct}_Sensor{n_points}_Boundary{boundary_parameter}_Initial{initial_parameter}_Batch{train_batch_size}-best.pth\"\n",
    "            torch.save(model_best, model_params_best)\n",
    "            print(f\"A best model at epoch {epoch+1} has been saved with training loss {loss_best:.14f}.\", file=sys.stderr)\n",
    "        loss.backward()\n",
    "        optimizer.step()\n",
    "        del input1_batch, input2_batch, outputs, loss\n",
    "        torch.cuda.empty_cache()  # 释放当前批次的缓存\n",
    "    loss_list.append(loss_epoch)\n",
    "    loss_curr = np.mean(loss_epoch)\n",
    "    epoch_time = time.time() - start_time  # Calculate the elapsed time\n",
    "    time_list.append(epoch_time)\n",
    "\n",
    "    print(f\"Epoch {epoch+1}, Loss: {loss_curr:.14f}, Improvement: {loss_curr - loss_prev:.14f}, Best Loss: {loss_best:.14f} in Epoch {best_epoch+1}, Time: {epoch_time:.2f} seconds\")\n",
    "\n",
    "    loss_prev = loss_curr\n",
    "    if epoch%50==49:\n",
    "        # 保存损失值和模型\n",
    "        training_loss_list = f\"{problem}_Var{var}_Visc{visc}_Struct{struct}_Sensor{n_points}_Boundary{boundary_parameter}_Initial{initial_parameter}_Batch{train_batch_size}-final.npy\"\n",
    "        model_params_final = f\"{problem}_Var{var}_Visc{visc}_Struct{struct}_Sensor{n_points}_Boundary{boundary_parameter}_Initial{initial_parameter}_Batch{train_batch_size}-final.pth\"\n",
    "        np.save(training_loss_list, np.array(loss_list))\n",
    "        torch.save(model.state_dict(), model_params_final)\n",
    "        print(f\"Model saving checkpoint: the model trained after epoch {epoch+1} has been saved with the training losses.\", file=sys.stderr)\n",
    "    sys.stdout.flush()"
   ]
  },
  {
   "cell_type": "code",
   "execution_count": 12,
   "id": "828a564ec2bd2525",
   "metadata": {
    "ExecuteTime": {
     "end_time": "2024-11-26T18:29:55.244739Z",
     "start_time": "2024-11-26T18:29:55.242522Z"
    }
   },
   "outputs": [
    {
     "name": "stdout",
     "output_type": "stream",
     "text": [
      "[0.00718777 0.00166622]\n"
     ]
    }
   ],
   "source": [
    "losses = np.array(loss_list)\n",
    "\n",
    "print(np.mean(losses,axis=1))\n",
    "\n",
    "## 需要修改"
   ]
  },
  {
   "cell_type": "code",
   "execution_count": 13,
   "id": "df781e2b09174ef8",
   "metadata": {
    "ExecuteTime": {
     "end_time": "2024-11-26T18:29:55.415947Z",
     "start_time": "2024-11-26T18:29:55.394968Z"
    }
   },
   "outputs": [],
   "source": [
    "# 保存损失值和模型\n",
    "training_loss_list = f\"{problem}_Var{var}_Visc{visc}_Struct{struct}_Sensor{n_points}_Boundary{boundary_parameter}_Initial{initial_parameter}_Batch{train_batch_size}-final.npy\"\n",
    "training_time_list = f\"{problem}_Var{var}_Visc{visc}_Struct{struct}_Sensor{n_points}_Boundary{boundary_parameter}_Initial{initial_parameter}_Batch{train_batch_size}-time.npy\"\n",
    "model_params_final = f\"{problem}_Var{var}_Visc{visc}_Struct{struct}_Sensor{n_points}_Boundary{boundary_parameter}_Initial{initial_parameter}_Batch{train_batch_size}-final.pth\"\n",
    "\n",
    "np.save(training_loss_list, np.array(loss_list))\n",
    "np.save(training_time_list, np.array(time_list))\n",
    "torch.save(model.state_dict(), model_params_final)"
   ]
  },
  {
   "cell_type": "code",
   "execution_count": 14,
   "id": "2acf165b01f82a6",
   "metadata": {
    "ExecuteTime": {
     "end_time": "2024-11-26T18:29:55.473403Z",
     "start_time": "2024-11-26T18:29:55.470740Z"
    }
   },
   "outputs": [],
   "source": [
    "# # In this cell, we compute training and testing loss for the model\n",
    "def compute_loss(model, data_loader, device, description=\"Computing loss\"):\n",
    "    \"\"\"\n",
    "    Compute the loss for a given dataset using the trained model.\n",
    "\n",
    "    Parameters:\n",
    "    - model: The trained model.\n",
    "    - data_loader: DataLoader for the dataset (train or test).\n",
    "    - device: Device to run the computations on (CPU or GPU).\n",
    "    - description: Description for the tqdm progress bar.\n",
    "\n",
    "    Returns:\n",
    "    - average_loss: The average loss over the dataset.\n",
    "    \"\"\"\n",
    "    total_loss = 0\n",
    "    with torch.no_grad():\n",
    "        for input1_batch, input2_batch, target_batch in data_loader:\n",
    "            input1_batch = input1_batch.to(device)\n",
    "            input2_batch = input2_batch.to(device)\n",
    "            target_batch = target_batch.to(device)\n",
    "            outputs = model(input1_batch, input2_batch)\n",
    "            loss = loss_fn(outputs, target_batch, boundary_parameter, initial_parameter, total_temporal_steps, n_points)\n",
    "            total_loss += loss.item()\n",
    "            del input1_batch, input2_batch, target_batch, outputs\n",
    "            torch.cuda.empty_cache()  # Release cache for the current batch\n",
    "    average_loss = total_loss / len(data_loader)\n",
    "    return average_loss"
   ]
  },
  {
   "cell_type": "code",
   "execution_count": 15,
   "id": "8f70f1aeac644ba4",
   "metadata": {
    "ExecuteTime": {
     "end_time": "2024-11-26T18:31:17.739541Z",
     "start_time": "2024-11-26T18:29:55.578857Z"
    }
   },
   "outputs": [
    {
     "name": "stdout",
     "output_type": "stream",
     "text": [
      "With the best parameters, the training loss is 0.00138258678067, while the testing loss is 0.00170282287714.\n"
     ]
    }
   ],
   "source": [
    "training_loss_best = f\"{problem}_Var{var}_Visc{visc}_Struct{struct}_Sensor{n_points}_Boundary{boundary_parameter}_Initial{initial_parameter}_Batch{train_batch_size}-best.loss\"\n",
    "\n",
    "model.load_state_dict(torch.load(model_params_best, map_location=torch.device(device), weights_only=True))\n",
    "model.eval()\n",
    "\n",
    "training_loss = compute_loss(model, train_loader, device, description=\"Computing training loss\")\n",
    "testing_loss = compute_loss(model, test_loader, device, description=\"Computing testing loss\")\n",
    "\n",
    "print(f\"With the best parameters, the training loss is {training_loss:.14f}, while the testing loss is {testing_loss:.14f}.\")\n",
    "\n",
    "with open(training_loss_best, 'w') as f:\n",
    "    f.write(\"With the best parameters, the training and testing losses for the model are as follows:\\n\")\n",
    "    f.write(f\"Train loss: {training_loss}\\n\")\n",
    "    f.write(f\"Test loss: {testing_loss}\\n\")"
   ]
  }
 ],
 "metadata": {
  "kernelspec": {
   "display_name": "Python 3",
   "language": "python",
   "name": "python3"
  },
  "language_info": {
   "codemirror_mode": {
    "name": "ipython",
    "version": 2
   },
   "file_extension": ".py",
   "mimetype": "text/x-python",
   "name": "python",
   "nbconvert_exporter": "python",
   "pygments_lexer": "ipython2",
   "version": "2.7.6"
  }
 },
 "nbformat": 4,
 "nbformat_minor": 5
}
