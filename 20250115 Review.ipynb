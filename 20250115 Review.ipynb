{
 "cells": [
  {
   "cell_type": "code",
   "execution_count": 96,
   "id": "bfa1545824cc8286",
   "metadata": {
    "ExecuteTime": {
     "end_time": "2025-01-14T20:09:09.747419Z",
     "start_time": "2025-01-14T20:09:09.744725Z"
    }
   },
   "outputs": [],
   "source": [
    "import os\n",
    "import numpy as np\n",
    "import torch\n",
    "\n",
    "\n",
    "import sys\n",
    "import matplotlib.pyplot as plt\n",
    "from tqdm.notebook import tqdm\n",
    "\n",
    "sys.path.append(os.path.abspath(os.path.expanduser(\"~/DON\")))\n",
    "\n",
    "'''\n",
    "import argparse\n",
    "parser = argparse.ArgumentParser(description=\"DeepONet with configurable parameters.\")\n",
    "parser.add_argument('--problem', type=str, default=\"heat\", help='Problem to solve')\n",
    "parser.add_argument('--var', type=int, default=0, help='Variant of DeepONet')\n",
    "parser.add_argument('--visc', type=float, default=0.0001, help='Viscosity')\n",
    "parser.add_argument('--struct', type=int, default=1, help='Structure of DeepONet')\n",
    "parser.add_argument('--sensor', type=int, default=50, help='Number of sensors')\n",
    "parser.add_argument('--boundary_parameter', type=float, default=0, help='Weight parameter for boundary conditions')\n",
    "parser.add_argument('--initial_parameter', type=float, default=0, help='Weight parameter for initial conditions')\n",
    "parser.add_argument('--batch_size', type=int, default=8000, help='Batch size')\n",
    "# 解析命令行参数\n",
    "args = parser.parse_args()\n",
    "problem = args.problem\n",
    "var = args.var\n",
    "visc = args.visc\n",
    "struct = args.struct\n",
    "n_points = args.sensor\n",
    "boundary_parameter = args.boundary_parameter\n",
    "initial_parameter = args.initial_parameter\n",
    "batch_size = args.batch_size\n",
    "'''\n",
    "problem = \"burgers\"\n",
    "var = 6\n",
    "visc = 0.0001\n",
    "struct = 1\n",
    "n_points = 101\n",
    "boundary_parameter = 0\n",
    "initial_parameter = 0\n",
    "batch_size = 8000\n",
    "\n",
    "# iterations = 2500\n",
    "## 需要修改"
   ]
  },
  {
   "cell_type": "code",
   "execution_count": 97,
   "id": "4b0989eb917eb9c7",
   "metadata": {
    "ExecuteTime": {
     "end_time": "2025-01-14T20:09:09.791307Z",
     "start_time": "2025-01-14T20:09:09.787543Z"
    }
   },
   "outputs": [],
   "source": [
    "# In this cell, we define the configurable parameters for the DeepONet\n",
    "\n",
    "temporal_limit = 1\n",
    "temporal_step = 0.01\n",
    "\n",
    "if problem==\"heat\":\n",
    "    temporal_start = temporal_step\n",
    "    total_temporal_steps = int(temporal_limit / temporal_step)\n",
    "    from utilities.tools import get_cell_centers\n",
    "    evaluating_points = get_cell_centers(n_points=n_points)\n",
    "elif problem==\"burgers\":\n",
    "    temporal_start = 0\n",
    "    total_temporal_steps = (int(temporal_limit / temporal_step) + 1)\n",
    "    evaluating_points = np.linspace(0, 1, n_points)\n",
    "\n",
    "evaluating_points = np.around(evaluating_points, decimals=2)\n",
    "\n",
    "total_sample = 500\n",
    "train_val_split_index = int(total_sample * 4 / 5) # 设置训练集和验证集的边界\n",
    "val_test_split_index = int(total_sample * 9 / 10) # 设置验证集和测试集的边界\n",
    "\n",
    "# Hyperparameters\n",
    "branch_input_dim = n_points  # Number of points to represent the original function\n",
    "trunk_input_dim = 2     # Coordinate where we evaluate the transformed function\n",
    "\n",
    "# Define the dictionary mapping struct values to neural network structures\n",
    "if var!=6:\n",
    "    structures = {\n",
    "        1: {'hidden_dims': [100, 100, 100, 100, 100, 100], 'output_dim': 50},\n",
    "        2: {'hidden_dims': [200, 200, 200, 200], 'output_dim': 50}\n",
    "    }\n",
    "\n",
    "    # Get the configuration based on the struct value\n",
    "    config = structures.get(struct, {'hidden_dims': [], 'output_dim': 0})\n",
    "\n",
    "    hidden_dims = config['hidden_dims']\n",
    "    output_dim = config['output_dim']\n",
    "elif var==6:\n",
    "    structure_params = {\n",
    "        1: (6, 6, 100, 50),\n",
    "        2: (4, 4, 200, 50),\n",
    "    }\n",
    "    if struct in structure_params:\n",
    "        branch_depth, trunk_depth, hidden_dim, output_dim = structure_params[struct]\n",
    "    else:\n",
    "        raise ValueError(\"Invalid structure type\")"
   ]
  },
  {
   "cell_type": "code",
   "execution_count": 98,
   "id": "f2791ba9eca4fbbe",
   "metadata": {
    "ExecuteTime": {
     "end_time": "2025-01-14T20:09:09.895468Z",
     "start_time": "2025-01-14T20:09:09.893428Z"
    }
   },
   "outputs": [],
   "source": [
    "# Define the current directory\n",
    "from pathlib import Path\n",
    "# Get the current directory\n",
    "current_dir = Path.cwd()\n",
    "model_train_directory = os.path.join(current_dir, '1d_train')\n",
    "model_stat_file = os.path.join(model_train_directory, f\"{problem}_Var{var}_Visc{visc}_Struct{struct}_Sensor{n_points}_Boundary{boundary_parameter}_Initial{initial_parameter}_Batch{batch_size}_stat.txt\")"
   ]
  },
  {
   "cell_type": "code",
   "execution_count": 99,
   "id": "9ec959ce9c6ec992",
   "metadata": {
    "ExecuteTime": {
     "end_time": "2025-01-14T20:09:09.933751Z",
     "start_time": "2025-01-14T20:09:09.925258Z"
    }
   },
   "outputs": [
    {
     "name": "stdout",
     "output_type": "stream",
     "text": [
      "The dimension of y_tensor is torch.Size([10201, 2]).\n",
      "The dimension of y_expanded is torch.Size([500, 10201, 2]) after expanding.\n",
      "The zero coordinate of y_expanded is temporal and the first coordinate is space.\n"
     ]
    }
   ],
   "source": [
    "# In this cell, we import the function to get the cell centers of a 1D mesh.\n",
    "# Also, we set up the spatial and temporal grid points for the training and testing datasets.\n",
    "# This is the so-called y_expanded tensor.\n",
    "temporal_steps = np.arange(temporal_start, temporal_limit + temporal_step, temporal_step)\n",
    "temporal_steps = np.around(temporal_steps, decimals=2)\n",
    "\n",
    "Y1, Y2 = np.meshgrid(evaluating_points, temporal_steps)  # 第一个变量进行行展开，第二个变量进行列展开\n",
    "\n",
    "y = np.column_stack([Y2.ravel(),Y1.ravel()])\n",
    "# 先将 Y2 和 Y1 进行展开，然后将展开后的两个向量进行列合并\n",
    "\n",
    "y_tensor = torch.tensor(y, dtype=torch.float)\n",
    "print(f\"The dimension of y_tensor is {y_tensor.shape}.\")\n",
    "y_expanded = y_tensor.unsqueeze(0).expand(total_sample, -1, -1)\n",
    "print(f\"The dimension of y_expanded is {y_expanded.shape} after expanding.\")\n",
    "print(\"The zero coordinate of y_expanded is temporal and the first coordinate is space.\")"
   ]
  },
  {
   "cell_type": "code",
   "execution_count": 100,
   "id": "5a4ccf7ce649faf8",
   "metadata": {
    "ExecuteTime": {
     "end_time": "2025-01-14T20:09:10.016680Z",
     "start_time": "2025-01-14T20:09:10.000918Z"
    }
   },
   "outputs": [
    {
     "name": "stdout",
     "output_type": "stream",
     "text": [
      "The dimensions of the initial conditions are: (500, 101)\n",
      "The dimensions of the solutions are: (500, 101, 101)\n"
     ]
    }
   ],
   "source": [
    "# In this cell, we load the initial conditions and solutions from the saved files.\n",
    "\n",
    "# Define the directory where you want to save the file\n",
    "from pathlib import Path\n",
    "# Get the current directory\n",
    "current_dir = Path.cwd()\n",
    "#data_directory = os.path.join(current_dir.parent, 'data')\n",
    "## 需要修改\n",
    "data_directory = os.path.join(current_dir, 'data')\n",
    "initials_name = f'{problem}_initials_{visc}_{len(evaluating_points)}.npy'\n",
    "solutions_name = f'{problem}_solutions_{visc}_{len(evaluating_points)}.npy'\n",
    "\n",
    "# Define the file paths\n",
    "initials_path = os.path.join(data_directory, initials_name)\n",
    "solutions_path = os.path.join(data_directory, solutions_name)\n",
    "\n",
    "# Load the data\n",
    "initials = np.load(initials_path)\n",
    "solutions = np.load(solutions_path)\n",
    "\n",
    "print(f\"The dimensions of the initial conditions are: {initials.shape}\")\n",
    "print(f\"The dimensions of the solutions are: {solutions.shape}\")"
   ]
  },
  {
   "cell_type": "code",
   "execution_count": 101,
   "id": "f88912ed6ad4cd67",
   "metadata": {
    "ExecuteTime": {
     "end_time": "2025-01-14T20:09:10.084287Z",
     "start_time": "2025-01-14T20:09:10.076327Z"
    }
   },
   "outputs": [
    {
     "name": "stdout",
     "output_type": "stream",
     "text": [
      "The dimension of u_tensor is torch.Size([500, 101]).\n",
      "The dimension of u_expanded is torch.Size([500, 10201, 101]) after expanding.\n"
     ]
    }
   ],
   "source": [
    "# In this cell, we arrange the initial conditions into the desired format for training the DeepONet.\n",
    "# This is the so-called u_expanded tensor.\n",
    "u_tensor = torch.tensor(initials, dtype=torch.float)\n",
    "print(f\"The dimension of u_tensor is {u_tensor.shape}.\")\n",
    "\n",
    "u_expanded = u_tensor.unsqueeze(1) # u_expanded: tensor[total_sample, 1, n_points]\n",
    "u_expanded = u_expanded.expand(-1, total_temporal_steps * n_points, -1) # u_expanded: tensor[total_sample, total_temporal_steps*n_points, n_points]\n",
    "print(f\"The dimension of u_expanded is {u_expanded.shape} after expanding.\")"
   ]
  },
  {
   "cell_type": "code",
   "execution_count": 102,
   "id": "d2051f8f8e20af55",
   "metadata": {
    "ExecuteTime": {
     "end_time": "2025-01-14T20:09:10.185892Z",
     "start_time": "2025-01-14T20:09:10.182078Z"
    }
   },
   "outputs": [],
   "source": [
    "# I have a tensor of shape (total_sample, n_points) representing the initial conditions. In this cell, I wanted to expand it to (total_sample, total_temporal_steps*n_points) by repeating the initial conditions for each temporal step.\n",
    "\n",
    "# Assuming u_tensor is the tensor of shape (total_sample, n_points)\n",
    "# Expand the tensor to (total_sample, total_temporal_steps*n_points)\n",
    "u_corresponding = u_tensor.repeat(1, total_temporal_steps)\n",
    "u_corresponding = u_corresponding.unsqueeze(2) # This is the so-called corresponding initial value\n",
    "\n",
    "# Take the spatial coordinate of the y_expanded tensor\n",
    "y_space = y_expanded[:, :, 1].unsqueeze(-1)"
   ]
  },
  {
   "cell_type": "code",
   "execution_count": 103,
   "id": "ccf181e3800cb4e3",
   "metadata": {
    "ExecuteTime": {
     "end_time": "2025-01-14T20:09:10.239437Z",
     "start_time": "2025-01-14T20:09:10.236671Z"
    }
   },
   "outputs": [],
   "source": [
    "# In this cell, we modify the input of the DeepONet based on the variant chosen.\n",
    "# We also update the input dimensions of the DeepONet based on the variant chosen.\n",
    "if var==2 or var==3:\n",
    "    y_expanded = torch.cat((y_expanded, u_corresponding), dim=-1)\n",
    "elif var==4:\n",
    "    y_expanded = torch.cat((y_expanded, u_expanded), dim=-1)\n",
    "\n",
    "if var== 1 or var==3 or var==4:\n",
    "    u_expanded = torch.cat((u_expanded, y_space), dim=-1)\n",
    "\n",
    "var_mapping = {\n",
    "    1: {'var_branch_input_dim': branch_input_dim + 1, 'var_trunk_input_dim': trunk_input_dim},\n",
    "    2: {'var_branch_input_dim': branch_input_dim, 'var_trunk_input_dim': trunk_input_dim + 1},\n",
    "    3: {'var_branch_input_dim': branch_input_dim + 1, 'var_trunk_input_dim': trunk_input_dim + 1},\n",
    "    4: {'var_branch_input_dim': branch_input_dim + 1, 'var_trunk_input_dim': trunk_input_dim + branch_input_dim}\n",
    "}\n",
    "\n",
    "if var in var_mapping:\n",
    "    branch_input_dim = var_mapping[var]['var_branch_input_dim']\n",
    "    trunk_input_dim = var_mapping[var]['var_trunk_input_dim']"
   ]
  },
  {
   "cell_type": "code",
   "execution_count": 104,
   "id": "e506fb2e36ed28a",
   "metadata": {
    "ExecuteTime": {
     "end_time": "2025-01-14T20:09:10.338408Z",
     "start_time": "2025-01-14T20:09:10.314135Z"
    }
   },
   "outputs": [
    {
     "name": "stdout",
     "output_type": "stream",
     "text": [
      "The loaded solution dataset has dimension (500, 101, 101),\n",
      "\t while the arranged linearized dataset has dimension (500, 10201).\n",
      "The dimension of s_tensor is torch.Size([500, 10201]).\n",
      "The dimension of s_expanded is torch.Size([500, 10201, 1]) after expanding.\n"
     ]
    }
   ],
   "source": [
    "# In this cell, we arrange the solutions into the desired format for training the DeepONet.\n",
    "# This is the so-called s_expanded tensor.\n",
    "\n",
    "solutions_linear = np.zeros((total_sample, total_temporal_steps * n_points))\n",
    "\n",
    "for i in range(total_sample):\n",
    "    solutions_linear[i] = solutions[i].flatten()\n",
    "\n",
    "# solutions is a 3D array of shape (total_sample, total_temporal_steps, n_points)\n",
    "print(f\"The loaded solution dataset has dimension {solutions.shape},\\n\\t while the arranged linearized dataset has dimension {solutions_linear.shape}.\")\n",
    "\n",
    "s_tensor  = torch.tensor(solutions_linear, dtype=torch.float) # s_tensor: tensor[total_sample, total_temporal_steps*n_points]\n",
    "s_expanded  = s_tensor.unsqueeze(2) # s_expanded: tensor[total_sample, total_temporal_steps*n_points, 1]\n",
    "\n",
    "print(f\"The dimension of s_tensor is {s_tensor.shape}.\")\n",
    "print(f\"The dimension of s_expanded is {s_expanded.shape} after expanding.\")"
   ]
  },
  {
   "cell_type": "code",
   "execution_count": 105,
   "id": "64fbbcc8a46dc87",
   "metadata": {
    "ExecuteTime": {
     "end_time": "2025-01-14T20:09:10.405274Z",
     "start_time": "2025-01-14T20:09:10.400046Z"
    }
   },
   "outputs": [],
   "source": [
    "# In this cell, we import and set up the model and load the trained parameters\n",
    "# The loss function is also imported here.\n",
    "\n",
    "# Create model\n",
    "device = torch.device(\"cuda\" if torch.cuda.is_available() else \"cpu\")\n",
    "\n",
    "if var!=6:\n",
    "    from utilities.DeepONets import DeepONet\n",
    "    model = DeepONet(branch_input_dim, trunk_input_dim, hidden_dims, output_dim).to(device)\n",
    "elif var==6:\n",
    "    from utilities.DeepONets import ModifiedDeepONet\n",
    "    model = ModifiedDeepONet(branch_input_dim, branch_depth, trunk_input_dim, trunk_depth, hidden_dim, output_dim).to(device)\n",
    "\n",
    "#optimizer = optim.Adam(model.parameters(), lr=0.001)\n",
    "from utilities.loss_fns import loss_fn_1d_combined as loss_fn"
   ]
  },
  {
   "cell_type": "code",
   "execution_count": 106,
   "id": "eb1f1306b0c5b8c9",
   "metadata": {
    "ExecuteTime": {
     "end_time": "2025-01-14T20:09:10.481731Z",
     "start_time": "2025-01-14T20:09:10.474398Z"
    }
   },
   "outputs": [
    {
     "data": {
      "text/plain": [
       "ModifiedDeepONet(\n",
       "  (branch_net): ModuleList(\n",
       "    (0): Linear(in_features=101, out_features=100, bias=True)\n",
       "    (1-5): 5 x Linear(in_features=100, out_features=100, bias=True)\n",
       "    (6): Linear(in_features=100, out_features=50, bias=True)\n",
       "  )\n",
       "  (trunk_net): ModuleList(\n",
       "    (0): Linear(in_features=2, out_features=100, bias=True)\n",
       "    (1-5): 5 x Linear(in_features=100, out_features=100, bias=True)\n",
       "    (6): Linear(in_features=100, out_features=50, bias=True)\n",
       "  )\n",
       "  (U1): Linear(in_features=101, out_features=100, bias=True)\n",
       "  (U2): Linear(in_features=2, out_features=100, bias=True)\n",
       ")"
      ]
     },
     "execution_count": 106,
     "metadata": {},
     "output_type": "execute_result"
    }
   ],
   "source": [
    "# Load Model Parameters\n",
    "model_train_directory = os.path.join(current_dir, '1d_train')\n",
    "model_params_best = os.path.join(model_train_directory, f\"{problem}_Var{var}_Visc{visc}_Struct{struct}_Sensor{n_points}_Boundary{boundary_parameter}_Initial{initial_parameter}_Batch{batch_size}-best.pth\")\n",
    "model.load_state_dict(torch.load(model_params_best, map_location=torch.device(device), weights_only=True))\n",
    "# Turn to evaluation mode\n",
    "model.eval()"
   ]
  },
  {
   "cell_type": "code",
   "execution_count": 107,
   "id": "145caedf3ab40057",
   "metadata": {
    "ExecuteTime": {
     "end_time": "2025-01-14T20:09:10.556737Z",
     "start_time": "2025-01-14T20:09:10.553658Z"
    }
   },
   "outputs": [],
   "source": [
    "# In this cell, we load the .npy file containing the training error for each iteration\n",
    "\n",
    "training_loss_list = os.path.join(model_train_directory, f\"{problem}_Var{var}_Visc{visc}_Struct{struct}_Sensor{n_points}_Boundary{boundary_parameter}_Initial{initial_parameter}_Batch{batch_size}-final.npy\")\n",
    "loss_list = np.load(training_loss_list)"
   ]
  },
  {
   "cell_type": "code",
   "execution_count": 108,
   "id": "339fcdf85e4b5db9",
   "metadata": {
    "ExecuteTime": {
     "end_time": "2025-01-14T20:09:11.059428Z",
     "start_time": "2025-01-14T20:09:10.630012Z"
    }
   },
   "outputs": [
    {
     "data": {
      "image/png": "[encoded data removed]",
      "text/plain": [
       "<Figure size 1000x600 with 1 Axes>"
      ]
     },
     "metadata": {},
     "output_type": "display_data"
    }
   ],
   "source": [
    "# In this cell, we plot the training error for each iteration\n",
    "\n",
    "def plot_training_error(loss_for_iterations, custom_begin=100):\n",
    "    \"\"\"\n",
    "    Plot the training error for each iteration.\n",
    "\n",
    "    Parameters:\n",
    "    - loss_for_iterations: Array of training errors for each iteration.\n",
    "    - custom_begin: Epoch to start plotting from (default is 100).\n",
    "    \"\"\"\n",
    "    plt.figure(figsize=(10, 6))\n",
    "    plt.plot(range(custom_begin, len(loss_for_iterations)), loss_for_iterations[custom_begin:], label='Training error', color='b')\n",
    "    plt.title('Mean training error in each iteration')\n",
    "    plt.xlabel('Epochs')\n",
    "    plt.ylabel('Training error')\n",
    "    plt.legend()\n",
    "    plt.grid(True)\n",
    "    \n",
    "    output_image = os.path.join(model_train_directory, f\"{problem}_Var{var}_Visc{visc}_Struct{struct}_Sensor{n_points}_Boundary{boundary_parameter}_Initial{initial_parameter}_Batch{batch_size}_iterations.png\")\n",
    "    # 文件名格式\n",
    "\n",
    "    # 保存图像为 PNG 文件\n",
    "    plt.savefig(output_image)\n",
    "    \n",
    "    plt.show()\n",
    "    \n",
    "plot_training_error(loss_list, 0)"
   ]
  },
  {
   "cell_type": "code",
   "execution_count": 109,
   "id": "c8b38666439403f3",
   "metadata": {
    "ExecuteTime": {
     "end_time": "2025-01-14T20:09:19.868681Z",
     "start_time": "2025-01-14T20:09:11.157426Z"
    }
   },
   "outputs": [
    {
     "data": {
      "application/vnd.jupyter.widget-view+json": {
       "model_id": "101a180e5197499fadce70c9f1d35d1f",
       "version_major": 2,
       "version_minor": 0
      },
      "text/plain": [
       "Computing predictions:   0%|          | 0/20 [00:00<?, ?it/s]"
      ]
     },
     "metadata": {},
     "output_type": "display_data"
    }
   ],
   "source": [
    "# In this cell, we compute the predictions for the entire dataset using the trained model\n",
    "\n",
    "def compute_predictions(model, u_expanded, y_expanded, total_sample, total_temporal_steps, n_points, batch_size, device):\n",
    "    \"\"\"\n",
    "    Compute predictions for the entire dataset using the trained model.\n",
    "\n",
    "    Parameters:\n",
    "    - model: The trained model.\n",
    "    - u_expanded: Expanded tensor of initial conditions.\n",
    "    - y_expanded: Expanded tensor of spatial and temporal grid points.\n",
    "    - total_sample: Total number of samples.\n",
    "    - total_temporal_steps: Total number of temporal steps.\n",
    "    - n_points: Number of spatial points.\n",
    "    - batch_size: Batch size for processing.\n",
    "    - device: Device to run the computations on (CPU or GPU).\n",
    "\n",
    "    Returns:\n",
    "    - all_predictions: Tensor containing predictions for the entire dataset.\n",
    "    \"\"\"\n",
    "    all_predictions = torch.zeros((total_sample, total_temporal_steps * n_points))\n",
    "    with torch.no_grad():\n",
    "        for i in tqdm(range(0, total_sample, batch_size), desc=\"Computing predictions\"):\n",
    "            u_batch = u_expanded[i:i + batch_size].to(device)\n",
    "\n",
    "            y_batch = y_expanded[i:i + batch_size].to(device)\n",
    "            prediction = model(u_batch, y_batch).squeeze()\n",
    "            all_predictions[i:i + batch_size] = prediction.cpu()  # Store predictions and move to CPU\n",
    "            \n",
    "            del u_batch, y_batch, prediction\n",
    "            torch.cuda.empty_cache()  # Release cache for the current batch\n",
    "\n",
    "    return all_predictions\n",
    "\n",
    "all_predictions = compute_predictions(model, u_expanded, y_expanded, total_sample, total_temporal_steps, n_points, 25, device)"
   ]
  },
  {
   "cell_type": "code",
   "execution_count": 110,
   "id": "da5b8880c1b32d2e",
   "metadata": {
    "ExecuteTime": {
     "end_time": "2025-01-14T20:09:19.966339Z",
     "start_time": "2025-01-14T20:09:19.916218Z"
    }
   },
   "outputs": [
    {
     "data": {
      "application/vnd.jupyter.widget-view+json": {
       "model_id": "d957f0f0e2ae428fa876f8dbfeb3bdd7",
       "version_major": 2,
       "version_minor": 0
      },
      "text/plain": [
       "Computing relative l2 error for the entire dataset:   0%|          | 0/500 [00:00<?, ?it/s]"
      ]
     },
     "metadata": {},
     "output_type": "display_data"
    }
   ],
   "source": [
    "# In this cell, we compute the relative L2 error for the entire dataset, including training and testing sets\n",
    "\n",
    "# 定义对最后一维计算 L2 范数的函数\n",
    "def l2_norm_last_coord_torch(tensor):\n",
    "    return torch.norm(tensor, p=2, dim=-1)\n",
    "\n",
    "absolute_err = torch.zeros((total_sample,total_temporal_steps*n_points))\n",
    "absolute_l2_err = np.zeros(total_sample)\n",
    "relative_l2_err = np.zeros(total_sample)\n",
    "for i in tqdm(range(total_sample), desc=\"Computing relative l2 error for the entire dataset\"):\n",
    "    absolute_err[i] = abs(all_predictions[i] - s_tensor[i])\n",
    "    absolute_l2_err[i] = l2_norm_last_coord_torch(absolute_err[i])\n",
    "    relative_l2_err[i] = absolute_l2_err[i] / l2_norm_last_coord_torch(s_tensor[i])\n",
    "\n",
    "train_relative_l2_err = relative_l2_err[:train_val_split_index]\n",
    "validation_relative_l2_err = relative_l2_err[train_val_split_index:val_test_split_index]\n",
    "test_relative_l2_err = relative_l2_err[val_test_split_index:]"
   ]
  },
  {
   "cell_type": "code",
   "execution_count": 111,
   "id": "1ae2a4fae83387a1",
   "metadata": {
    "ExecuteTime": {
     "end_time": "2025-01-14T20:09:20.028571Z",
     "start_time": "2025-01-14T20:09:20.016229Z"
    }
   },
   "outputs": [
    {
     "name": "stdout",
     "output_type": "stream",
     "text": [
      "\n",
      "Comparison of Train, Validation, and Test Statistics:\n",
      "\n",
      "mean: Train = 0.036471603247337045, Validation = 0.08618955735117197, Test = 0.08427472431212664\n",
      "\n",
      "std: Train = 0.0128268243524932, Validation = 0.04043567740642303, Test = 0.05654485314658856\n",
      "\n",
      "min: Train = 0.015660231932997704, Validation = 0.027395742014050484, Test = 0.028697440400719643\n",
      "\n",
      "median: Train = 0.03440704569220543, Validation = 0.07606834545731544, Test = 0.06953674182295799\n",
      "\n",
      "max: Train = 0.09359276294708252, Validation = 0.19279725849628448, Test = 0.31772178411483765\n",
      "\n"
     ]
    }
   ],
   "source": [
    "# In this cell, we compute the key statistics of the relative L2 error for the training and testing sets, and compare the statistics\n",
    "\n",
    "# 计算张量的统计量\n",
    "def get_statistics(array):\n",
    "    stats = {\n",
    "        'mean': np.mean(array),\n",
    "        'std': np.std(array),\n",
    "        'min': np.min(array),\n",
    "        'median': np.median(array),\n",
    "        'max': np.max(array)\n",
    "    }\n",
    "    return stats\n",
    "\n",
    "# 比较两个张量的统计量\n",
    "def compare_statistics(statistics1, statistics2, statistics3, output_file):\n",
    "    comparison = {}\n",
    "    for key in statistics1.keys():\n",
    "        comparison[key] = {\n",
    "            'train': statistics1[key],\n",
    "            'validation': statistics2[key],\n",
    "            'test': statistics3[key],\n",
    "        }\n",
    "\n",
    "    with open(output_file, 'w') as f:\n",
    "        f.write(\"\\nComparison of Train, Validation, and Test Statistics:\\n\")\n",
    "        print(\"\\nComparison of Train, Validation, and Test Statistics:\\n\")\n",
    "        for key, values in comparison.items():\n",
    "            f.write(f\"{key}: Train = {values['train']}, Validation = {values['validation']}, Test = {values['test']}\\n\")\n",
    "            print(f\"{key}: Train = {values['train']}, Validation = {values['validation']}, Test = {values['test']}\\n\")\n",
    "\n",
    "# 获取训练和测试张量的统计量\n",
    "train_statistics = get_statistics(train_relative_l2_err)\n",
    "validation_statistics = get_statistics(validation_relative_l2_err)\n",
    "test_statistics = get_statistics(test_relative_l2_err)\n",
    "\n",
    "# 比较两个统计量并打印结果\n",
    "compare_statistics(train_statistics, validation_statistics, test_statistics, model_stat_file)"
   ]
  },
  {
   "cell_type": "code",
   "execution_count": 112,
   "id": "cfcd387c4e5375de",
   "metadata": {
    "ExecuteTime": {
     "end_time": "2025-01-14T20:09:20.568051Z",
     "start_time": "2025-01-14T20:09:20.104102Z"
    }
   },
   "outputs": [
    {
     "data": {
      "image/png": "[encoded data removed]",
      "text/plain": [
       "<Figure size 1000x600 with 1 Axes>"
      ]
     },
     "metadata": {},
     "output_type": "display_data"
    }
   ],
   "source": [
    "import matplotlib.pyplot as plt\n",
    "import numpy as np\n",
    "\n",
    "def plot_statistics_comparison(train_statistics, validation_statistics, test_statistics, y_limit=None):\n",
    "    \"\"\"\n",
    "    Plot the comparison of train and test statistics in a bar chart.\n",
    "\n",
    "    Parameters:\n",
    "    - train_statistics: Dictionary of training statistics.\n",
    "    - validation_statistics: Dictionary of validation statistics.\n",
    "    - test_statistics: Dictionary of testing statistics.\n",
    "    - y_limit: Limit for the y-axis.\n",
    "    \"\"\"\n",
    "    # Extract statistics data for plotting\n",
    "    labels = list(train_statistics.keys())\n",
    "    train_values = [train_statistics[key] for key in labels]\n",
    "    validation_values = [validation_statistics[key] for key in labels]\n",
    "    test_values = [test_statistics[key] for key in labels]\n",
    "\n",
    "    # Set up the plot\n",
    "    bar_positions = np.arange(len(labels))  # Number of labels\n",
    "    width = 0.25  # Width of the bars\n",
    "\n",
    "    fig, ax = plt.subplots(figsize=(10, 6))\n",
    "    bars1 = ax.bar(bar_positions - width, train_values, width, label='Train', color='red')\n",
    "    bars2 = ax.bar(bar_positions, validation_values, width, label='Validation', color='green')\n",
    "    bars3 = ax.bar(bar_positions + width, test_values, width, label='Test', color='blue')\n",
    "\n",
    "    # Add labels and title\n",
    "    ax.set_ylabel('Values')\n",
    "    ax.set_title('Comparison of Statistics')\n",
    "    ax.set_xticks(bar_positions)\n",
    "    ax.set_xticklabels(labels)\n",
    "    ax.legend()\n",
    "\n",
    "    # Set y-axis limit if provided\n",
    "    if y_limit:\n",
    "        ax.set_ylim(y_limit)\n",
    "\n",
    "    # Add data labels with more decimal points\n",
    "    def add_data_labels(bars):\n",
    "        for bar in bars:\n",
    "            height = bar.get_height()\n",
    "            ax.annotate(f'{height:.2f}',  # Keep four decimal places\n",
    "                        xy=(bar.get_x() + bar.get_width() / 2, height),\n",
    "                        xytext=(0, 3),  # Offset upwards\n",
    "                        textcoords=\"offset points\",\n",
    "                        ha='center', va='bottom')\n",
    "\n",
    "    add_data_labels(bars1)\n",
    "    add_data_labels(bars2)\n",
    "    add_data_labels(bars3)\n",
    "\n",
    "    plt.grid(axis='y')\n",
    "\n",
    "    output_image = os.path.join(model_train_directory, f\"{problem}_Var{var}_Visc{visc}_Struct{struct}_Sensor{n_points}_Boundary{boundary_parameter}_Initial{initial_parameter}_Batch{batch_size}_statplot.png\")\n",
    "    # 文件名格式\n",
    "    # 保存图像为 PNG 文件\n",
    "    plt.savefig(output_image)\n",
    "\n",
    "    plt.show()\n",
    "\n",
    "# Example usage with y-axis limit\n",
    "plot_statistics_comparison(train_statistics, validation_statistics, test_statistics, y_limit=(0, 0.55))"
   ]
  },
  {
   "cell_type": "code",
   "execution_count": 113,
   "id": "f72554bdcf99e61",
   "metadata": {
    "ExecuteTime": {
     "end_time": "2025-01-14T20:09:21.328043Z",
     "start_time": "2025-01-14T20:09:20.665379Z"
    }
   },
   "outputs": [
    {
     "data": {
      "image/png": "[encoded data removed]",
      "text/plain": [
       "<Figure size 1800x500 with 3 Axes>"
      ]
     },
     "metadata": {},
     "output_type": "display_data"
    }
   ],
   "source": [
    "import matplotlib.pyplot as plt\n",
    "import numpy as np\n",
    "import os\n",
    "\n",
    "def plot_triple_histogram(array1, array2, array3, bins=50, x_range=(0, 0.55), y_limit1=None, y_limit2=None, y_limit3=None,\n",
    "                          color1='red', color2='green', color3='blue',\n",
    "                          title1='Train Relative Error Distribution', title2='Validation Relative Error Distribution', title3='Test Relative Error Distribution'):\n",
    "    \"\"\"\n",
    "    Plot three 1D array histograms side by side.\n",
    "    Parameters:\n",
    "    - array1: Data for the first array.\n",
    "    - array2: Data for the second array.\n",
    "    - array3: Data for the third array.\n",
    "    - bins: Number of bins for the histogram.\n",
    "    - x_range: Range of the histogram.\n",
    "    - y_limit1: Limit for the y-axis of the first histogram.\n",
    "    - y_limit2: Limit for the y-axis of the second histogram.\n",
    "    - y_limit3: Limit for the y-axis of the third histogram.\n",
    "    - color1: Color for the first histogram.\n",
    "    - color2: Color for the second histogram.\n",
    "    - color3: Color for the third histogram.\n",
    "    - title1: Title for the first histogram.\n",
    "    - title2: Title for the second histogram.\n",
    "    - title3: Title for the third histogram.\n",
    "    \"\"\"\n",
    "    # Create three subplots for the histograms\n",
    "    fig, axs = plt.subplots(1, 3, figsize=(18, 5))\n",
    "\n",
    "    # Plot the first histogram\n",
    "    axs[0].hist(array1, bins=bins, range=x_range, alpha=0.7, color=color1)\n",
    "    axs[0].set_title(title1)\n",
    "    axs[0].set_xlabel('Value')\n",
    "    axs[0].set_ylabel('Frequency')\n",
    "    if y_limit1:\n",
    "        axs[0].set_ylim(y_limit1)\n",
    "\n",
    "    # Plot the second histogram\n",
    "    axs[1].hist(array2, bins=bins, range=x_range, alpha=0.7, color=color2)\n",
    "    axs[1].set_title(title2)\n",
    "    axs[1].set_xlabel('Value')\n",
    "    axs[1].set_ylabel('Frequency')\n",
    "    if y_limit2:\n",
    "        axs[1].set_ylim(y_limit2)\n",
    "\n",
    "    # Plot the third histogram\n",
    "    axs[2].hist(array3, bins=bins, range=x_range, alpha=0.7, color=color3)\n",
    "    axs[2].set_title(title3)\n",
    "    axs[2].set_xlabel('Value')\n",
    "    axs[2].set_ylabel('Frequency')\n",
    "    if y_limit3:\n",
    "        axs[2].set_ylim(y_limit3)\n",
    "\n",
    "    # Adjust layout to prevent overlap\n",
    "    plt.tight_layout()\n",
    "\n",
    "    # Define the output image path\n",
    "    output_image = os.path.join(model_train_directory, f\"{problem}_Var{var}_Visc{visc}_Struct{struct}_Sensor{n_points}_Boundary{boundary_parameter}_Initial{initial_parameter}_Batch{batch_size}_hist.png\")\n",
    "\n",
    "    # Save the plot as a PNG file\n",
    "    plt.savefig(output_image)\n",
    "\n",
    "    # Show the plot\n",
    "    plt.show()\n",
    "\n",
    "plot_triple_histogram(train_relative_l2_err, validation_relative_l2_err, test_relative_l2_err, y_limit1=(0, 250), y_limit2=(0, 25), y_limit3=(0, 25))"
   ]
  },
  {
   "cell_type": "code",
   "execution_count": 114,
   "id": "93979baa12a17d21",
   "metadata": {
    "ExecuteTime": {
     "end_time": "2025-01-14T20:09:21.450153Z",
     "start_time": "2025-01-14T20:09:21.442249Z"
    }
   },
   "outputs": [
    {
     "name": "stdout",
     "output_type": "stream",
     "text": [
      "The training time for each iteration is: 0.019414 seconds.\n"
     ]
    }
   ],
   "source": [
    "time_list_path = os.path.join(model_train_directory, f\"{problem}_Var{var}_Visc{visc}_Struct{struct}_Sensor{n_points}_Boundary{boundary_parameter}_Initial{initial_parameter}_Batch{batch_size}-time.npy\")\n",
    "time_list = np.load(time_list_path)\n",
    "time_mean = np.mean(time_list)\n",
    "\n",
    "time_output = os.path.join(model_train_directory, f\"{problem}_Var{var}_Visc{visc}_Struct{struct}_Sensor{n_points}_Boundary{boundary_parameter}_Initial{initial_parameter}_Batch{batch_size}_time.txt\")\n",
    "with open(time_output, 'w') as f:\n",
    "    f.write(f\"The training time for each iteration is: {time_mean:.6f} seconds.\")\n",
    "    print(f\"The training time for each iteration is: {time_mean:.6f} seconds.\")"
   ]
  }
 ],
 "metadata": {
  "kernelspec": {
   "display_name": "Python 3",
   "language": "python",
   "name": "python3"
  },
  "language_info": {
   "codemirror_mode": {
    "name": "ipython",
    "version": 2
   },
   "file_extension": ".py",
   "mimetype": "text/x-python",
   "name": "python",
   "nbconvert_exporter": "python",
   "pygments_lexer": "ipython2",
   "version": "2.7.6"
  }
 },
 "nbformat": 4,
 "nbformat_minor": 5
}
