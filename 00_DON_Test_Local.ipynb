{
 "cells": [
  {
   "metadata": {
    "ExecuteTime": {
     "end_time": "2024-11-10T02:02:57.981078Z",
     "start_time": "2024-11-10T02:02:57.965335Z"
    }
   },
   "cell_type": "code",
   "source": [
    "import os\n",
    "\n",
    "# This is a test to see if the current working directory is the same as the directory\n",
    "# where the notebook is located\n",
    "\n",
    "print(os.getcwd())"
   ],
   "id": "fcbfeb9bd7eb0b5c",
   "outputs": [
    {
     "name": "stdout",
     "output_type": "stream",
     "text": [
      "C:\\Users\\weiz828\\DON\n"
     ]
    }
   ],
   "execution_count": 1
  }
 ],
 "metadata": {
  "kernelspec": {
   "display_name": "Python 3",
   "language": "python",
   "name": "python3"
  },
  "language_info": {
   "codemirror_mode": {
    "name": "ipython",
    "version": 2
   },
   "file_extension": ".py",
   "mimetype": "text/x-python",
   "name": "python",
   "nbconvert_exporter": "python",
   "pygments_lexer": "ipython2",
   "version": "2.7.6"
  }
 },
 "nbformat": 4,
 "nbformat_minor": 5
}
